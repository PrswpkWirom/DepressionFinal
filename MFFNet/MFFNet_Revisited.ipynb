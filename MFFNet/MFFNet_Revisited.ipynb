{
 "cells": [
  {
   "cell_type": "code",
   "execution_count": 1,
   "metadata": {},
   "outputs": [],
   "source": [
    "import os\n",
    "import random\n",
    "import pickle\n",
    "import torch\n",
    "import torch.nn as nn\n",
    "from torch.utils.data import Dataset, DataLoader\n",
    "from torch.nn.utils.rnn import pad_sequence\n",
    "import pandas as pd\n",
    "import numpy as np\n",
    "#from transformers import RobertaTokenizer, RobertaModel, Wav2Vec2FeatureExtractor\n",
    "#from transformers.models.wavlm import WavLMModel"
   ]
  },
  {
   "cell_type": "code",
   "execution_count": 2,
   "metadata": {},
   "outputs": [],
   "source": [
    "class PrecomputedEmbeddingsDataset(Dataset):\n",
    "    def __init__(self, embeddings_dir):\n",
    "        \"\"\"\n",
    "        dictionary in .pt:\n",
    "          {\n",
    "            'text_sequence': [num_sentences, text_dim]\n",
    "            'audio_sequence': [num_sentences, audio_dim]\n",
    "            'label': int\n",
    "          }\n",
    "        \"\"\"\n",
    "        self.embeddings_dir = embeddings_dir\n",
    "        self.data = []\n",
    "        self._load_data()\n",
    "\n",
    "    def _load_data(self):\n",
    "        # Get all .pt files in the directory\n",
    "        all_files = [f for f in os.listdir(self.embeddings_dir) if f.endswith('.pt')]\n",
    "        if not all_files:\n",
    "            print(f\"No .pt files found in {self.embeddings_dir}\")\n",
    "\n",
    "        for fname in all_files:\n",
    "            file_path = os.path.join(self.embeddings_dir, fname)\n",
    "            try:\n",
    "                saved_data = torch.load(file_path, map_location='cpu')\n",
    "                text_sequence = saved_data['text_sequence']\n",
    "                audio_sequence = saved_data['audio_sequence']\n",
    "                label = saved_data['label']\n",
    "                self.data.append((text_sequence, audio_sequence, label))\n",
    "            except Exception as e:\n",
    "                print(f\"Error loading {file_path}: {e}\")\n",
    "\n",
    "        print(f\"Loaded {len(self.data)} sessions from {self.embeddings_dir}\")\n",
    "\n",
    "    def __len__(self):\n",
    "        return len(self.data)\n",
    "\n",
    "    def __getitem__(self, idx):\n",
    "        # Returns a tuple: (text_sequence, audio_sequence, label)\n",
    "        return self.data[idx]\n",
    "\n",
    "def collate_fn(batch):\n",
    "    text_seqs = [item[0] for item in batch]  # text embeddings\n",
    "    audio_seqs = [item[1] for item in batch] # audio embeddings\n",
    "    labels = [item[2] for item in batch]\n",
    "\n",
    "    # Compute padding lengths\n",
    "    max_len_text = max(seq.size(0) for seq in text_seqs) if len(text_seqs) > 0 else 0\n",
    "    max_len_audio = max(seq.size(0) for seq in audio_seqs) if len(audio_seqs) > 0 else 0\n",
    "\n",
    "    # Create masks\n",
    "    text_mask = torch.zeros(len(text_seqs), max_len_text, dtype=torch.long)\n",
    "    audio_mask = torch.zeros(len(audio_seqs), max_len_audio, dtype=torch.long)\n",
    "\n",
    "    padded_text = []\n",
    "    for i, seq in enumerate(text_seqs):\n",
    "        original_len = seq.size(0)\n",
    "        if original_len < max_len_text:\n",
    "            diff = max_len_text - original_len\n",
    "            pad_tensor = torch.zeros(diff, seq.size(1))\n",
    "            seq = torch.cat([seq, pad_tensor], dim=0)\n",
    "        padded_text.append(seq.unsqueeze(0))\n",
    "        text_mask[i, :original_len] = 1\n",
    "\n",
    "    padded_text = torch.cat(padded_text, dim=0) if len(padded_text) > 0 else torch.empty(0)\n",
    "\n",
    "    padded_audio = []\n",
    "    for i, seq in enumerate(audio_seqs):\n",
    "        original_len = seq.size(0)\n",
    "        if original_len < max_len_audio:\n",
    "            diff = max_len_audio - original_len\n",
    "            pad_tensor = torch.zeros(diff, seq.size(1))\n",
    "            seq = torch.cat([seq, pad_tensor], dim=0)\n",
    "        padded_audio.append(seq.unsqueeze(0))\n",
    "        audio_mask[i, :original_len] = 1\n",
    "\n",
    "    padded_audio = torch.cat(padded_audio, dim=0) if len(padded_audio) > 0 else torch.empty(0)\n",
    "    labels = torch.tensor(labels, dtype=torch.long)\n",
    "\n",
    "    return padded_text, padded_audio, text_mask, audio_mask, labels"
   ]
  },
  {
   "cell_type": "code",
   "execution_count": 7,
   "metadata": {},
   "outputs": [],
   "source": [
    "train_embedding_dir = '/home/popsatorn/Desktop/DD_FinalProject/Embeddings_Base/train'\n",
    "val_embedding_dir = '/home/popsatorn/Desktop/DD_FinalProject/Embeddings_Base/validate'\n",
    "test_embedding_dir = '/home/popsatorn/Desktop/DD_FinalProject/Embeddings_Base/test'"
   ]
  },
  {
   "cell_type": "code",
   "execution_count": 9,
   "metadata": {},
   "outputs": [
    {
     "name": "stderr",
     "output_type": "stream",
     "text": [
      "/tmp/ipykernel_12771/3180217892.py:24: FutureWarning: You are using `torch.load` with `weights_only=False` (the current default value), which uses the default pickle module implicitly. It is possible to construct malicious pickle data which will execute arbitrary code during unpickling (See https://github.com/pytorch/pytorch/blob/main/SECURITY.md#untrusted-models for more details). In a future release, the default value for `weights_only` will be flipped to `True`. This limits the functions that could be executed during unpickling. Arbitrary objects will no longer be allowed to be loaded via this mode unless they are explicitly allowlisted by the user via `torch.serialization.add_safe_globals`. We recommend you start setting `weights_only=True` for any use case where you don't have full control of the loaded file. Please open an issue on GitHub for any issues related to this experimental feature.\n",
      "  saved_data = torch.load(file_path, map_location='cpu')\n"
     ]
    },
    {
     "name": "stdout",
     "output_type": "stream",
     "text": [
      "Loaded 127 sessions from /home/popsatorn/Desktop/DD_FinalProject/Embeddings_Base/train\n",
      "Loaded 30 sessions from /home/popsatorn/Desktop/DD_FinalProject/Embeddings_Base/validate\n",
      "Loaded 31 sessions from /home/popsatorn/Desktop/DD_FinalProject/Embeddings_Base/test\n"
     ]
    }
   ],
   "source": [
    "train_dataset = PrecomputedEmbeddingsDataset(train_embedding_dir)\n",
    "train_loader = DataLoader(train_dataset, batch_size=32, shuffle=True, collate_fn=collate_fn)\n",
    "\n",
    "val_dataset = PrecomputedEmbeddingsDataset(val_embedding_dir)\n",
    "val_loader = DataLoader(val_dataset, batch_size=32, shuffle=True, collate_fn=collate_fn)\n",
    "\n",
    "test_dataset = PrecomputedEmbeddingsDataset(test_embedding_dir)\n",
    "test_loader = DataLoader(val_dataset, batch_size=32, shuffle=True, collate_fn=collate_fn)"
   ]
  },
  {
   "cell_type": "code",
   "execution_count": null,
   "metadata": {},
   "outputs": [],
   "source": []
  }
 ],
 "metadata": {
  "kernelspec": {
   "display_name": ".venv",
   "language": "python",
   "name": "python3"
  },
  "language_info": {
   "codemirror_mode": {
    "name": "ipython",
    "version": 3
   },
   "file_extension": ".py",
   "mimetype": "text/x-python",
   "name": "python",
   "nbconvert_exporter": "python",
   "pygments_lexer": "ipython3",
   "version": "3.12.3"
  }
 },
 "nbformat": 4,
 "nbformat_minor": 2
}
