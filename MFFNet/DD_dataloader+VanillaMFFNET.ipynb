{
  "nbformat": 4,
  "nbformat_minor": 0,
  "metadata": {
    "colab": {
      "provenance": [],
      "machine_shape": "hm",
      "collapsed_sections": [
        "zuM0stOUXTJb"
      ],
      "gpuType": "L4",
      "include_colab_link": true
    },
    "kernelspec": {
      "name": "python3",
      "display_name": "Python 3"
    },
    "language_info": {
      "name": "python"
    },
    "accelerator": "GPU",
    "widgets": {
      "application/vnd.jupyter.widget-state+json": {
        "0b518bb8274e44cb9d7f5811b700e419": {
          "model_module": "@jupyter-widgets/controls",
          "model_name": "HBoxModel",
          "model_module_version": "1.5.0",
          "state": {
            "_dom_classes": [],
            "_model_module": "@jupyter-widgets/controls",
            "_model_module_version": "1.5.0",
            "_model_name": "HBoxModel",
            "_view_count": null,
            "_view_module": "@jupyter-widgets/controls",
            "_view_module_version": "1.5.0",
            "_view_name": "HBoxView",
            "box_style": "",
            "children": [
              "IPY_MODEL_1ea0e69b73404765b86736efb8cfb958",
              "IPY_MODEL_24f6feae90bf496b9ea3e4c62b725b9b",
              "IPY_MODEL_ac691ebff8614e2b9b1656c11d4ea197"
            ],
            "layout": "IPY_MODEL_c0f448c588524a05a8ac445ef6060f1f"
          }
        },
        "1ea0e69b73404765b86736efb8cfb958": {
          "model_module": "@jupyter-widgets/controls",
          "model_name": "HTMLModel",
          "model_module_version": "1.5.0",
          "state": {
            "_dom_classes": [],
            "_model_module": "@jupyter-widgets/controls",
            "_model_module_version": "1.5.0",
            "_model_name": "HTMLModel",
            "_view_count": null,
            "_view_module": "@jupyter-widgets/controls",
            "_view_module_version": "1.5.0",
            "_view_name": "HTMLView",
            "description": "",
            "description_tooltip": null,
            "layout": "IPY_MODEL_9be007d725c947f48198a44447ce6a46",
            "placeholder": "​",
            "style": "IPY_MODEL_dc6184be4a10488d90f6bb8e70992207",
            "value": "preprocessor_config.json: 100%"
          }
        },
        "24f6feae90bf496b9ea3e4c62b725b9b": {
          "model_module": "@jupyter-widgets/controls",
          "model_name": "FloatProgressModel",
          "model_module_version": "1.5.0",
          "state": {
            "_dom_classes": [],
            "_model_module": "@jupyter-widgets/controls",
            "_model_module_version": "1.5.0",
            "_model_name": "FloatProgressModel",
            "_view_count": null,
            "_view_module": "@jupyter-widgets/controls",
            "_view_module_version": "1.5.0",
            "_view_name": "ProgressView",
            "bar_style": "success",
            "description": "",
            "description_tooltip": null,
            "layout": "IPY_MODEL_86642f4ae7f341f1beef9ad3841058b8",
            "max": 214,
            "min": 0,
            "orientation": "horizontal",
            "style": "IPY_MODEL_91668a77b3b8495f9f524e21ce784373",
            "value": 214
          }
        },
        "ac691ebff8614e2b9b1656c11d4ea197": {
          "model_module": "@jupyter-widgets/controls",
          "model_name": "HTMLModel",
          "model_module_version": "1.5.0",
          "state": {
            "_dom_classes": [],
            "_model_module": "@jupyter-widgets/controls",
            "_model_module_version": "1.5.0",
            "_model_name": "HTMLModel",
            "_view_count": null,
            "_view_module": "@jupyter-widgets/controls",
            "_view_module_version": "1.5.0",
            "_view_name": "HTMLView",
            "description": "",
            "description_tooltip": null,
            "layout": "IPY_MODEL_84d77d245dcf4fbf81ffa7f970369aaf",
            "placeholder": "​",
            "style": "IPY_MODEL_2ae9f8c74f5e47a28d4f7b3fe85bd166",
            "value": " 214/214 [00:00&lt;00:00, 19.0kB/s]"
          }
        },
        "c0f448c588524a05a8ac445ef6060f1f": {
          "model_module": "@jupyter-widgets/base",
          "model_name": "LayoutModel",
          "model_module_version": "1.2.0",
          "state": {
            "_model_module": "@jupyter-widgets/base",
            "_model_module_version": "1.2.0",
            "_model_name": "LayoutModel",
            "_view_count": null,
            "_view_module": "@jupyter-widgets/base",
            "_view_module_version": "1.2.0",
            "_view_name": "LayoutView",
            "align_content": null,
            "align_items": null,
            "align_self": null,
            "border": null,
            "bottom": null,
            "display": null,
            "flex": null,
            "flex_flow": null,
            "grid_area": null,
            "grid_auto_columns": null,
            "grid_auto_flow": null,
            "grid_auto_rows": null,
            "grid_column": null,
            "grid_gap": null,
            "grid_row": null,
            "grid_template_areas": null,
            "grid_template_columns": null,
            "grid_template_rows": null,
            "height": null,
            "justify_content": null,
            "justify_items": null,
            "left": null,
            "margin": null,
            "max_height": null,
            "max_width": null,
            "min_height": null,
            "min_width": null,
            "object_fit": null,
            "object_position": null,
            "order": null,
            "overflow": null,
            "overflow_x": null,
            "overflow_y": null,
            "padding": null,
            "right": null,
            "top": null,
            "visibility": null,
            "width": null
          }
        },
        "9be007d725c947f48198a44447ce6a46": {
          "model_module": "@jupyter-widgets/base",
          "model_name": "LayoutModel",
          "model_module_version": "1.2.0",
          "state": {
            "_model_module": "@jupyter-widgets/base",
            "_model_module_version": "1.2.0",
            "_model_name": "LayoutModel",
            "_view_count": null,
            "_view_module": "@jupyter-widgets/base",
            "_view_module_version": "1.2.0",
            "_view_name": "LayoutView",
            "align_content": null,
            "align_items": null,
            "align_self": null,
            "border": null,
            "bottom": null,
            "display": null,
            "flex": null,
            "flex_flow": null,
            "grid_area": null,
            "grid_auto_columns": null,
            "grid_auto_flow": null,
            "grid_auto_rows": null,
            "grid_column": null,
            "grid_gap": null,
            "grid_row": null,
            "grid_template_areas": null,
            "grid_template_columns": null,
            "grid_template_rows": null,
            "height": null,
            "justify_content": null,
            "justify_items": null,
            "left": null,
            "margin": null,
            "max_height": null,
            "max_width": null,
            "min_height": null,
            "min_width": null,
            "object_fit": null,
            "object_position": null,
            "order": null,
            "overflow": null,
            "overflow_x": null,
            "overflow_y": null,
            "padding": null,
            "right": null,
            "top": null,
            "visibility": null,
            "width": null
          }
        },
        "dc6184be4a10488d90f6bb8e70992207": {
          "model_module": "@jupyter-widgets/controls",
          "model_name": "DescriptionStyleModel",
          "model_module_version": "1.5.0",
          "state": {
            "_model_module": "@jupyter-widgets/controls",
            "_model_module_version": "1.5.0",
            "_model_name": "DescriptionStyleModel",
            "_view_count": null,
            "_view_module": "@jupyter-widgets/base",
            "_view_module_version": "1.2.0",
            "_view_name": "StyleView",
            "description_width": ""
          }
        },
        "86642f4ae7f341f1beef9ad3841058b8": {
          "model_module": "@jupyter-widgets/base",
          "model_name": "LayoutModel",
          "model_module_version": "1.2.0",
          "state": {
            "_model_module": "@jupyter-widgets/base",
            "_model_module_version": "1.2.0",
            "_model_name": "LayoutModel",
            "_view_count": null,
            "_view_module": "@jupyter-widgets/base",
            "_view_module_version": "1.2.0",
            "_view_name": "LayoutView",
            "align_content": null,
            "align_items": null,
            "align_self": null,
            "border": null,
            "bottom": null,
            "display": null,
            "flex": null,
            "flex_flow": null,
            "grid_area": null,
            "grid_auto_columns": null,
            "grid_auto_flow": null,
            "grid_auto_rows": null,
            "grid_column": null,
            "grid_gap": null,
            "grid_row": null,
            "grid_template_areas": null,
            "grid_template_columns": null,
            "grid_template_rows": null,
            "height": null,
            "justify_content": null,
            "justify_items": null,
            "left": null,
            "margin": null,
            "max_height": null,
            "max_width": null,
            "min_height": null,
            "min_width": null,
            "object_fit": null,
            "object_position": null,
            "order": null,
            "overflow": null,
            "overflow_x": null,
            "overflow_y": null,
            "padding": null,
            "right": null,
            "top": null,
            "visibility": null,
            "width": null
          }
        },
        "91668a77b3b8495f9f524e21ce784373": {
          "model_module": "@jupyter-widgets/controls",
          "model_name": "ProgressStyleModel",
          "model_module_version": "1.5.0",
          "state": {
            "_model_module": "@jupyter-widgets/controls",
            "_model_module_version": "1.5.0",
            "_model_name": "ProgressStyleModel",
            "_view_count": null,
            "_view_module": "@jupyter-widgets/base",
            "_view_module_version": "1.2.0",
            "_view_name": "StyleView",
            "bar_color": null,
            "description_width": ""
          }
        },
        "84d77d245dcf4fbf81ffa7f970369aaf": {
          "model_module": "@jupyter-widgets/base",
          "model_name": "LayoutModel",
          "model_module_version": "1.2.0",
          "state": {
            "_model_module": "@jupyter-widgets/base",
            "_model_module_version": "1.2.0",
            "_model_name": "LayoutModel",
            "_view_count": null,
            "_view_module": "@jupyter-widgets/base",
            "_view_module_version": "1.2.0",
            "_view_name": "LayoutView",
            "align_content": null,
            "align_items": null,
            "align_self": null,
            "border": null,
            "bottom": null,
            "display": null,
            "flex": null,
            "flex_flow": null,
            "grid_area": null,
            "grid_auto_columns": null,
            "grid_auto_flow": null,
            "grid_auto_rows": null,
            "grid_column": null,
            "grid_gap": null,
            "grid_row": null,
            "grid_template_areas": null,
            "grid_template_columns": null,
            "grid_template_rows": null,
            "height": null,
            "justify_content": null,
            "justify_items": null,
            "left": null,
            "margin": null,
            "max_height": null,
            "max_width": null,
            "min_height": null,
            "min_width": null,
            "object_fit": null,
            "object_position": null,
            "order": null,
            "overflow": null,
            "overflow_x": null,
            "overflow_y": null,
            "padding": null,
            "right": null,
            "top": null,
            "visibility": null,
            "width": null
          }
        },
        "2ae9f8c74f5e47a28d4f7b3fe85bd166": {
          "model_module": "@jupyter-widgets/controls",
          "model_name": "DescriptionStyleModel",
          "model_module_version": "1.5.0",
          "state": {
            "_model_module": "@jupyter-widgets/controls",
            "_model_module_version": "1.5.0",
            "_model_name": "DescriptionStyleModel",
            "_view_count": null,
            "_view_module": "@jupyter-widgets/base",
            "_view_module_version": "1.2.0",
            "_view_name": "StyleView",
            "description_width": ""
          }
        },
        "1d5482a585dd423e91460611964455cb": {
          "model_module": "@jupyter-widgets/controls",
          "model_name": "HBoxModel",
          "model_module_version": "1.5.0",
          "state": {
            "_dom_classes": [],
            "_model_module": "@jupyter-widgets/controls",
            "_model_module_version": "1.5.0",
            "_model_name": "HBoxModel",
            "_view_count": null,
            "_view_module": "@jupyter-widgets/controls",
            "_view_module_version": "1.5.0",
            "_view_name": "HBoxView",
            "box_style": "",
            "children": [
              "IPY_MODEL_b5f1ec9e74074359838e6ecc3182ebcf",
              "IPY_MODEL_316fd54e724d4cdc88c5824e29f7feae",
              "IPY_MODEL_be14ce57b5c14857a0258c0ddef01300"
            ],
            "layout": "IPY_MODEL_4b1ad0b3bfe34cfc9a368951c36ab7f8"
          }
        },
        "b5f1ec9e74074359838e6ecc3182ebcf": {
          "model_module": "@jupyter-widgets/controls",
          "model_name": "HTMLModel",
          "model_module_version": "1.5.0",
          "state": {
            "_dom_classes": [],
            "_model_module": "@jupyter-widgets/controls",
            "_model_module_version": "1.5.0",
            "_model_name": "HTMLModel",
            "_view_count": null,
            "_view_module": "@jupyter-widgets/controls",
            "_view_module_version": "1.5.0",
            "_view_name": "HTMLView",
            "description": "",
            "description_tooltip": null,
            "layout": "IPY_MODEL_c2c804cff5a84dae80b6e7989d29a1f9",
            "placeholder": "​",
            "style": "IPY_MODEL_2d135157f59b41d9b879bd69a61f7ccb",
            "value": "config.json: 100%"
          }
        },
        "316fd54e724d4cdc88c5824e29f7feae": {
          "model_module": "@jupyter-widgets/controls",
          "model_name": "FloatProgressModel",
          "model_module_version": "1.5.0",
          "state": {
            "_dom_classes": [],
            "_model_module": "@jupyter-widgets/controls",
            "_model_module_version": "1.5.0",
            "_model_name": "FloatProgressModel",
            "_view_count": null,
            "_view_module": "@jupyter-widgets/controls",
            "_view_module_version": "1.5.0",
            "_view_name": "ProgressView",
            "bar_style": "success",
            "description": "",
            "description_tooltip": null,
            "layout": "IPY_MODEL_901201e5709a4c6c9ca5fd65692ddf3d",
            "max": 2222,
            "min": 0,
            "orientation": "horizontal",
            "style": "IPY_MODEL_4443abff572240b98960c7ed6f503bc5",
            "value": 2222
          }
        },
        "be14ce57b5c14857a0258c0ddef01300": {
          "model_module": "@jupyter-widgets/controls",
          "model_name": "HTMLModel",
          "model_module_version": "1.5.0",
          "state": {
            "_dom_classes": [],
            "_model_module": "@jupyter-widgets/controls",
            "_model_module_version": "1.5.0",
            "_model_name": "HTMLModel",
            "_view_count": null,
            "_view_module": "@jupyter-widgets/controls",
            "_view_module_version": "1.5.0",
            "_view_name": "HTMLView",
            "description": "",
            "description_tooltip": null,
            "layout": "IPY_MODEL_7fd8fadf0a7e4e37b83e51a7c73ff4d1",
            "placeholder": "​",
            "style": "IPY_MODEL_d84ee1cf1f5940ffb16dd387ed2fc8d7",
            "value": " 2.22k/2.22k [00:00&lt;00:00, 192kB/s]"
          }
        },
        "4b1ad0b3bfe34cfc9a368951c36ab7f8": {
          "model_module": "@jupyter-widgets/base",
          "model_name": "LayoutModel",
          "model_module_version": "1.2.0",
          "state": {
            "_model_module": "@jupyter-widgets/base",
            "_model_module_version": "1.2.0",
            "_model_name": "LayoutModel",
            "_view_count": null,
            "_view_module": "@jupyter-widgets/base",
            "_view_module_version": "1.2.0",
            "_view_name": "LayoutView",
            "align_content": null,
            "align_items": null,
            "align_self": null,
            "border": null,
            "bottom": null,
            "display": null,
            "flex": null,
            "flex_flow": null,
            "grid_area": null,
            "grid_auto_columns": null,
            "grid_auto_flow": null,
            "grid_auto_rows": null,
            "grid_column": null,
            "grid_gap": null,
            "grid_row": null,
            "grid_template_areas": null,
            "grid_template_columns": null,
            "grid_template_rows": null,
            "height": null,
            "justify_content": null,
            "justify_items": null,
            "left": null,
            "margin": null,
            "max_height": null,
            "max_width": null,
            "min_height": null,
            "min_width": null,
            "object_fit": null,
            "object_position": null,
            "order": null,
            "overflow": null,
            "overflow_x": null,
            "overflow_y": null,
            "padding": null,
            "right": null,
            "top": null,
            "visibility": null,
            "width": null
          }
        },
        "c2c804cff5a84dae80b6e7989d29a1f9": {
          "model_module": "@jupyter-widgets/base",
          "model_name": "LayoutModel",
          "model_module_version": "1.2.0",
          "state": {
            "_model_module": "@jupyter-widgets/base",
            "_model_module_version": "1.2.0",
            "_model_name": "LayoutModel",
            "_view_count": null,
            "_view_module": "@jupyter-widgets/base",
            "_view_module_version": "1.2.0",
            "_view_name": "LayoutView",
            "align_content": null,
            "align_items": null,
            "align_self": null,
            "border": null,
            "bottom": null,
            "display": null,
            "flex": null,
            "flex_flow": null,
            "grid_area": null,
            "grid_auto_columns": null,
            "grid_auto_flow": null,
            "grid_auto_rows": null,
            "grid_column": null,
            "grid_gap": null,
            "grid_row": null,
            "grid_template_areas": null,
            "grid_template_columns": null,
            "grid_template_rows": null,
            "height": null,
            "justify_content": null,
            "justify_items": null,
            "left": null,
            "margin": null,
            "max_height": null,
            "max_width": null,
            "min_height": null,
            "min_width": null,
            "object_fit": null,
            "object_position": null,
            "order": null,
            "overflow": null,
            "overflow_x": null,
            "overflow_y": null,
            "padding": null,
            "right": null,
            "top": null,
            "visibility": null,
            "width": null
          }
        },
        "2d135157f59b41d9b879bd69a61f7ccb": {
          "model_module": "@jupyter-widgets/controls",
          "model_name": "DescriptionStyleModel",
          "model_module_version": "1.5.0",
          "state": {
            "_model_module": "@jupyter-widgets/controls",
            "_model_module_version": "1.5.0",
            "_model_name": "DescriptionStyleModel",
            "_view_count": null,
            "_view_module": "@jupyter-widgets/base",
            "_view_module_version": "1.2.0",
            "_view_name": "StyleView",
            "description_width": ""
          }
        },
        "901201e5709a4c6c9ca5fd65692ddf3d": {
          "model_module": "@jupyter-widgets/base",
          "model_name": "LayoutModel",
          "model_module_version": "1.2.0",
          "state": {
            "_model_module": "@jupyter-widgets/base",
            "_model_module_version": "1.2.0",
            "_model_name": "LayoutModel",
            "_view_count": null,
            "_view_module": "@jupyter-widgets/base",
            "_view_module_version": "1.2.0",
            "_view_name": "LayoutView",
            "align_content": null,
            "align_items": null,
            "align_self": null,
            "border": null,
            "bottom": null,
            "display": null,
            "flex": null,
            "flex_flow": null,
            "grid_area": null,
            "grid_auto_columns": null,
            "grid_auto_flow": null,
            "grid_auto_rows": null,
            "grid_column": null,
            "grid_gap": null,
            "grid_row": null,
            "grid_template_areas": null,
            "grid_template_columns": null,
            "grid_template_rows": null,
            "height": null,
            "justify_content": null,
            "justify_items": null,
            "left": null,
            "margin": null,
            "max_height": null,
            "max_width": null,
            "min_height": null,
            "min_width": null,
            "object_fit": null,
            "object_position": null,
            "order": null,
            "overflow": null,
            "overflow_x": null,
            "overflow_y": null,
            "padding": null,
            "right": null,
            "top": null,
            "visibility": null,
            "width": null
          }
        },
        "4443abff572240b98960c7ed6f503bc5": {
          "model_module": "@jupyter-widgets/controls",
          "model_name": "ProgressStyleModel",
          "model_module_version": "1.5.0",
          "state": {
            "_model_module": "@jupyter-widgets/controls",
            "_model_module_version": "1.5.0",
            "_model_name": "ProgressStyleModel",
            "_view_count": null,
            "_view_module": "@jupyter-widgets/base",
            "_view_module_version": "1.2.0",
            "_view_name": "StyleView",
            "bar_color": null,
            "description_width": ""
          }
        },
        "7fd8fadf0a7e4e37b83e51a7c73ff4d1": {
          "model_module": "@jupyter-widgets/base",
          "model_name": "LayoutModel",
          "model_module_version": "1.2.0",
          "state": {
            "_model_module": "@jupyter-widgets/base",
            "_model_module_version": "1.2.0",
            "_model_name": "LayoutModel",
            "_view_count": null,
            "_view_module": "@jupyter-widgets/base",
            "_view_module_version": "1.2.0",
            "_view_name": "LayoutView",
            "align_content": null,
            "align_items": null,
            "align_self": null,
            "border": null,
            "bottom": null,
            "display": null,
            "flex": null,
            "flex_flow": null,
            "grid_area": null,
            "grid_auto_columns": null,
            "grid_auto_flow": null,
            "grid_auto_rows": null,
            "grid_column": null,
            "grid_gap": null,
            "grid_row": null,
            "grid_template_areas": null,
            "grid_template_columns": null,
            "grid_template_rows": null,
            "height": null,
            "justify_content": null,
            "justify_items": null,
            "left": null,
            "margin": null,
            "max_height": null,
            "max_width": null,
            "min_height": null,
            "min_width": null,
            "object_fit": null,
            "object_position": null,
            "order": null,
            "overflow": null,
            "overflow_x": null,
            "overflow_y": null,
            "padding": null,
            "right": null,
            "top": null,
            "visibility": null,
            "width": null
          }
        },
        "d84ee1cf1f5940ffb16dd387ed2fc8d7": {
          "model_module": "@jupyter-widgets/controls",
          "model_name": "DescriptionStyleModel",
          "model_module_version": "1.5.0",
          "state": {
            "_model_module": "@jupyter-widgets/controls",
            "_model_module_version": "1.5.0",
            "_model_name": "DescriptionStyleModel",
            "_view_count": null,
            "_view_module": "@jupyter-widgets/base",
            "_view_module_version": "1.2.0",
            "_view_name": "StyleView",
            "description_width": ""
          }
        },
        "a6658e9c1b824249b403ebab8ff71bb9": {
          "model_module": "@jupyter-widgets/controls",
          "model_name": "HBoxModel",
          "model_module_version": "1.5.0",
          "state": {
            "_dom_classes": [],
            "_model_module": "@jupyter-widgets/controls",
            "_model_module_version": "1.5.0",
            "_model_name": "HBoxModel",
            "_view_count": null,
            "_view_module": "@jupyter-widgets/controls",
            "_view_module_version": "1.5.0",
            "_view_name": "HBoxView",
            "box_style": "",
            "children": [
              "IPY_MODEL_6dc0a08cbf6b4ef880325b26c78b16bd",
              "IPY_MODEL_9ba11061bd2d4dbc961cf25a89fff6e9",
              "IPY_MODEL_200efef69ffd487fb27d07bcdb7dba1b"
            ],
            "layout": "IPY_MODEL_ab9c17c2712f4c26a8fb46e9ae116645"
          }
        },
        "6dc0a08cbf6b4ef880325b26c78b16bd": {
          "model_module": "@jupyter-widgets/controls",
          "model_name": "HTMLModel",
          "model_module_version": "1.5.0",
          "state": {
            "_dom_classes": [],
            "_model_module": "@jupyter-widgets/controls",
            "_model_module_version": "1.5.0",
            "_model_name": "HTMLModel",
            "_view_count": null,
            "_view_module": "@jupyter-widgets/controls",
            "_view_module_version": "1.5.0",
            "_view_name": "HTMLView",
            "description": "",
            "description_tooltip": null,
            "layout": "IPY_MODEL_4fbef876ffc64cbe8a868d1986c0e5bb",
            "placeholder": "​",
            "style": "IPY_MODEL_140249d0cee946e395032af7769c7d0b",
            "value": "pytorch_model.bin: 100%"
          }
        },
        "9ba11061bd2d4dbc961cf25a89fff6e9": {
          "model_module": "@jupyter-widgets/controls",
          "model_name": "FloatProgressModel",
          "model_module_version": "1.5.0",
          "state": {
            "_dom_classes": [],
            "_model_module": "@jupyter-widgets/controls",
            "_model_module_version": "1.5.0",
            "_model_name": "FloatProgressModel",
            "_view_count": null,
            "_view_module": "@jupyter-widgets/controls",
            "_view_module_version": "1.5.0",
            "_view_name": "ProgressView",
            "bar_style": "success",
            "description": "",
            "description_tooltip": null,
            "layout": "IPY_MODEL_efb39018289445df8d41cd8df628e0e5",
            "max": 1261990257,
            "min": 0,
            "orientation": "horizontal",
            "style": "IPY_MODEL_eb21020538f54dd09a76f9068dec9a2b",
            "value": 1261990257
          }
        },
        "200efef69ffd487fb27d07bcdb7dba1b": {
          "model_module": "@jupyter-widgets/controls",
          "model_name": "HTMLModel",
          "model_module_version": "1.5.0",
          "state": {
            "_dom_classes": [],
            "_model_module": "@jupyter-widgets/controls",
            "_model_module_version": "1.5.0",
            "_model_name": "HTMLModel",
            "_view_count": null,
            "_view_module": "@jupyter-widgets/controls",
            "_view_module_version": "1.5.0",
            "_view_name": "HTMLView",
            "description": "",
            "description_tooltip": null,
            "layout": "IPY_MODEL_194aeebb3a6f47efaa2493053eb14e98",
            "placeholder": "​",
            "style": "IPY_MODEL_1864f78d9c9a47e986446ee77b10c8ca",
            "value": " 1.26G/1.26G [00:05&lt;00:00, 218MB/s]"
          }
        },
        "ab9c17c2712f4c26a8fb46e9ae116645": {
          "model_module": "@jupyter-widgets/base",
          "model_name": "LayoutModel",
          "model_module_version": "1.2.0",
          "state": {
            "_model_module": "@jupyter-widgets/base",
            "_model_module_version": "1.2.0",
            "_model_name": "LayoutModel",
            "_view_count": null,
            "_view_module": "@jupyter-widgets/base",
            "_view_module_version": "1.2.0",
            "_view_name": "LayoutView",
            "align_content": null,
            "align_items": null,
            "align_self": null,
            "border": null,
            "bottom": null,
            "display": null,
            "flex": null,
            "flex_flow": null,
            "grid_area": null,
            "grid_auto_columns": null,
            "grid_auto_flow": null,
            "grid_auto_rows": null,
            "grid_column": null,
            "grid_gap": null,
            "grid_row": null,
            "grid_template_areas": null,
            "grid_template_columns": null,
            "grid_template_rows": null,
            "height": null,
            "justify_content": null,
            "justify_items": null,
            "left": null,
            "margin": null,
            "max_height": null,
            "max_width": null,
            "min_height": null,
            "min_width": null,
            "object_fit": null,
            "object_position": null,
            "order": null,
            "overflow": null,
            "overflow_x": null,
            "overflow_y": null,
            "padding": null,
            "right": null,
            "top": null,
            "visibility": null,
            "width": null
          }
        },
        "4fbef876ffc64cbe8a868d1986c0e5bb": {
          "model_module": "@jupyter-widgets/base",
          "model_name": "LayoutModel",
          "model_module_version": "1.2.0",
          "state": {
            "_model_module": "@jupyter-widgets/base",
            "_model_module_version": "1.2.0",
            "_model_name": "LayoutModel",
            "_view_count": null,
            "_view_module": "@jupyter-widgets/base",
            "_view_module_version": "1.2.0",
            "_view_name": "LayoutView",
            "align_content": null,
            "align_items": null,
            "align_self": null,
            "border": null,
            "bottom": null,
            "display": null,
            "flex": null,
            "flex_flow": null,
            "grid_area": null,
            "grid_auto_columns": null,
            "grid_auto_flow": null,
            "grid_auto_rows": null,
            "grid_column": null,
            "grid_gap": null,
            "grid_row": null,
            "grid_template_areas": null,
            "grid_template_columns": null,
            "grid_template_rows": null,
            "height": null,
            "justify_content": null,
            "justify_items": null,
            "left": null,
            "margin": null,
            "max_height": null,
            "max_width": null,
            "min_height": null,
            "min_width": null,
            "object_fit": null,
            "object_position": null,
            "order": null,
            "overflow": null,
            "overflow_x": null,
            "overflow_y": null,
            "padding": null,
            "right": null,
            "top": null,
            "visibility": null,
            "width": null
          }
        },
        "140249d0cee946e395032af7769c7d0b": {
          "model_module": "@jupyter-widgets/controls",
          "model_name": "DescriptionStyleModel",
          "model_module_version": "1.5.0",
          "state": {
            "_model_module": "@jupyter-widgets/controls",
            "_model_module_version": "1.5.0",
            "_model_name": "DescriptionStyleModel",
            "_view_count": null,
            "_view_module": "@jupyter-widgets/base",
            "_view_module_version": "1.2.0",
            "_view_name": "StyleView",
            "description_width": ""
          }
        },
        "efb39018289445df8d41cd8df628e0e5": {
          "model_module": "@jupyter-widgets/base",
          "model_name": "LayoutModel",
          "model_module_version": "1.2.0",
          "state": {
            "_model_module": "@jupyter-widgets/base",
            "_model_module_version": "1.2.0",
            "_model_name": "LayoutModel",
            "_view_count": null,
            "_view_module": "@jupyter-widgets/base",
            "_view_module_version": "1.2.0",
            "_view_name": "LayoutView",
            "align_content": null,
            "align_items": null,
            "align_self": null,
            "border": null,
            "bottom": null,
            "display": null,
            "flex": null,
            "flex_flow": null,
            "grid_area": null,
            "grid_auto_columns": null,
            "grid_auto_flow": null,
            "grid_auto_rows": null,
            "grid_column": null,
            "grid_gap": null,
            "grid_row": null,
            "grid_template_areas": null,
            "grid_template_columns": null,
            "grid_template_rows": null,
            "height": null,
            "justify_content": null,
            "justify_items": null,
            "left": null,
            "margin": null,
            "max_height": null,
            "max_width": null,
            "min_height": null,
            "min_width": null,
            "object_fit": null,
            "object_position": null,
            "order": null,
            "overflow": null,
            "overflow_x": null,
            "overflow_y": null,
            "padding": null,
            "right": null,
            "top": null,
            "visibility": null,
            "width": null
          }
        },
        "eb21020538f54dd09a76f9068dec9a2b": {
          "model_module": "@jupyter-widgets/controls",
          "model_name": "ProgressStyleModel",
          "model_module_version": "1.5.0",
          "state": {
            "_model_module": "@jupyter-widgets/controls",
            "_model_module_version": "1.5.0",
            "_model_name": "ProgressStyleModel",
            "_view_count": null,
            "_view_module": "@jupyter-widgets/base",
            "_view_module_version": "1.2.0",
            "_view_name": "StyleView",
            "bar_color": null,
            "description_width": ""
          }
        },
        "194aeebb3a6f47efaa2493053eb14e98": {
          "model_module": "@jupyter-widgets/base",
          "model_name": "LayoutModel",
          "model_module_version": "1.2.0",
          "state": {
            "_model_module": "@jupyter-widgets/base",
            "_model_module_version": "1.2.0",
            "_model_name": "LayoutModel",
            "_view_count": null,
            "_view_module": "@jupyter-widgets/base",
            "_view_module_version": "1.2.0",
            "_view_name": "LayoutView",
            "align_content": null,
            "align_items": null,
            "align_self": null,
            "border": null,
            "bottom": null,
            "display": null,
            "flex": null,
            "flex_flow": null,
            "grid_area": null,
            "grid_auto_columns": null,
            "grid_auto_flow": null,
            "grid_auto_rows": null,
            "grid_column": null,
            "grid_gap": null,
            "grid_row": null,
            "grid_template_areas": null,
            "grid_template_columns": null,
            "grid_template_rows": null,
            "height": null,
            "justify_content": null,
            "justify_items": null,
            "left": null,
            "margin": null,
            "max_height": null,
            "max_width": null,
            "min_height": null,
            "min_width": null,
            "object_fit": null,
            "object_position": null,
            "order": null,
            "overflow": null,
            "overflow_x": null,
            "overflow_y": null,
            "padding": null,
            "right": null,
            "top": null,
            "visibility": null,
            "width": null
          }
        },
        "1864f78d9c9a47e986446ee77b10c8ca": {
          "model_module": "@jupyter-widgets/controls",
          "model_name": "DescriptionStyleModel",
          "model_module_version": "1.5.0",
          "state": {
            "_model_module": "@jupyter-widgets/controls",
            "_model_module_version": "1.5.0",
            "_model_name": "DescriptionStyleModel",
            "_view_count": null,
            "_view_module": "@jupyter-widgets/base",
            "_view_module_version": "1.2.0",
            "_view_name": "StyleView",
            "description_width": ""
          }
        },
        "f03ed1e594f64b00a59e3dfd07520e69": {
          "model_module": "@jupyter-widgets/controls",
          "model_name": "HBoxModel",
          "model_module_version": "1.5.0",
          "state": {
            "_dom_classes": [],
            "_model_module": "@jupyter-widgets/controls",
            "_model_module_version": "1.5.0",
            "_model_name": "HBoxModel",
            "_view_count": null,
            "_view_module": "@jupyter-widgets/controls",
            "_view_module_version": "1.5.0",
            "_view_name": "HBoxView",
            "box_style": "",
            "children": [
              "IPY_MODEL_4d0e7b1b45174a8780e7e17361779260",
              "IPY_MODEL_2f2ccb19cdba49459d25266902bc481c",
              "IPY_MODEL_0c59006f1ccd4b57900604d761a7d805"
            ],
            "layout": "IPY_MODEL_b890db76407b4b53ba953de5ba5e17ad"
          }
        },
        "4d0e7b1b45174a8780e7e17361779260": {
          "model_module": "@jupyter-widgets/controls",
          "model_name": "HTMLModel",
          "model_module_version": "1.5.0",
          "state": {
            "_dom_classes": [],
            "_model_module": "@jupyter-widgets/controls",
            "_model_module_version": "1.5.0",
            "_model_name": "HTMLModel",
            "_view_count": null,
            "_view_module": "@jupyter-widgets/controls",
            "_view_module_version": "1.5.0",
            "_view_name": "HTMLView",
            "description": "",
            "description_tooltip": null,
            "layout": "IPY_MODEL_e27de8654fc247e8a078aceaec00b76b",
            "placeholder": "​",
            "style": "IPY_MODEL_d2fb529de81d4fdf851c5ec767bdba5a",
            "value": "tokenizer_config.json: 100%"
          }
        },
        "2f2ccb19cdba49459d25266902bc481c": {
          "model_module": "@jupyter-widgets/controls",
          "model_name": "FloatProgressModel",
          "model_module_version": "1.5.0",
          "state": {
            "_dom_classes": [],
            "_model_module": "@jupyter-widgets/controls",
            "_model_module_version": "1.5.0",
            "_model_name": "FloatProgressModel",
            "_view_count": null,
            "_view_module": "@jupyter-widgets/controls",
            "_view_module_version": "1.5.0",
            "_view_name": "ProgressView",
            "bar_style": "success",
            "description": "",
            "description_tooltip": null,
            "layout": "IPY_MODEL_95b661536dd843aa9c3ffac42ece192e",
            "max": 25,
            "min": 0,
            "orientation": "horizontal",
            "style": "IPY_MODEL_66d0798c184742cbac40d3784e2714d3",
            "value": 25
          }
        },
        "0c59006f1ccd4b57900604d761a7d805": {
          "model_module": "@jupyter-widgets/controls",
          "model_name": "HTMLModel",
          "model_module_version": "1.5.0",
          "state": {
            "_dom_classes": [],
            "_model_module": "@jupyter-widgets/controls",
            "_model_module_version": "1.5.0",
            "_model_name": "HTMLModel",
            "_view_count": null,
            "_view_module": "@jupyter-widgets/controls",
            "_view_module_version": "1.5.0",
            "_view_name": "HTMLView",
            "description": "",
            "description_tooltip": null,
            "layout": "IPY_MODEL_d43ccbddffc74ca7bee658b641cddc3a",
            "placeholder": "​",
            "style": "IPY_MODEL_caf338686b7645bd8aa398831d96a410",
            "value": " 25.0/25.0 [00:00&lt;00:00, 1.40kB/s]"
          }
        },
        "b890db76407b4b53ba953de5ba5e17ad": {
          "model_module": "@jupyter-widgets/base",
          "model_name": "LayoutModel",
          "model_module_version": "1.2.0",
          "state": {
            "_model_module": "@jupyter-widgets/base",
            "_model_module_version": "1.2.0",
            "_model_name": "LayoutModel",
            "_view_count": null,
            "_view_module": "@jupyter-widgets/base",
            "_view_module_version": "1.2.0",
            "_view_name": "LayoutView",
            "align_content": null,
            "align_items": null,
            "align_self": null,
            "border": null,
            "bottom": null,
            "display": null,
            "flex": null,
            "flex_flow": null,
            "grid_area": null,
            "grid_auto_columns": null,
            "grid_auto_flow": null,
            "grid_auto_rows": null,
            "grid_column": null,
            "grid_gap": null,
            "grid_row": null,
            "grid_template_areas": null,
            "grid_template_columns": null,
            "grid_template_rows": null,
            "height": null,
            "justify_content": null,
            "justify_items": null,
            "left": null,
            "margin": null,
            "max_height": null,
            "max_width": null,
            "min_height": null,
            "min_width": null,
            "object_fit": null,
            "object_position": null,
            "order": null,
            "overflow": null,
            "overflow_x": null,
            "overflow_y": null,
            "padding": null,
            "right": null,
            "top": null,
            "visibility": null,
            "width": null
          }
        },
        "e27de8654fc247e8a078aceaec00b76b": {
          "model_module": "@jupyter-widgets/base",
          "model_name": "LayoutModel",
          "model_module_version": "1.2.0",
          "state": {
            "_model_module": "@jupyter-widgets/base",
            "_model_module_version": "1.2.0",
            "_model_name": "LayoutModel",
            "_view_count": null,
            "_view_module": "@jupyter-widgets/base",
            "_view_module_version": "1.2.0",
            "_view_name": "LayoutView",
            "align_content": null,
            "align_items": null,
            "align_self": null,
            "border": null,
            "bottom": null,
            "display": null,
            "flex": null,
            "flex_flow": null,
            "grid_area": null,
            "grid_auto_columns": null,
            "grid_auto_flow": null,
            "grid_auto_rows": null,
            "grid_column": null,
            "grid_gap": null,
            "grid_row": null,
            "grid_template_areas": null,
            "grid_template_columns": null,
            "grid_template_rows": null,
            "height": null,
            "justify_content": null,
            "justify_items": null,
            "left": null,
            "margin": null,
            "max_height": null,
            "max_width": null,
            "min_height": null,
            "min_width": null,
            "object_fit": null,
            "object_position": null,
            "order": null,
            "overflow": null,
            "overflow_x": null,
            "overflow_y": null,
            "padding": null,
            "right": null,
            "top": null,
            "visibility": null,
            "width": null
          }
        },
        "d2fb529de81d4fdf851c5ec767bdba5a": {
          "model_module": "@jupyter-widgets/controls",
          "model_name": "DescriptionStyleModel",
          "model_module_version": "1.5.0",
          "state": {
            "_model_module": "@jupyter-widgets/controls",
            "_model_module_version": "1.5.0",
            "_model_name": "DescriptionStyleModel",
            "_view_count": null,
            "_view_module": "@jupyter-widgets/base",
            "_view_module_version": "1.2.0",
            "_view_name": "StyleView",
            "description_width": ""
          }
        },
        "95b661536dd843aa9c3ffac42ece192e": {
          "model_module": "@jupyter-widgets/base",
          "model_name": "LayoutModel",
          "model_module_version": "1.2.0",
          "state": {
            "_model_module": "@jupyter-widgets/base",
            "_model_module_version": "1.2.0",
            "_model_name": "LayoutModel",
            "_view_count": null,
            "_view_module": "@jupyter-widgets/base",
            "_view_module_version": "1.2.0",
            "_view_name": "LayoutView",
            "align_content": null,
            "align_items": null,
            "align_self": null,
            "border": null,
            "bottom": null,
            "display": null,
            "flex": null,
            "flex_flow": null,
            "grid_area": null,
            "grid_auto_columns": null,
            "grid_auto_flow": null,
            "grid_auto_rows": null,
            "grid_column": null,
            "grid_gap": null,
            "grid_row": null,
            "grid_template_areas": null,
            "grid_template_columns": null,
            "grid_template_rows": null,
            "height": null,
            "justify_content": null,
            "justify_items": null,
            "left": null,
            "margin": null,
            "max_height": null,
            "max_width": null,
            "min_height": null,
            "min_width": null,
            "object_fit": null,
            "object_position": null,
            "order": null,
            "overflow": null,
            "overflow_x": null,
            "overflow_y": null,
            "padding": null,
            "right": null,
            "top": null,
            "visibility": null,
            "width": null
          }
        },
        "66d0798c184742cbac40d3784e2714d3": {
          "model_module": "@jupyter-widgets/controls",
          "model_name": "ProgressStyleModel",
          "model_module_version": "1.5.0",
          "state": {
            "_model_module": "@jupyter-widgets/controls",
            "_model_module_version": "1.5.0",
            "_model_name": "ProgressStyleModel",
            "_view_count": null,
            "_view_module": "@jupyter-widgets/base",
            "_view_module_version": "1.2.0",
            "_view_name": "StyleView",
            "bar_color": null,
            "description_width": ""
          }
        },
        "d43ccbddffc74ca7bee658b641cddc3a": {
          "model_module": "@jupyter-widgets/base",
          "model_name": "LayoutModel",
          "model_module_version": "1.2.0",
          "state": {
            "_model_module": "@jupyter-widgets/base",
            "_model_module_version": "1.2.0",
            "_model_name": "LayoutModel",
            "_view_count": null,
            "_view_module": "@jupyter-widgets/base",
            "_view_module_version": "1.2.0",
            "_view_name": "LayoutView",
            "align_content": null,
            "align_items": null,
            "align_self": null,
            "border": null,
            "bottom": null,
            "display": null,
            "flex": null,
            "flex_flow": null,
            "grid_area": null,
            "grid_auto_columns": null,
            "grid_auto_flow": null,
            "grid_auto_rows": null,
            "grid_column": null,
            "grid_gap": null,
            "grid_row": null,
            "grid_template_areas": null,
            "grid_template_columns": null,
            "grid_template_rows": null,
            "height": null,
            "justify_content": null,
            "justify_items": null,
            "left": null,
            "margin": null,
            "max_height": null,
            "max_width": null,
            "min_height": null,
            "min_width": null,
            "object_fit": null,
            "object_position": null,
            "order": null,
            "overflow": null,
            "overflow_x": null,
            "overflow_y": null,
            "padding": null,
            "right": null,
            "top": null,
            "visibility": null,
            "width": null
          }
        },
        "caf338686b7645bd8aa398831d96a410": {
          "model_module": "@jupyter-widgets/controls",
          "model_name": "DescriptionStyleModel",
          "model_module_version": "1.5.0",
          "state": {
            "_model_module": "@jupyter-widgets/controls",
            "_model_module_version": "1.5.0",
            "_model_name": "DescriptionStyleModel",
            "_view_count": null,
            "_view_module": "@jupyter-widgets/base",
            "_view_module_version": "1.2.0",
            "_view_name": "StyleView",
            "description_width": ""
          }
        },
        "3f78762193f44463bb367a099d01027c": {
          "model_module": "@jupyter-widgets/controls",
          "model_name": "HBoxModel",
          "model_module_version": "1.5.0",
          "state": {
            "_dom_classes": [],
            "_model_module": "@jupyter-widgets/controls",
            "_model_module_version": "1.5.0",
            "_model_name": "HBoxModel",
            "_view_count": null,
            "_view_module": "@jupyter-widgets/controls",
            "_view_module_version": "1.5.0",
            "_view_name": "HBoxView",
            "box_style": "",
            "children": [
              "IPY_MODEL_569eef37c10147b594e212f21ce64663",
              "IPY_MODEL_479cf30b30f746789b7ad47c6f4b5354",
              "IPY_MODEL_0088e086b9d64faa9092ea565b858212"
            ],
            "layout": "IPY_MODEL_7a1f3f7d0df04f838f44eb8e43ca4607"
          }
        },
        "569eef37c10147b594e212f21ce64663": {
          "model_module": "@jupyter-widgets/controls",
          "model_name": "HTMLModel",
          "model_module_version": "1.5.0",
          "state": {
            "_dom_classes": [],
            "_model_module": "@jupyter-widgets/controls",
            "_model_module_version": "1.5.0",
            "_model_name": "HTMLModel",
            "_view_count": null,
            "_view_module": "@jupyter-widgets/controls",
            "_view_module_version": "1.5.0",
            "_view_name": "HTMLView",
            "description": "",
            "description_tooltip": null,
            "layout": "IPY_MODEL_4cee33f5429e4b348849ae8082c23c34",
            "placeholder": "​",
            "style": "IPY_MODEL_ddc66b9e8c7a46cd9caa781cd922bf9c",
            "value": "config.json: 100%"
          }
        },
        "479cf30b30f746789b7ad47c6f4b5354": {
          "model_module": "@jupyter-widgets/controls",
          "model_name": "FloatProgressModel",
          "model_module_version": "1.5.0",
          "state": {
            "_dom_classes": [],
            "_model_module": "@jupyter-widgets/controls",
            "_model_module_version": "1.5.0",
            "_model_name": "FloatProgressModel",
            "_view_count": null,
            "_view_module": "@jupyter-widgets/controls",
            "_view_module_version": "1.5.0",
            "_view_name": "ProgressView",
            "bar_style": "success",
            "description": "",
            "description_tooltip": null,
            "layout": "IPY_MODEL_6ab5250aab2e4356b5268036fc70aaa1",
            "max": 482,
            "min": 0,
            "orientation": "horizontal",
            "style": "IPY_MODEL_3d5cdc822ee242269865b72d8a8f09fb",
            "value": 482
          }
        },
        "0088e086b9d64faa9092ea565b858212": {
          "model_module": "@jupyter-widgets/controls",
          "model_name": "HTMLModel",
          "model_module_version": "1.5.0",
          "state": {
            "_dom_classes": [],
            "_model_module": "@jupyter-widgets/controls",
            "_model_module_version": "1.5.0",
            "_model_name": "HTMLModel",
            "_view_count": null,
            "_view_module": "@jupyter-widgets/controls",
            "_view_module_version": "1.5.0",
            "_view_name": "HTMLView",
            "description": "",
            "description_tooltip": null,
            "layout": "IPY_MODEL_bf00ab23445f45249b0f42e204b10254",
            "placeholder": "​",
            "style": "IPY_MODEL_ec6e6786cebf4957b2c96513f0550f8d",
            "value": " 482/482 [00:00&lt;00:00, 41.8kB/s]"
          }
        },
        "7a1f3f7d0df04f838f44eb8e43ca4607": {
          "model_module": "@jupyter-widgets/base",
          "model_name": "LayoutModel",
          "model_module_version": "1.2.0",
          "state": {
            "_model_module": "@jupyter-widgets/base",
            "_model_module_version": "1.2.0",
            "_model_name": "LayoutModel",
            "_view_count": null,
            "_view_module": "@jupyter-widgets/base",
            "_view_module_version": "1.2.0",
            "_view_name": "LayoutView",
            "align_content": null,
            "align_items": null,
            "align_self": null,
            "border": null,
            "bottom": null,
            "display": null,
            "flex": null,
            "flex_flow": null,
            "grid_area": null,
            "grid_auto_columns": null,
            "grid_auto_flow": null,
            "grid_auto_rows": null,
            "grid_column": null,
            "grid_gap": null,
            "grid_row": null,
            "grid_template_areas": null,
            "grid_template_columns": null,
            "grid_template_rows": null,
            "height": null,
            "justify_content": null,
            "justify_items": null,
            "left": null,
            "margin": null,
            "max_height": null,
            "max_width": null,
            "min_height": null,
            "min_width": null,
            "object_fit": null,
            "object_position": null,
            "order": null,
            "overflow": null,
            "overflow_x": null,
            "overflow_y": null,
            "padding": null,
            "right": null,
            "top": null,
            "visibility": null,
            "width": null
          }
        },
        "4cee33f5429e4b348849ae8082c23c34": {
          "model_module": "@jupyter-widgets/base",
          "model_name": "LayoutModel",
          "model_module_version": "1.2.0",
          "state": {
            "_model_module": "@jupyter-widgets/base",
            "_model_module_version": "1.2.0",
            "_model_name": "LayoutModel",
            "_view_count": null,
            "_view_module": "@jupyter-widgets/base",
            "_view_module_version": "1.2.0",
            "_view_name": "LayoutView",
            "align_content": null,
            "align_items": null,
            "align_self": null,
            "border": null,
            "bottom": null,
            "display": null,
            "flex": null,
            "flex_flow": null,
            "grid_area": null,
            "grid_auto_columns": null,
            "grid_auto_flow": null,
            "grid_auto_rows": null,
            "grid_column": null,
            "grid_gap": null,
            "grid_row": null,
            "grid_template_areas": null,
            "grid_template_columns": null,
            "grid_template_rows": null,
            "height": null,
            "justify_content": null,
            "justify_items": null,
            "left": null,
            "margin": null,
            "max_height": null,
            "max_width": null,
            "min_height": null,
            "min_width": null,
            "object_fit": null,
            "object_position": null,
            "order": null,
            "overflow": null,
            "overflow_x": null,
            "overflow_y": null,
            "padding": null,
            "right": null,
            "top": null,
            "visibility": null,
            "width": null
          }
        },
        "ddc66b9e8c7a46cd9caa781cd922bf9c": {
          "model_module": "@jupyter-widgets/controls",
          "model_name": "DescriptionStyleModel",
          "model_module_version": "1.5.0",
          "state": {
            "_model_module": "@jupyter-widgets/controls",
            "_model_module_version": "1.5.0",
            "_model_name": "DescriptionStyleModel",
            "_view_count": null,
            "_view_module": "@jupyter-widgets/base",
            "_view_module_version": "1.2.0",
            "_view_name": "StyleView",
            "description_width": ""
          }
        },
        "6ab5250aab2e4356b5268036fc70aaa1": {
          "model_module": "@jupyter-widgets/base",
          "model_name": "LayoutModel",
          "model_module_version": "1.2.0",
          "state": {
            "_model_module": "@jupyter-widgets/base",
            "_model_module_version": "1.2.0",
            "_model_name": "LayoutModel",
            "_view_count": null,
            "_view_module": "@jupyter-widgets/base",
            "_view_module_version": "1.2.0",
            "_view_name": "LayoutView",
            "align_content": null,
            "align_items": null,
            "align_self": null,
            "border": null,
            "bottom": null,
            "display": null,
            "flex": null,
            "flex_flow": null,
            "grid_area": null,
            "grid_auto_columns": null,
            "grid_auto_flow": null,
            "grid_auto_rows": null,
            "grid_column": null,
            "grid_gap": null,
            "grid_row": null,
            "grid_template_areas": null,
            "grid_template_columns": null,
            "grid_template_rows": null,
            "height": null,
            "justify_content": null,
            "justify_items": null,
            "left": null,
            "margin": null,
            "max_height": null,
            "max_width": null,
            "min_height": null,
            "min_width": null,
            "object_fit": null,
            "object_position": null,
            "order": null,
            "overflow": null,
            "overflow_x": null,
            "overflow_y": null,
            "padding": null,
            "right": null,
            "top": null,
            "visibility": null,
            "width": null
          }
        },
        "3d5cdc822ee242269865b72d8a8f09fb": {
          "model_module": "@jupyter-widgets/controls",
          "model_name": "ProgressStyleModel",
          "model_module_version": "1.5.0",
          "state": {
            "_model_module": "@jupyter-widgets/controls",
            "_model_module_version": "1.5.0",
            "_model_name": "ProgressStyleModel",
            "_view_count": null,
            "_view_module": "@jupyter-widgets/base",
            "_view_module_version": "1.2.0",
            "_view_name": "StyleView",
            "bar_color": null,
            "description_width": ""
          }
        },
        "bf00ab23445f45249b0f42e204b10254": {
          "model_module": "@jupyter-widgets/base",
          "model_name": "LayoutModel",
          "model_module_version": "1.2.0",
          "state": {
            "_model_module": "@jupyter-widgets/base",
            "_model_module_version": "1.2.0",
            "_model_name": "LayoutModel",
            "_view_count": null,
            "_view_module": "@jupyter-widgets/base",
            "_view_module_version": "1.2.0",
            "_view_name": "LayoutView",
            "align_content": null,
            "align_items": null,
            "align_self": null,
            "border": null,
            "bottom": null,
            "display": null,
            "flex": null,
            "flex_flow": null,
            "grid_area": null,
            "grid_auto_columns": null,
            "grid_auto_flow": null,
            "grid_auto_rows": null,
            "grid_column": null,
            "grid_gap": null,
            "grid_row": null,
            "grid_template_areas": null,
            "grid_template_columns": null,
            "grid_template_rows": null,
            "height": null,
            "justify_content": null,
            "justify_items": null,
            "left": null,
            "margin": null,
            "max_height": null,
            "max_width": null,
            "min_height": null,
            "min_width": null,
            "object_fit": null,
            "object_position": null,
            "order": null,
            "overflow": null,
            "overflow_x": null,
            "overflow_y": null,
            "padding": null,
            "right": null,
            "top": null,
            "visibility": null,
            "width": null
          }
        },
        "ec6e6786cebf4957b2c96513f0550f8d": {
          "model_module": "@jupyter-widgets/controls",
          "model_name": "DescriptionStyleModel",
          "model_module_version": "1.5.0",
          "state": {
            "_model_module": "@jupyter-widgets/controls",
            "_model_module_version": "1.5.0",
            "_model_name": "DescriptionStyleModel",
            "_view_count": null,
            "_view_module": "@jupyter-widgets/base",
            "_view_module_version": "1.2.0",
            "_view_name": "StyleView",
            "description_width": ""
          }
        },
        "fcba716bea044c909661078a67df6b3e": {
          "model_module": "@jupyter-widgets/controls",
          "model_name": "HBoxModel",
          "model_module_version": "1.5.0",
          "state": {
            "_dom_classes": [],
            "_model_module": "@jupyter-widgets/controls",
            "_model_module_version": "1.5.0",
            "_model_name": "HBoxModel",
            "_view_count": null,
            "_view_module": "@jupyter-widgets/controls",
            "_view_module_version": "1.5.0",
            "_view_name": "HBoxView",
            "box_style": "",
            "children": [
              "IPY_MODEL_25300b40d47246bd9ecbc4f2107a7b8a",
              "IPY_MODEL_623dc2e28d7046be926d2336bd02c9ce",
              "IPY_MODEL_7922b723fdf34fb3ad04eac8b32f9793"
            ],
            "layout": "IPY_MODEL_5c43316518974053a629f4aac703a308"
          }
        },
        "25300b40d47246bd9ecbc4f2107a7b8a": {
          "model_module": "@jupyter-widgets/controls",
          "model_name": "HTMLModel",
          "model_module_version": "1.5.0",
          "state": {
            "_dom_classes": [],
            "_model_module": "@jupyter-widgets/controls",
            "_model_module_version": "1.5.0",
            "_model_name": "HTMLModel",
            "_view_count": null,
            "_view_module": "@jupyter-widgets/controls",
            "_view_module_version": "1.5.0",
            "_view_name": "HTMLView",
            "description": "",
            "description_tooltip": null,
            "layout": "IPY_MODEL_acdef9a3cb494c6eb4fdbb8a2b271c19",
            "placeholder": "​",
            "style": "IPY_MODEL_b59e8dc26a8646a1a8601b8c91ac2955",
            "value": "vocab.json: 100%"
          }
        },
        "623dc2e28d7046be926d2336bd02c9ce": {
          "model_module": "@jupyter-widgets/controls",
          "model_name": "FloatProgressModel",
          "model_module_version": "1.5.0",
          "state": {
            "_dom_classes": [],
            "_model_module": "@jupyter-widgets/controls",
            "_model_module_version": "1.5.0",
            "_model_name": "FloatProgressModel",
            "_view_count": null,
            "_view_module": "@jupyter-widgets/controls",
            "_view_module_version": "1.5.0",
            "_view_name": "ProgressView",
            "bar_style": "success",
            "description": "",
            "description_tooltip": null,
            "layout": "IPY_MODEL_0bb9b7ffc8c64663916e180933142f8e",
            "max": 898823,
            "min": 0,
            "orientation": "horizontal",
            "style": "IPY_MODEL_f822a7e1e5d74225afc3ec4939574eed",
            "value": 898823
          }
        },
        "7922b723fdf34fb3ad04eac8b32f9793": {
          "model_module": "@jupyter-widgets/controls",
          "model_name": "HTMLModel",
          "model_module_version": "1.5.0",
          "state": {
            "_dom_classes": [],
            "_model_module": "@jupyter-widgets/controls",
            "_model_module_version": "1.5.0",
            "_model_name": "HTMLModel",
            "_view_count": null,
            "_view_module": "@jupyter-widgets/controls",
            "_view_module_version": "1.5.0",
            "_view_name": "HTMLView",
            "description": "",
            "description_tooltip": null,
            "layout": "IPY_MODEL_847c1a06c2514228ba59a277a0de614b",
            "placeholder": "​",
            "style": "IPY_MODEL_1e42567666d74313848fa41bbabcac1b",
            "value": " 899k/899k [00:00&lt;00:00, 24.7MB/s]"
          }
        },
        "5c43316518974053a629f4aac703a308": {
          "model_module": "@jupyter-widgets/base",
          "model_name": "LayoutModel",
          "model_module_version": "1.2.0",
          "state": {
            "_model_module": "@jupyter-widgets/base",
            "_model_module_version": "1.2.0",
            "_model_name": "LayoutModel",
            "_view_count": null,
            "_view_module": "@jupyter-widgets/base",
            "_view_module_version": "1.2.0",
            "_view_name": "LayoutView",
            "align_content": null,
            "align_items": null,
            "align_self": null,
            "border": null,
            "bottom": null,
            "display": null,
            "flex": null,
            "flex_flow": null,
            "grid_area": null,
            "grid_auto_columns": null,
            "grid_auto_flow": null,
            "grid_auto_rows": null,
            "grid_column": null,
            "grid_gap": null,
            "grid_row": null,
            "grid_template_areas": null,
            "grid_template_columns": null,
            "grid_template_rows": null,
            "height": null,
            "justify_content": null,
            "justify_items": null,
            "left": null,
            "margin": null,
            "max_height": null,
            "max_width": null,
            "min_height": null,
            "min_width": null,
            "object_fit": null,
            "object_position": null,
            "order": null,
            "overflow": null,
            "overflow_x": null,
            "overflow_y": null,
            "padding": null,
            "right": null,
            "top": null,
            "visibility": null,
            "width": null
          }
        },
        "acdef9a3cb494c6eb4fdbb8a2b271c19": {
          "model_module": "@jupyter-widgets/base",
          "model_name": "LayoutModel",
          "model_module_version": "1.2.0",
          "state": {
            "_model_module": "@jupyter-widgets/base",
            "_model_module_version": "1.2.0",
            "_model_name": "LayoutModel",
            "_view_count": null,
            "_view_module": "@jupyter-widgets/base",
            "_view_module_version": "1.2.0",
            "_view_name": "LayoutView",
            "align_content": null,
            "align_items": null,
            "align_self": null,
            "border": null,
            "bottom": null,
            "display": null,
            "flex": null,
            "flex_flow": null,
            "grid_area": null,
            "grid_auto_columns": null,
            "grid_auto_flow": null,
            "grid_auto_rows": null,
            "grid_column": null,
            "grid_gap": null,
            "grid_row": null,
            "grid_template_areas": null,
            "grid_template_columns": null,
            "grid_template_rows": null,
            "height": null,
            "justify_content": null,
            "justify_items": null,
            "left": null,
            "margin": null,
            "max_height": null,
            "max_width": null,
            "min_height": null,
            "min_width": null,
            "object_fit": null,
            "object_position": null,
            "order": null,
            "overflow": null,
            "overflow_x": null,
            "overflow_y": null,
            "padding": null,
            "right": null,
            "top": null,
            "visibility": null,
            "width": null
          }
        },
        "b59e8dc26a8646a1a8601b8c91ac2955": {
          "model_module": "@jupyter-widgets/controls",
          "model_name": "DescriptionStyleModel",
          "model_module_version": "1.5.0",
          "state": {
            "_model_module": "@jupyter-widgets/controls",
            "_model_module_version": "1.5.0",
            "_model_name": "DescriptionStyleModel",
            "_view_count": null,
            "_view_module": "@jupyter-widgets/base",
            "_view_module_version": "1.2.0",
            "_view_name": "StyleView",
            "description_width": ""
          }
        },
        "0bb9b7ffc8c64663916e180933142f8e": {
          "model_module": "@jupyter-widgets/base",
          "model_name": "LayoutModel",
          "model_module_version": "1.2.0",
          "state": {
            "_model_module": "@jupyter-widgets/base",
            "_model_module_version": "1.2.0",
            "_model_name": "LayoutModel",
            "_view_count": null,
            "_view_module": "@jupyter-widgets/base",
            "_view_module_version": "1.2.0",
            "_view_name": "LayoutView",
            "align_content": null,
            "align_items": null,
            "align_self": null,
            "border": null,
            "bottom": null,
            "display": null,
            "flex": null,
            "flex_flow": null,
            "grid_area": null,
            "grid_auto_columns": null,
            "grid_auto_flow": null,
            "grid_auto_rows": null,
            "grid_column": null,
            "grid_gap": null,
            "grid_row": null,
            "grid_template_areas": null,
            "grid_template_columns": null,
            "grid_template_rows": null,
            "height": null,
            "justify_content": null,
            "justify_items": null,
            "left": null,
            "margin": null,
            "max_height": null,
            "max_width": null,
            "min_height": null,
            "min_width": null,
            "object_fit": null,
            "object_position": null,
            "order": null,
            "overflow": null,
            "overflow_x": null,
            "overflow_y": null,
            "padding": null,
            "right": null,
            "top": null,
            "visibility": null,
            "width": null
          }
        },
        "f822a7e1e5d74225afc3ec4939574eed": {
          "model_module": "@jupyter-widgets/controls",
          "model_name": "ProgressStyleModel",
          "model_module_version": "1.5.0",
          "state": {
            "_model_module": "@jupyter-widgets/controls",
            "_model_module_version": "1.5.0",
            "_model_name": "ProgressStyleModel",
            "_view_count": null,
            "_view_module": "@jupyter-widgets/base",
            "_view_module_version": "1.2.0",
            "_view_name": "StyleView",
            "bar_color": null,
            "description_width": ""
          }
        },
        "847c1a06c2514228ba59a277a0de614b": {
          "model_module": "@jupyter-widgets/base",
          "model_name": "LayoutModel",
          "model_module_version": "1.2.0",
          "state": {
            "_model_module": "@jupyter-widgets/base",
            "_model_module_version": "1.2.0",
            "_model_name": "LayoutModel",
            "_view_count": null,
            "_view_module": "@jupyter-widgets/base",
            "_view_module_version": "1.2.0",
            "_view_name": "LayoutView",
            "align_content": null,
            "align_items": null,
            "align_self": null,
            "border": null,
            "bottom": null,
            "display": null,
            "flex": null,
            "flex_flow": null,
            "grid_area": null,
            "grid_auto_columns": null,
            "grid_auto_flow": null,
            "grid_auto_rows": null,
            "grid_column": null,
            "grid_gap": null,
            "grid_row": null,
            "grid_template_areas": null,
            "grid_template_columns": null,
            "grid_template_rows": null,
            "height": null,
            "justify_content": null,
            "justify_items": null,
            "left": null,
            "margin": null,
            "max_height": null,
            "max_width": null,
            "min_height": null,
            "min_width": null,
            "object_fit": null,
            "object_position": null,
            "order": null,
            "overflow": null,
            "overflow_x": null,
            "overflow_y": null,
            "padding": null,
            "right": null,
            "top": null,
            "visibility": null,
            "width": null
          }
        },
        "1e42567666d74313848fa41bbabcac1b": {
          "model_module": "@jupyter-widgets/controls",
          "model_name": "DescriptionStyleModel",
          "model_module_version": "1.5.0",
          "state": {
            "_model_module": "@jupyter-widgets/controls",
            "_model_module_version": "1.5.0",
            "_model_name": "DescriptionStyleModel",
            "_view_count": null,
            "_view_module": "@jupyter-widgets/base",
            "_view_module_version": "1.2.0",
            "_view_name": "StyleView",
            "description_width": ""
          }
        },
        "b0d5596287f54441944625a27a78ea94": {
          "model_module": "@jupyter-widgets/controls",
          "model_name": "HBoxModel",
          "model_module_version": "1.5.0",
          "state": {
            "_dom_classes": [],
            "_model_module": "@jupyter-widgets/controls",
            "_model_module_version": "1.5.0",
            "_model_name": "HBoxModel",
            "_view_count": null,
            "_view_module": "@jupyter-widgets/controls",
            "_view_module_version": "1.5.0",
            "_view_name": "HBoxView",
            "box_style": "",
            "children": [
              "IPY_MODEL_6068ee8ab6a846dfa8d157496babcb97",
              "IPY_MODEL_eece660ab2e94d40aff5d7dbf69e18bc",
              "IPY_MODEL_e1be710f2e03496b8c50adc7855998e7"
            ],
            "layout": "IPY_MODEL_89a36d85659640cfa2d21e1f63793eb0"
          }
        },
        "6068ee8ab6a846dfa8d157496babcb97": {
          "model_module": "@jupyter-widgets/controls",
          "model_name": "HTMLModel",
          "model_module_version": "1.5.0",
          "state": {
            "_dom_classes": [],
            "_model_module": "@jupyter-widgets/controls",
            "_model_module_version": "1.5.0",
            "_model_name": "HTMLModel",
            "_view_count": null,
            "_view_module": "@jupyter-widgets/controls",
            "_view_module_version": "1.5.0",
            "_view_name": "HTMLView",
            "description": "",
            "description_tooltip": null,
            "layout": "IPY_MODEL_ec1795d1d46049d5aceb0cd1c822229c",
            "placeholder": "​",
            "style": "IPY_MODEL_4ffc0fc8f043472d88266dbab418c7bf",
            "value": "merges.txt: 100%"
          }
        },
        "eece660ab2e94d40aff5d7dbf69e18bc": {
          "model_module": "@jupyter-widgets/controls",
          "model_name": "FloatProgressModel",
          "model_module_version": "1.5.0",
          "state": {
            "_dom_classes": [],
            "_model_module": "@jupyter-widgets/controls",
            "_model_module_version": "1.5.0",
            "_model_name": "FloatProgressModel",
            "_view_count": null,
            "_view_module": "@jupyter-widgets/controls",
            "_view_module_version": "1.5.0",
            "_view_name": "ProgressView",
            "bar_style": "success",
            "description": "",
            "description_tooltip": null,
            "layout": "IPY_MODEL_f07bb026d23442e0bb10eaf036495f1d",
            "max": 456318,
            "min": 0,
            "orientation": "horizontal",
            "style": "IPY_MODEL_b5b23abfb6e5466387adbe51d57748b3",
            "value": 456318
          }
        },
        "e1be710f2e03496b8c50adc7855998e7": {
          "model_module": "@jupyter-widgets/controls",
          "model_name": "HTMLModel",
          "model_module_version": "1.5.0",
          "state": {
            "_dom_classes": [],
            "_model_module": "@jupyter-widgets/controls",
            "_model_module_version": "1.5.0",
            "_model_name": "HTMLModel",
            "_view_count": null,
            "_view_module": "@jupyter-widgets/controls",
            "_view_module_version": "1.5.0",
            "_view_name": "HTMLView",
            "description": "",
            "description_tooltip": null,
            "layout": "IPY_MODEL_9b752f6fc6e94500957dd0e3562b6da6",
            "placeholder": "​",
            "style": "IPY_MODEL_f1b3fb0564ab48f2a165c359425e0a13",
            "value": " 456k/456k [00:00&lt;00:00, 1.83MB/s]"
          }
        },
        "89a36d85659640cfa2d21e1f63793eb0": {
          "model_module": "@jupyter-widgets/base",
          "model_name": "LayoutModel",
          "model_module_version": "1.2.0",
          "state": {
            "_model_module": "@jupyter-widgets/base",
            "_model_module_version": "1.2.0",
            "_model_name": "LayoutModel",
            "_view_count": null,
            "_view_module": "@jupyter-widgets/base",
            "_view_module_version": "1.2.0",
            "_view_name": "LayoutView",
            "align_content": null,
            "align_items": null,
            "align_self": null,
            "border": null,
            "bottom": null,
            "display": null,
            "flex": null,
            "flex_flow": null,
            "grid_area": null,
            "grid_auto_columns": null,
            "grid_auto_flow": null,
            "grid_auto_rows": null,
            "grid_column": null,
            "grid_gap": null,
            "grid_row": null,
            "grid_template_areas": null,
            "grid_template_columns": null,
            "grid_template_rows": null,
            "height": null,
            "justify_content": null,
            "justify_items": null,
            "left": null,
            "margin": null,
            "max_height": null,
            "max_width": null,
            "min_height": null,
            "min_width": null,
            "object_fit": null,
            "object_position": null,
            "order": null,
            "overflow": null,
            "overflow_x": null,
            "overflow_y": null,
            "padding": null,
            "right": null,
            "top": null,
            "visibility": null,
            "width": null
          }
        },
        "ec1795d1d46049d5aceb0cd1c822229c": {
          "model_module": "@jupyter-widgets/base",
          "model_name": "LayoutModel",
          "model_module_version": "1.2.0",
          "state": {
            "_model_module": "@jupyter-widgets/base",
            "_model_module_version": "1.2.0",
            "_model_name": "LayoutModel",
            "_view_count": null,
            "_view_module": "@jupyter-widgets/base",
            "_view_module_version": "1.2.0",
            "_view_name": "LayoutView",
            "align_content": null,
            "align_items": null,
            "align_self": null,
            "border": null,
            "bottom": null,
            "display": null,
            "flex": null,
            "flex_flow": null,
            "grid_area": null,
            "grid_auto_columns": null,
            "grid_auto_flow": null,
            "grid_auto_rows": null,
            "grid_column": null,
            "grid_gap": null,
            "grid_row": null,
            "grid_template_areas": null,
            "grid_template_columns": null,
            "grid_template_rows": null,
            "height": null,
            "justify_content": null,
            "justify_items": null,
            "left": null,
            "margin": null,
            "max_height": null,
            "max_width": null,
            "min_height": null,
            "min_width": null,
            "object_fit": null,
            "object_position": null,
            "order": null,
            "overflow": null,
            "overflow_x": null,
            "overflow_y": null,
            "padding": null,
            "right": null,
            "top": null,
            "visibility": null,
            "width": null
          }
        },
        "4ffc0fc8f043472d88266dbab418c7bf": {
          "model_module": "@jupyter-widgets/controls",
          "model_name": "DescriptionStyleModel",
          "model_module_version": "1.5.0",
          "state": {
            "_model_module": "@jupyter-widgets/controls",
            "_model_module_version": "1.5.0",
            "_model_name": "DescriptionStyleModel",
            "_view_count": null,
            "_view_module": "@jupyter-widgets/base",
            "_view_module_version": "1.2.0",
            "_view_name": "StyleView",
            "description_width": ""
          }
        },
        "f07bb026d23442e0bb10eaf036495f1d": {
          "model_module": "@jupyter-widgets/base",
          "model_name": "LayoutModel",
          "model_module_version": "1.2.0",
          "state": {
            "_model_module": "@jupyter-widgets/base",
            "_model_module_version": "1.2.0",
            "_model_name": "LayoutModel",
            "_view_count": null,
            "_view_module": "@jupyter-widgets/base",
            "_view_module_version": "1.2.0",
            "_view_name": "LayoutView",
            "align_content": null,
            "align_items": null,
            "align_self": null,
            "border": null,
            "bottom": null,
            "display": null,
            "flex": null,
            "flex_flow": null,
            "grid_area": null,
            "grid_auto_columns": null,
            "grid_auto_flow": null,
            "grid_auto_rows": null,
            "grid_column": null,
            "grid_gap": null,
            "grid_row": null,
            "grid_template_areas": null,
            "grid_template_columns": null,
            "grid_template_rows": null,
            "height": null,
            "justify_content": null,
            "justify_items": null,
            "left": null,
            "margin": null,
            "max_height": null,
            "max_width": null,
            "min_height": null,
            "min_width": null,
            "object_fit": null,
            "object_position": null,
            "order": null,
            "overflow": null,
            "overflow_x": null,
            "overflow_y": null,
            "padding": null,
            "right": null,
            "top": null,
            "visibility": null,
            "width": null
          }
        },
        "b5b23abfb6e5466387adbe51d57748b3": {
          "model_module": "@jupyter-widgets/controls",
          "model_name": "ProgressStyleModel",
          "model_module_version": "1.5.0",
          "state": {
            "_model_module": "@jupyter-widgets/controls",
            "_model_module_version": "1.5.0",
            "_model_name": "ProgressStyleModel",
            "_view_count": null,
            "_view_module": "@jupyter-widgets/base",
            "_view_module_version": "1.2.0",
            "_view_name": "StyleView",
            "bar_color": null,
            "description_width": ""
          }
        },
        "9b752f6fc6e94500957dd0e3562b6da6": {
          "model_module": "@jupyter-widgets/base",
          "model_name": "LayoutModel",
          "model_module_version": "1.2.0",
          "state": {
            "_model_module": "@jupyter-widgets/base",
            "_model_module_version": "1.2.0",
            "_model_name": "LayoutModel",
            "_view_count": null,
            "_view_module": "@jupyter-widgets/base",
            "_view_module_version": "1.2.0",
            "_view_name": "LayoutView",
            "align_content": null,
            "align_items": null,
            "align_self": null,
            "border": null,
            "bottom": null,
            "display": null,
            "flex": null,
            "flex_flow": null,
            "grid_area": null,
            "grid_auto_columns": null,
            "grid_auto_flow": null,
            "grid_auto_rows": null,
            "grid_column": null,
            "grid_gap": null,
            "grid_row": null,
            "grid_template_areas": null,
            "grid_template_columns": null,
            "grid_template_rows": null,
            "height": null,
            "justify_content": null,
            "justify_items": null,
            "left": null,
            "margin": null,
            "max_height": null,
            "max_width": null,
            "min_height": null,
            "min_width": null,
            "object_fit": null,
            "object_position": null,
            "order": null,
            "overflow": null,
            "overflow_x": null,
            "overflow_y": null,
            "padding": null,
            "right": null,
            "top": null,
            "visibility": null,
            "width": null
          }
        },
        "f1b3fb0564ab48f2a165c359425e0a13": {
          "model_module": "@jupyter-widgets/controls",
          "model_name": "DescriptionStyleModel",
          "model_module_version": "1.5.0",
          "state": {
            "_model_module": "@jupyter-widgets/controls",
            "_model_module_version": "1.5.0",
            "_model_name": "DescriptionStyleModel",
            "_view_count": null,
            "_view_module": "@jupyter-widgets/base",
            "_view_module_version": "1.2.0",
            "_view_name": "StyleView",
            "description_width": ""
          }
        },
        "a79481db5ce14dd397d4421d8a248965": {
          "model_module": "@jupyter-widgets/controls",
          "model_name": "HBoxModel",
          "model_module_version": "1.5.0",
          "state": {
            "_dom_classes": [],
            "_model_module": "@jupyter-widgets/controls",
            "_model_module_version": "1.5.0",
            "_model_name": "HBoxModel",
            "_view_count": null,
            "_view_module": "@jupyter-widgets/controls",
            "_view_module_version": "1.5.0",
            "_view_name": "HBoxView",
            "box_style": "",
            "children": [
              "IPY_MODEL_e5f35226019d4a309560f8d4650c45a7",
              "IPY_MODEL_3725ccd5a30b42bd9a384b77f9965c7d",
              "IPY_MODEL_eadaf59e1a3643ea97eb183cfa3d2cd3"
            ],
            "layout": "IPY_MODEL_a25303b0298d4b75ae9e4a6e502264ec"
          }
        },
        "e5f35226019d4a309560f8d4650c45a7": {
          "model_module": "@jupyter-widgets/controls",
          "model_name": "HTMLModel",
          "model_module_version": "1.5.0",
          "state": {
            "_dom_classes": [],
            "_model_module": "@jupyter-widgets/controls",
            "_model_module_version": "1.5.0",
            "_model_name": "HTMLModel",
            "_view_count": null,
            "_view_module": "@jupyter-widgets/controls",
            "_view_module_version": "1.5.0",
            "_view_name": "HTMLView",
            "description": "",
            "description_tooltip": null,
            "layout": "IPY_MODEL_0e294692742a4a099d5701da5221cfd4",
            "placeholder": "​",
            "style": "IPY_MODEL_39d20b169bfa4fbf907a4c26070775b8",
            "value": "tokenizer.json: 100%"
          }
        },
        "3725ccd5a30b42bd9a384b77f9965c7d": {
          "model_module": "@jupyter-widgets/controls",
          "model_name": "FloatProgressModel",
          "model_module_version": "1.5.0",
          "state": {
            "_dom_classes": [],
            "_model_module": "@jupyter-widgets/controls",
            "_model_module_version": "1.5.0",
            "_model_name": "FloatProgressModel",
            "_view_count": null,
            "_view_module": "@jupyter-widgets/controls",
            "_view_module_version": "1.5.0",
            "_view_name": "ProgressView",
            "bar_style": "success",
            "description": "",
            "description_tooltip": null,
            "layout": "IPY_MODEL_4058d92ee6804c28b1c94334b034626d",
            "max": 1355863,
            "min": 0,
            "orientation": "horizontal",
            "style": "IPY_MODEL_5483051aee6c463696b4086734f8c51f",
            "value": 1355863
          }
        },
        "eadaf59e1a3643ea97eb183cfa3d2cd3": {
          "model_module": "@jupyter-widgets/controls",
          "model_name": "HTMLModel",
          "model_module_version": "1.5.0",
          "state": {
            "_dom_classes": [],
            "_model_module": "@jupyter-widgets/controls",
            "_model_module_version": "1.5.0",
            "_model_name": "HTMLModel",
            "_view_count": null,
            "_view_module": "@jupyter-widgets/controls",
            "_view_module_version": "1.5.0",
            "_view_name": "HTMLView",
            "description": "",
            "description_tooltip": null,
            "layout": "IPY_MODEL_7572d9186d5e4595b7c8d64c40e946dc",
            "placeholder": "​",
            "style": "IPY_MODEL_e588aabed57549da8dccae49cb9a7d21",
            "value": " 1.36M/1.36M [00:00&lt;00:00, 1.44MB/s]"
          }
        },
        "a25303b0298d4b75ae9e4a6e502264ec": {
          "model_module": "@jupyter-widgets/base",
          "model_name": "LayoutModel",
          "model_module_version": "1.2.0",
          "state": {
            "_model_module": "@jupyter-widgets/base",
            "_model_module_version": "1.2.0",
            "_model_name": "LayoutModel",
            "_view_count": null,
            "_view_module": "@jupyter-widgets/base",
            "_view_module_version": "1.2.0",
            "_view_name": "LayoutView",
            "align_content": null,
            "align_items": null,
            "align_self": null,
            "border": null,
            "bottom": null,
            "display": null,
            "flex": null,
            "flex_flow": null,
            "grid_area": null,
            "grid_auto_columns": null,
            "grid_auto_flow": null,
            "grid_auto_rows": null,
            "grid_column": null,
            "grid_gap": null,
            "grid_row": null,
            "grid_template_areas": null,
            "grid_template_columns": null,
            "grid_template_rows": null,
            "height": null,
            "justify_content": null,
            "justify_items": null,
            "left": null,
            "margin": null,
            "max_height": null,
            "max_width": null,
            "min_height": null,
            "min_width": null,
            "object_fit": null,
            "object_position": null,
            "order": null,
            "overflow": null,
            "overflow_x": null,
            "overflow_y": null,
            "padding": null,
            "right": null,
            "top": null,
            "visibility": null,
            "width": null
          }
        },
        "0e294692742a4a099d5701da5221cfd4": {
          "model_module": "@jupyter-widgets/base",
          "model_name": "LayoutModel",
          "model_module_version": "1.2.0",
          "state": {
            "_model_module": "@jupyter-widgets/base",
            "_model_module_version": "1.2.0",
            "_model_name": "LayoutModel",
            "_view_count": null,
            "_view_module": "@jupyter-widgets/base",
            "_view_module_version": "1.2.0",
            "_view_name": "LayoutView",
            "align_content": null,
            "align_items": null,
            "align_self": null,
            "border": null,
            "bottom": null,
            "display": null,
            "flex": null,
            "flex_flow": null,
            "grid_area": null,
            "grid_auto_columns": null,
            "grid_auto_flow": null,
            "grid_auto_rows": null,
            "grid_column": null,
            "grid_gap": null,
            "grid_row": null,
            "grid_template_areas": null,
            "grid_template_columns": null,
            "grid_template_rows": null,
            "height": null,
            "justify_content": null,
            "justify_items": null,
            "left": null,
            "margin": null,
            "max_height": null,
            "max_width": null,
            "min_height": null,
            "min_width": null,
            "object_fit": null,
            "object_position": null,
            "order": null,
            "overflow": null,
            "overflow_x": null,
            "overflow_y": null,
            "padding": null,
            "right": null,
            "top": null,
            "visibility": null,
            "width": null
          }
        },
        "39d20b169bfa4fbf907a4c26070775b8": {
          "model_module": "@jupyter-widgets/controls",
          "model_name": "DescriptionStyleModel",
          "model_module_version": "1.5.0",
          "state": {
            "_model_module": "@jupyter-widgets/controls",
            "_model_module_version": "1.5.0",
            "_model_name": "DescriptionStyleModel",
            "_view_count": null,
            "_view_module": "@jupyter-widgets/base",
            "_view_module_version": "1.2.0",
            "_view_name": "StyleView",
            "description_width": ""
          }
        },
        "4058d92ee6804c28b1c94334b034626d": {
          "model_module": "@jupyter-widgets/base",
          "model_name": "LayoutModel",
          "model_module_version": "1.2.0",
          "state": {
            "_model_module": "@jupyter-widgets/base",
            "_model_module_version": "1.2.0",
            "_model_name": "LayoutModel",
            "_view_count": null,
            "_view_module": "@jupyter-widgets/base",
            "_view_module_version": "1.2.0",
            "_view_name": "LayoutView",
            "align_content": null,
            "align_items": null,
            "align_self": null,
            "border": null,
            "bottom": null,
            "display": null,
            "flex": null,
            "flex_flow": null,
            "grid_area": null,
            "grid_auto_columns": null,
            "grid_auto_flow": null,
            "grid_auto_rows": null,
            "grid_column": null,
            "grid_gap": null,
            "grid_row": null,
            "grid_template_areas": null,
            "grid_template_columns": null,
            "grid_template_rows": null,
            "height": null,
            "justify_content": null,
            "justify_items": null,
            "left": null,
            "margin": null,
            "max_height": null,
            "max_width": null,
            "min_height": null,
            "min_width": null,
            "object_fit": null,
            "object_position": null,
            "order": null,
            "overflow": null,
            "overflow_x": null,
            "overflow_y": null,
            "padding": null,
            "right": null,
            "top": null,
            "visibility": null,
            "width": null
          }
        },
        "5483051aee6c463696b4086734f8c51f": {
          "model_module": "@jupyter-widgets/controls",
          "model_name": "ProgressStyleModel",
          "model_module_version": "1.5.0",
          "state": {
            "_model_module": "@jupyter-widgets/controls",
            "_model_module_version": "1.5.0",
            "_model_name": "ProgressStyleModel",
            "_view_count": null,
            "_view_module": "@jupyter-widgets/base",
            "_view_module_version": "1.2.0",
            "_view_name": "StyleView",
            "bar_color": null,
            "description_width": ""
          }
        },
        "7572d9186d5e4595b7c8d64c40e946dc": {
          "model_module": "@jupyter-widgets/base",
          "model_name": "LayoutModel",
          "model_module_version": "1.2.0",
          "state": {
            "_model_module": "@jupyter-widgets/base",
            "_model_module_version": "1.2.0",
            "_model_name": "LayoutModel",
            "_view_count": null,
            "_view_module": "@jupyter-widgets/base",
            "_view_module_version": "1.2.0",
            "_view_name": "LayoutView",
            "align_content": null,
            "align_items": null,
            "align_self": null,
            "border": null,
            "bottom": null,
            "display": null,
            "flex": null,
            "flex_flow": null,
            "grid_area": null,
            "grid_auto_columns": null,
            "grid_auto_flow": null,
            "grid_auto_rows": null,
            "grid_column": null,
            "grid_gap": null,
            "grid_row": null,
            "grid_template_areas": null,
            "grid_template_columns": null,
            "grid_template_rows": null,
            "height": null,
            "justify_content": null,
            "justify_items": null,
            "left": null,
            "margin": null,
            "max_height": null,
            "max_width": null,
            "min_height": null,
            "min_width": null,
            "object_fit": null,
            "object_position": null,
            "order": null,
            "overflow": null,
            "overflow_x": null,
            "overflow_y": null,
            "padding": null,
            "right": null,
            "top": null,
            "visibility": null,
            "width": null
          }
        },
        "e588aabed57549da8dccae49cb9a7d21": {
          "model_module": "@jupyter-widgets/controls",
          "model_name": "DescriptionStyleModel",
          "model_module_version": "1.5.0",
          "state": {
            "_model_module": "@jupyter-widgets/controls",
            "_model_module_version": "1.5.0",
            "_model_name": "DescriptionStyleModel",
            "_view_count": null,
            "_view_module": "@jupyter-widgets/base",
            "_view_module_version": "1.2.0",
            "_view_name": "StyleView",
            "description_width": ""
          }
        },
        "af24113b029f49baa2f82d92f215f914": {
          "model_module": "@jupyter-widgets/controls",
          "model_name": "HBoxModel",
          "model_module_version": "1.5.0",
          "state": {
            "_dom_classes": [],
            "_model_module": "@jupyter-widgets/controls",
            "_model_module_version": "1.5.0",
            "_model_name": "HBoxModel",
            "_view_count": null,
            "_view_module": "@jupyter-widgets/controls",
            "_view_module_version": "1.5.0",
            "_view_name": "HBoxView",
            "box_style": "",
            "children": [
              "IPY_MODEL_4f3b64cd47094b8bb7babce2ea34d703",
              "IPY_MODEL_3a677c263c424fb0b29c96e675cb6764",
              "IPY_MODEL_38092b8e5b8e482bab9485e3f6205598"
            ],
            "layout": "IPY_MODEL_f8002768b7d54136a6e4ad348c0777ed"
          }
        },
        "4f3b64cd47094b8bb7babce2ea34d703": {
          "model_module": "@jupyter-widgets/controls",
          "model_name": "HTMLModel",
          "model_module_version": "1.5.0",
          "state": {
            "_dom_classes": [],
            "_model_module": "@jupyter-widgets/controls",
            "_model_module_version": "1.5.0",
            "_model_name": "HTMLModel",
            "_view_count": null,
            "_view_module": "@jupyter-widgets/controls",
            "_view_module_version": "1.5.0",
            "_view_name": "HTMLView",
            "description": "",
            "description_tooltip": null,
            "layout": "IPY_MODEL_f13fe5233bdb4493a280d3e3d533c8bc",
            "placeholder": "​",
            "style": "IPY_MODEL_15fb7371fd3644469e0c29fcc6281db7",
            "value": "model.safetensors: 100%"
          }
        },
        "3a677c263c424fb0b29c96e675cb6764": {
          "model_module": "@jupyter-widgets/controls",
          "model_name": "FloatProgressModel",
          "model_module_version": "1.5.0",
          "state": {
            "_dom_classes": [],
            "_model_module": "@jupyter-widgets/controls",
            "_model_module_version": "1.5.0",
            "_model_name": "FloatProgressModel",
            "_view_count": null,
            "_view_module": "@jupyter-widgets/controls",
            "_view_module_version": "1.5.0",
            "_view_name": "ProgressView",
            "bar_style": "success",
            "description": "",
            "description_tooltip": null,
            "layout": "IPY_MODEL_b3d275f46d8546f2991e5ad81a8efd69",
            "max": 1421700479,
            "min": 0,
            "orientation": "horizontal",
            "style": "IPY_MODEL_171bea8efd6a48bb806a3a7ae6facece",
            "value": 1421700479
          }
        },
        "38092b8e5b8e482bab9485e3f6205598": {
          "model_module": "@jupyter-widgets/controls",
          "model_name": "HTMLModel",
          "model_module_version": "1.5.0",
          "state": {
            "_dom_classes": [],
            "_model_module": "@jupyter-widgets/controls",
            "_model_module_version": "1.5.0",
            "_model_name": "HTMLModel",
            "_view_count": null,
            "_view_module": "@jupyter-widgets/controls",
            "_view_module_version": "1.5.0",
            "_view_name": "HTMLView",
            "description": "",
            "description_tooltip": null,
            "layout": "IPY_MODEL_5c939bf69127482188093a02e0ad7080",
            "placeholder": "​",
            "style": "IPY_MODEL_15eba18549e94c64a4219137a71ab4cf",
            "value": " 1.42G/1.42G [00:06&lt;00:00, 207MB/s]"
          }
        },
        "f8002768b7d54136a6e4ad348c0777ed": {
          "model_module": "@jupyter-widgets/base",
          "model_name": "LayoutModel",
          "model_module_version": "1.2.0",
          "state": {
            "_model_module": "@jupyter-widgets/base",
            "_model_module_version": "1.2.0",
            "_model_name": "LayoutModel",
            "_view_count": null,
            "_view_module": "@jupyter-widgets/base",
            "_view_module_version": "1.2.0",
            "_view_name": "LayoutView",
            "align_content": null,
            "align_items": null,
            "align_self": null,
            "border": null,
            "bottom": null,
            "display": null,
            "flex": null,
            "flex_flow": null,
            "grid_area": null,
            "grid_auto_columns": null,
            "grid_auto_flow": null,
            "grid_auto_rows": null,
            "grid_column": null,
            "grid_gap": null,
            "grid_row": null,
            "grid_template_areas": null,
            "grid_template_columns": null,
            "grid_template_rows": null,
            "height": null,
            "justify_content": null,
            "justify_items": null,
            "left": null,
            "margin": null,
            "max_height": null,
            "max_width": null,
            "min_height": null,
            "min_width": null,
            "object_fit": null,
            "object_position": null,
            "order": null,
            "overflow": null,
            "overflow_x": null,
            "overflow_y": null,
            "padding": null,
            "right": null,
            "top": null,
            "visibility": null,
            "width": null
          }
        },
        "f13fe5233bdb4493a280d3e3d533c8bc": {
          "model_module": "@jupyter-widgets/base",
          "model_name": "LayoutModel",
          "model_module_version": "1.2.0",
          "state": {
            "_model_module": "@jupyter-widgets/base",
            "_model_module_version": "1.2.0",
            "_model_name": "LayoutModel",
            "_view_count": null,
            "_view_module": "@jupyter-widgets/base",
            "_view_module_version": "1.2.0",
            "_view_name": "LayoutView",
            "align_content": null,
            "align_items": null,
            "align_self": null,
            "border": null,
            "bottom": null,
            "display": null,
            "flex": null,
            "flex_flow": null,
            "grid_area": null,
            "grid_auto_columns": null,
            "grid_auto_flow": null,
            "grid_auto_rows": null,
            "grid_column": null,
            "grid_gap": null,
            "grid_row": null,
            "grid_template_areas": null,
            "grid_template_columns": null,
            "grid_template_rows": null,
            "height": null,
            "justify_content": null,
            "justify_items": null,
            "left": null,
            "margin": null,
            "max_height": null,
            "max_width": null,
            "min_height": null,
            "min_width": null,
            "object_fit": null,
            "object_position": null,
            "order": null,
            "overflow": null,
            "overflow_x": null,
            "overflow_y": null,
            "padding": null,
            "right": null,
            "top": null,
            "visibility": null,
            "width": null
          }
        },
        "15fb7371fd3644469e0c29fcc6281db7": {
          "model_module": "@jupyter-widgets/controls",
          "model_name": "DescriptionStyleModel",
          "model_module_version": "1.5.0",
          "state": {
            "_model_module": "@jupyter-widgets/controls",
            "_model_module_version": "1.5.0",
            "_model_name": "DescriptionStyleModel",
            "_view_count": null,
            "_view_module": "@jupyter-widgets/base",
            "_view_module_version": "1.2.0",
            "_view_name": "StyleView",
            "description_width": ""
          }
        },
        "b3d275f46d8546f2991e5ad81a8efd69": {
          "model_module": "@jupyter-widgets/base",
          "model_name": "LayoutModel",
          "model_module_version": "1.2.0",
          "state": {
            "_model_module": "@jupyter-widgets/base",
            "_model_module_version": "1.2.0",
            "_model_name": "LayoutModel",
            "_view_count": null,
            "_view_module": "@jupyter-widgets/base",
            "_view_module_version": "1.2.0",
            "_view_name": "LayoutView",
            "align_content": null,
            "align_items": null,
            "align_self": null,
            "border": null,
            "bottom": null,
            "display": null,
            "flex": null,
            "flex_flow": null,
            "grid_area": null,
            "grid_auto_columns": null,
            "grid_auto_flow": null,
            "grid_auto_rows": null,
            "grid_column": null,
            "grid_gap": null,
            "grid_row": null,
            "grid_template_areas": null,
            "grid_template_columns": null,
            "grid_template_rows": null,
            "height": null,
            "justify_content": null,
            "justify_items": null,
            "left": null,
            "margin": null,
            "max_height": null,
            "max_width": null,
            "min_height": null,
            "min_width": null,
            "object_fit": null,
            "object_position": null,
            "order": null,
            "overflow": null,
            "overflow_x": null,
            "overflow_y": null,
            "padding": null,
            "right": null,
            "top": null,
            "visibility": null,
            "width": null
          }
        },
        "171bea8efd6a48bb806a3a7ae6facece": {
          "model_module": "@jupyter-widgets/controls",
          "model_name": "ProgressStyleModel",
          "model_module_version": "1.5.0",
          "state": {
            "_model_module": "@jupyter-widgets/controls",
            "_model_module_version": "1.5.0",
            "_model_name": "ProgressStyleModel",
            "_view_count": null,
            "_view_module": "@jupyter-widgets/base",
            "_view_module_version": "1.2.0",
            "_view_name": "StyleView",
            "bar_color": null,
            "description_width": ""
          }
        },
        "5c939bf69127482188093a02e0ad7080": {
          "model_module": "@jupyter-widgets/base",
          "model_name": "LayoutModel",
          "model_module_version": "1.2.0",
          "state": {
            "_model_module": "@jupyter-widgets/base",
            "_model_module_version": "1.2.0",
            "_model_name": "LayoutModel",
            "_view_count": null,
            "_view_module": "@jupyter-widgets/base",
            "_view_module_version": "1.2.0",
            "_view_name": "LayoutView",
            "align_content": null,
            "align_items": null,
            "align_self": null,
            "border": null,
            "bottom": null,
            "display": null,
            "flex": null,
            "flex_flow": null,
            "grid_area": null,
            "grid_auto_columns": null,
            "grid_auto_flow": null,
            "grid_auto_rows": null,
            "grid_column": null,
            "grid_gap": null,
            "grid_row": null,
            "grid_template_areas": null,
            "grid_template_columns": null,
            "grid_template_rows": null,
            "height": null,
            "justify_content": null,
            "justify_items": null,
            "left": null,
            "margin": null,
            "max_height": null,
            "max_width": null,
            "min_height": null,
            "min_width": null,
            "object_fit": null,
            "object_position": null,
            "order": null,
            "overflow": null,
            "overflow_x": null,
            "overflow_y": null,
            "padding": null,
            "right": null,
            "top": null,
            "visibility": null,
            "width": null
          }
        },
        "15eba18549e94c64a4219137a71ab4cf": {
          "model_module": "@jupyter-widgets/controls",
          "model_name": "DescriptionStyleModel",
          "model_module_version": "1.5.0",
          "state": {
            "_model_module": "@jupyter-widgets/controls",
            "_model_module_version": "1.5.0",
            "_model_name": "DescriptionStyleModel",
            "_view_count": null,
            "_view_module": "@jupyter-widgets/base",
            "_view_module_version": "1.2.0",
            "_view_name": "StyleView",
            "description_width": ""
          }
        }
      }
    }
  },
  "cells": [
    {
      "cell_type": "markdown",
      "metadata": {
        "id": "view-in-github",
        "colab_type": "text"
      },
      "source": [
        "<a href=\"https://colab.research.google.com/github/PrswpkWirom/DepressionFinal/blob/main/MFFNet/DD_dataloader%2BVanillaMFFNET.ipynb\" target=\"_parent\"><img src=\"https://colab.research.google.com/assets/colab-badge.svg\" alt=\"Open In Colab\"/></a>"
      ]
    },
    {
      "cell_type": "code",
      "source": [
        "!pip install pydub"
      ],
      "metadata": {
        "colab": {
          "base_uri": "https://localhost:8080/"
        },
        "id": "eC6RqiAFMIKO",
        "outputId": "96c1cea5-4f51-47f2-ba75-ddd583ab7ecf"
      },
      "execution_count": 1,
      "outputs": [
        {
          "output_type": "stream",
          "name": "stdout",
          "text": [
            "Collecting pydub\n",
            "  Downloading pydub-0.25.1-py2.py3-none-any.whl.metadata (1.4 kB)\n",
            "Downloading pydub-0.25.1-py2.py3-none-any.whl (32 kB)\n",
            "Installing collected packages: pydub\n",
            "Successfully installed pydub-0.25.1\n"
          ]
        }
      ]
    },
    {
      "cell_type": "code",
      "source": [
        "from google.colab import drive\n",
        "drive.mount('/content/drive')"
      ],
      "metadata": {
        "colab": {
          "base_uri": "https://localhost:8080/"
        },
        "id": "0xdI9tpzsXK6",
        "outputId": "737bff78-fadf-49ef-9b6a-977a3511980a"
      },
      "execution_count": 2,
      "outputs": [
        {
          "output_type": "stream",
          "name": "stdout",
          "text": [
            "Mounted at /content/drive\n"
          ]
        }
      ]
    },
    {
      "cell_type": "code",
      "execution_count": 3,
      "metadata": {
        "id": "07MtDkE5Lnhd"
      },
      "outputs": [],
      "source": [
        "import os\n",
        "import random\n",
        "import pickle\n",
        "import torch\n",
        "import torch.nn as nn\n",
        "from torch.utils.data import Dataset, DataLoader\n",
        "from torch.nn.utils.rnn import pad_sequence\n",
        "import pandas as pd\n",
        "import numpy as np\n",
        "import wave\n",
        "from pydub import AudioSegment\n",
        "from io import BytesIO\n",
        "from IPython.display import Audio, display\n",
        "from transformers import RobertaTokenizer, RobertaModel, Wav2Vec2FeatureExtractor\n",
        "from transformers.models.wavlm import WavLMModel"
      ]
    },
    {
      "cell_type": "code",
      "source": [
        "database_dir = '/content/drive/MyDrive/DAIC_WOZ'\n",
        "device = torch.device('cuda' if torch.cuda.is_available() else 'cpu')\n",
        "print(device)"
      ],
      "metadata": {
        "id": "7wFHykGWNETs",
        "colab": {
          "base_uri": "https://localhost:8080/"
        },
        "outputId": "a0d78edd-2b20-46be-e751-e3bd260b80cc"
      },
      "execution_count": null,
      "outputs": [
        {
          "output_type": "stream",
          "name": "stdout",
          "text": [
            "cuda\n"
          ]
        }
      ]
    },
    {
      "cell_type": "code",
      "source": [
        "feature_extractor = Wav2Vec2FeatureExtractor.from_pretrained(\"microsoft/wavlm-large\")\n",
        "wavlm_model = WavLMModel.from_pretrained(\"microsoft/wavlm-large\").to(device)"
      ],
      "metadata": {
        "colab": {
          "base_uri": "https://localhost:8080/",
          "height": 240,
          "referenced_widgets": [
            "0b518bb8274e44cb9d7f5811b700e419",
            "1ea0e69b73404765b86736efb8cfb958",
            "24f6feae90bf496b9ea3e4c62b725b9b",
            "ac691ebff8614e2b9b1656c11d4ea197",
            "c0f448c588524a05a8ac445ef6060f1f",
            "9be007d725c947f48198a44447ce6a46",
            "dc6184be4a10488d90f6bb8e70992207",
            "86642f4ae7f341f1beef9ad3841058b8",
            "91668a77b3b8495f9f524e21ce784373",
            "84d77d245dcf4fbf81ffa7f970369aaf",
            "2ae9f8c74f5e47a28d4f7b3fe85bd166",
            "1d5482a585dd423e91460611964455cb",
            "b5f1ec9e74074359838e6ecc3182ebcf",
            "316fd54e724d4cdc88c5824e29f7feae",
            "be14ce57b5c14857a0258c0ddef01300",
            "4b1ad0b3bfe34cfc9a368951c36ab7f8",
            "c2c804cff5a84dae80b6e7989d29a1f9",
            "2d135157f59b41d9b879bd69a61f7ccb",
            "901201e5709a4c6c9ca5fd65692ddf3d",
            "4443abff572240b98960c7ed6f503bc5",
            "7fd8fadf0a7e4e37b83e51a7c73ff4d1",
            "d84ee1cf1f5940ffb16dd387ed2fc8d7",
            "a6658e9c1b824249b403ebab8ff71bb9",
            "6dc0a08cbf6b4ef880325b26c78b16bd",
            "9ba11061bd2d4dbc961cf25a89fff6e9",
            "200efef69ffd487fb27d07bcdb7dba1b",
            "ab9c17c2712f4c26a8fb46e9ae116645",
            "4fbef876ffc64cbe8a868d1986c0e5bb",
            "140249d0cee946e395032af7769c7d0b",
            "efb39018289445df8d41cd8df628e0e5",
            "eb21020538f54dd09a76f9068dec9a2b",
            "194aeebb3a6f47efaa2493053eb14e98",
            "1864f78d9c9a47e986446ee77b10c8ca"
          ]
        },
        "id": "guR6ZO6xMFrE",
        "outputId": "527f978b-d9e1-46da-f710-bc1b3604fe9b"
      },
      "execution_count": null,
      "outputs": [
        {
          "output_type": "stream",
          "name": "stderr",
          "text": [
            "/usr/local/lib/python3.10/dist-packages/huggingface_hub/utils/_auth.py:94: UserWarning: \n",
            "The secret `HF_TOKEN` does not exist in your Colab secrets.\n",
            "To authenticate with the Hugging Face Hub, create a token in your settings tab (https://huggingface.co/settings/tokens), set it as secret in your Google Colab and restart your session.\n",
            "You will be able to reuse this secret in all of your notebooks.\n",
            "Please note that authentication is recommended but still optional to access public models or datasets.\n",
            "  warnings.warn(\n"
          ]
        },
        {
          "output_type": "display_data",
          "data": {
            "text/plain": [
              "preprocessor_config.json:   0%|          | 0.00/214 [00:00<?, ?B/s]"
            ],
            "application/vnd.jupyter.widget-view+json": {
              "version_major": 2,
              "version_minor": 0,
              "model_id": "0b518bb8274e44cb9d7f5811b700e419"
            }
          },
          "metadata": {}
        },
        {
          "output_type": "display_data",
          "data": {
            "text/plain": [
              "config.json:   0%|          | 0.00/2.22k [00:00<?, ?B/s]"
            ],
            "application/vnd.jupyter.widget-view+json": {
              "version_major": 2,
              "version_minor": 0,
              "model_id": "1d5482a585dd423e91460611964455cb"
            }
          },
          "metadata": {}
        },
        {
          "output_type": "display_data",
          "data": {
            "text/plain": [
              "pytorch_model.bin:   0%|          | 0.00/1.26G [00:00<?, ?B/s]"
            ],
            "application/vnd.jupyter.widget-view+json": {
              "version_major": 2,
              "version_minor": 0,
              "model_id": "a6658e9c1b824249b403ebab8ff71bb9"
            }
          },
          "metadata": {}
        }
      ]
    },
    {
      "cell_type": "code",
      "source": [
        "from transformers import AutoTokenizer, AutoModel\n",
        "model_name = \"roberta-large\"\n",
        "tokenizer = AutoTokenizer.from_pretrained(model_name)\n",
        "text_model = AutoModel.from_pretrained(model_name)\n",
        "text_model = text_model.to(device)"
      ],
      "metadata": {
        "colab": {
          "base_uri": "https://localhost:8080/",
          "height": 265,
          "referenced_widgets": [
            "f03ed1e594f64b00a59e3dfd07520e69",
            "4d0e7b1b45174a8780e7e17361779260",
            "2f2ccb19cdba49459d25266902bc481c",
            "0c59006f1ccd4b57900604d761a7d805",
            "b890db76407b4b53ba953de5ba5e17ad",
            "e27de8654fc247e8a078aceaec00b76b",
            "d2fb529de81d4fdf851c5ec767bdba5a",
            "95b661536dd843aa9c3ffac42ece192e",
            "66d0798c184742cbac40d3784e2714d3",
            "d43ccbddffc74ca7bee658b641cddc3a",
            "caf338686b7645bd8aa398831d96a410",
            "3f78762193f44463bb367a099d01027c",
            "569eef37c10147b594e212f21ce64663",
            "479cf30b30f746789b7ad47c6f4b5354",
            "0088e086b9d64faa9092ea565b858212",
            "7a1f3f7d0df04f838f44eb8e43ca4607",
            "4cee33f5429e4b348849ae8082c23c34",
            "ddc66b9e8c7a46cd9caa781cd922bf9c",
            "6ab5250aab2e4356b5268036fc70aaa1",
            "3d5cdc822ee242269865b72d8a8f09fb",
            "bf00ab23445f45249b0f42e204b10254",
            "ec6e6786cebf4957b2c96513f0550f8d",
            "fcba716bea044c909661078a67df6b3e",
            "25300b40d47246bd9ecbc4f2107a7b8a",
            "623dc2e28d7046be926d2336bd02c9ce",
            "7922b723fdf34fb3ad04eac8b32f9793",
            "5c43316518974053a629f4aac703a308",
            "acdef9a3cb494c6eb4fdbb8a2b271c19",
            "b59e8dc26a8646a1a8601b8c91ac2955",
            "0bb9b7ffc8c64663916e180933142f8e",
            "f822a7e1e5d74225afc3ec4939574eed",
            "847c1a06c2514228ba59a277a0de614b",
            "1e42567666d74313848fa41bbabcac1b",
            "b0d5596287f54441944625a27a78ea94",
            "6068ee8ab6a846dfa8d157496babcb97",
            "eece660ab2e94d40aff5d7dbf69e18bc",
            "e1be710f2e03496b8c50adc7855998e7",
            "89a36d85659640cfa2d21e1f63793eb0",
            "ec1795d1d46049d5aceb0cd1c822229c",
            "4ffc0fc8f043472d88266dbab418c7bf",
            "f07bb026d23442e0bb10eaf036495f1d",
            "b5b23abfb6e5466387adbe51d57748b3",
            "9b752f6fc6e94500957dd0e3562b6da6",
            "f1b3fb0564ab48f2a165c359425e0a13",
            "a79481db5ce14dd397d4421d8a248965",
            "e5f35226019d4a309560f8d4650c45a7",
            "3725ccd5a30b42bd9a384b77f9965c7d",
            "eadaf59e1a3643ea97eb183cfa3d2cd3",
            "a25303b0298d4b75ae9e4a6e502264ec",
            "0e294692742a4a099d5701da5221cfd4",
            "39d20b169bfa4fbf907a4c26070775b8",
            "4058d92ee6804c28b1c94334b034626d",
            "5483051aee6c463696b4086734f8c51f",
            "7572d9186d5e4595b7c8d64c40e946dc",
            "e588aabed57549da8dccae49cb9a7d21",
            "af24113b029f49baa2f82d92f215f914",
            "4f3b64cd47094b8bb7babce2ea34d703",
            "3a677c263c424fb0b29c96e675cb6764",
            "38092b8e5b8e482bab9485e3f6205598",
            "f8002768b7d54136a6e4ad348c0777ed",
            "f13fe5233bdb4493a280d3e3d533c8bc",
            "15fb7371fd3644469e0c29fcc6281db7",
            "b3d275f46d8546f2991e5ad81a8efd69",
            "171bea8efd6a48bb806a3a7ae6facece",
            "5c939bf69127482188093a02e0ad7080",
            "15eba18549e94c64a4219137a71ab4cf"
          ]
        },
        "id": "p2fnlyeoHx6O",
        "outputId": "ec8f24fd-4f10-4c8b-afc3-392d11c59385"
      },
      "execution_count": null,
      "outputs": [
        {
          "output_type": "display_data",
          "data": {
            "text/plain": [
              "tokenizer_config.json:   0%|          | 0.00/25.0 [00:00<?, ?B/s]"
            ],
            "application/vnd.jupyter.widget-view+json": {
              "version_major": 2,
              "version_minor": 0,
              "model_id": "f03ed1e594f64b00a59e3dfd07520e69"
            }
          },
          "metadata": {}
        },
        {
          "output_type": "display_data",
          "data": {
            "text/plain": [
              "config.json:   0%|          | 0.00/482 [00:00<?, ?B/s]"
            ],
            "application/vnd.jupyter.widget-view+json": {
              "version_major": 2,
              "version_minor": 0,
              "model_id": "3f78762193f44463bb367a099d01027c"
            }
          },
          "metadata": {}
        },
        {
          "output_type": "display_data",
          "data": {
            "text/plain": [
              "vocab.json:   0%|          | 0.00/899k [00:00<?, ?B/s]"
            ],
            "application/vnd.jupyter.widget-view+json": {
              "version_major": 2,
              "version_minor": 0,
              "model_id": "fcba716bea044c909661078a67df6b3e"
            }
          },
          "metadata": {}
        },
        {
          "output_type": "display_data",
          "data": {
            "text/plain": [
              "merges.txt:   0%|          | 0.00/456k [00:00<?, ?B/s]"
            ],
            "application/vnd.jupyter.widget-view+json": {
              "version_major": 2,
              "version_minor": 0,
              "model_id": "b0d5596287f54441944625a27a78ea94"
            }
          },
          "metadata": {}
        },
        {
          "output_type": "display_data",
          "data": {
            "text/plain": [
              "tokenizer.json:   0%|          | 0.00/1.36M [00:00<?, ?B/s]"
            ],
            "application/vnd.jupyter.widget-view+json": {
              "version_major": 2,
              "version_minor": 0,
              "model_id": "a79481db5ce14dd397d4421d8a248965"
            }
          },
          "metadata": {}
        },
        {
          "output_type": "display_data",
          "data": {
            "text/plain": [
              "model.safetensors:   0%|          | 0.00/1.42G [00:00<?, ?B/s]"
            ],
            "application/vnd.jupyter.widget-view+json": {
              "version_major": 2,
              "version_minor": 0,
              "model_id": "af24113b029f49baa2f82d92f215f914"
            }
          },
          "metadata": {}
        },
        {
          "output_type": "stream",
          "name": "stderr",
          "text": [
            "Some weights of RobertaModel were not initialized from the model checkpoint at roberta-large and are newly initialized: ['roberta.pooler.dense.bias', 'roberta.pooler.dense.weight']\n",
            "You should probably TRAIN this model on a down-stream task to be able to use it for predictions and inference.\n"
          ]
        }
      ]
    },
    {
      "cell_type": "markdown",
      "source": [
        "# Attempt 1"
      ],
      "metadata": {
        "id": "zuM0stOUXTJb"
      }
    },
    {
      "cell_type": "code",
      "source": [
        "def get_sentence_level_text_embedding(sentence, tokenizer, text_model):\n",
        "    inputs = tokenizer(sentence, return_tensors=\"pt\", padding=True, truncation=True).to(device)\n",
        "    with torch.no_grad():\n",
        "        outputs = text_model(**inputs)\n",
        "    sentence_embedding = outputs.last_hidden_state[:, 0, :]  # [CLS] token embedding\n",
        "    return sentence_embedding.squeeze(0)\n",
        "\n",
        "def get_audio_embedding(audio_segment, feature_extractor, wavlm_model):\n",
        "    audio_data = np.array(audio_segment.get_array_of_samples()).astype(np.int16)\n",
        "    audio_data_tensor = torch.tensor(audio_data, dtype=torch.float32).to(device)\n",
        "\n",
        "    inputs = feature_extractor(\n",
        "        audio_data_tensor,\n",
        "        sampling_rate=audio_segment.frame_rate,\n",
        "        return_tensors=\"pt\",\n",
        "        padding=True\n",
        "    )\n",
        "    inputs = {key: val.to(device) for key, val in inputs.items()}\n",
        "\n",
        "    with torch.no_grad():\n",
        "        outputs = wavlm_model(**inputs)\n",
        "\n",
        "    # last_hidden_state: (1, time_steps, embedding_dim)\n",
        "    audio_embeddings = outputs.last_hidden_state.squeeze(0)\n",
        "    # Average pooling over time\n",
        "    audio_embedding_vector = audio_embeddings.mean(dim=0)\n",
        "    return audio_embedding_vector\n"
      ],
      "metadata": {
        "id": "z1j272yIM4Qz"
      },
      "execution_count": null,
      "outputs": []
    },
    {
      "cell_type": "code",
      "source": [
        "def load_label_dict(label_csv_path):\n",
        "    \"\"\"\n",
        "    Loads a CSV file that contains columns: \"ID\" and \"PHQ8_Binary\".\n",
        "    Returns a dictionary mapping the string ID (e.g., \"315\") to the binary label (0 or 1).\n",
        "    \"\"\"\n",
        "    df = pd.read_csv(label_csv_path)\n",
        "    label_dict = {}\n",
        "    for _, row in df.iterrows():\n",
        "        base_id = str(row[\"Participant_ID\"])  # Ensure it's a string for indexing\n",
        "        label = int(row[\"PHQ8_Binary\"])\n",
        "        label_dict[base_id] = label\n",
        "    return label_dict"
      ],
      "metadata": {
        "id": "9SwRXOPkNN-k"
      },
      "execution_count": null,
      "outputs": []
    },
    {
      "cell_type": "code",
      "source": [
        "class DAICDataset(Dataset):\n",
        "    def __init__(self, root_dir, label_csv_path, tokenizer, text_model, feature_extractor, wavlm_model, device, embeddings_dir='embeddings'):\n",
        "        self.root_dir = root_dir\n",
        "        self.tokenizer = tokenizer\n",
        "        self.text_model = text_model\n",
        "        self.feature_extractor = feature_extractor\n",
        "        self.wavlm_model = wavlm_model\n",
        "        self.device = device\n",
        "        self.embeddings_dir = embeddings_dir\n",
        "\n",
        "        # Load labels as before\n",
        "        self.label_dict = load_label_dict(label_csv_path)\n",
        "\n",
        "        self.session_ids = [d for d in os.listdir(root_dir) if os.path.isdir(os.path.join(root_dir, d))]\n",
        "        self.data = []\n",
        "        self._prepare_data()\n",
        "\n",
        "    def _prepare_data(self):\n",
        "        # Ensure the embeddings directory for this split exists\n",
        "        if not os.path.exists(self.embeddings_dir):\n",
        "            os.makedirs(self.embeddings_dir)\n",
        "\n",
        "        split_name = os.path.basename(self.root_dir)  # e.g., 'train', 'validate', 'test'\n",
        "        split_embeddings_dir = os.path.join(self.embeddings_dir, split_name)\n",
        "        if not os.path.exists(split_embeddings_dir):\n",
        "            os.makedirs(split_embeddings_dir)\n",
        "\n",
        "        for session_id in self.session_ids:\n",
        "            base_id = session_id.split('_')[0]\n",
        "            session_path = os.path.join(self.root_dir, session_id)\n",
        "            embed_file_path = os.path.join(split_embeddings_dir, f\"{session_id}.pt\")\n",
        "\n",
        "            if os.path.exists(embed_file_path):\n",
        "                # Load precomputed embeddings\n",
        "                saved_data = torch.load(embed_file_path)\n",
        "                text_sequence = saved_data['text_sequence']\n",
        "                audio_sequence = saved_data['audio_sequence']\n",
        "                label = saved_data['label']\n",
        "                self.data.append((text_sequence, audio_sequence, label))\n",
        "                continue\n",
        "\n",
        "            # If embeddings file doesn't exist, proceed with computation\n",
        "            transcript_file, audio_file = self._find_files(session_path)\n",
        "            if transcript_file is None or audio_file is None:\n",
        "                print(f\"Missing transcript or audio for {session_id}, skipping.\")\n",
        "                continue\n",
        "\n",
        "            filtered_df = self._load_and_filter_transcript(transcript_file)\n",
        "            if filtered_df is None:\n",
        "                continue\n",
        "\n",
        "            if not os.path.exists(audio_file):\n",
        "                print(f\"Audio file not found: {audio_file}\")\n",
        "                continue\n",
        "            full_audio = AudioSegment.from_wav(audio_file)\n",
        "\n",
        "            aligned_data = []\n",
        "            for _, row in filtered_df.iterrows():\n",
        "                try:\n",
        "                    start_time = float(row[\"start_time\"])\n",
        "                    stop_time = float(row[\"stop_time\"])\n",
        "                    sentence = row[\"value\"]\n",
        "                    start_ms = int(start_time * 1000)\n",
        "                    stop_ms = int(stop_time * 1000)\n",
        "                    audio_segment = full_audio[start_ms:stop_ms]\n",
        "\n",
        "                    aligned_data.append({\n",
        "                        \"start_time\": start_time,\n",
        "                        \"stop_time\": stop_time,\n",
        "                        \"sentence\": sentence,\n",
        "                        \"audio_segment\": audio_segment\n",
        "                    })\n",
        "                except ValueError:\n",
        "                    continue\n",
        "\n",
        "            if len(aligned_data) == 0:\n",
        "                continue\n",
        "\n",
        "            # Compute embeddings\n",
        "            text_embeddings = []\n",
        "            audio_embeddings = []\n",
        "            for entry in aligned_data:\n",
        "                text_emb = get_sentence_level_text_embedding(entry[\"sentence\"], self.tokenizer, self.text_model)\n",
        "                audio_emb = get_audio_embedding(entry[\"audio_segment\"], self.feature_extractor, self.wavlm_model)\n",
        "                text_embeddings.append(text_emb)\n",
        "                audio_embeddings.append(audio_emb)\n",
        "                #print(f\"Succesfully generate embedding of {entry}\")\n",
        "\n",
        "            if len(text_embeddings) == 0:\n",
        "                continue\n",
        "\n",
        "            text_sequence = torch.stack(text_embeddings, dim=0)\n",
        "            audio_sequence = torch.stack(audio_embeddings, dim=0)\n",
        "\n",
        "            if base_id not in self.label_dict:\n",
        "                print(f\"No label for {base_id}, defaulting to 0.\")\n",
        "                label = 0\n",
        "            else:\n",
        "                label = self.label_dict[base_id]\n",
        "\n",
        "            # Save embeddings to disk\n",
        "            torch.save({\n",
        "                'text_sequence': text_sequence,\n",
        "                'audio_sequence': audio_sequence,\n",
        "                'label': label\n",
        "            }, embed_file_path)\n",
        "\n",
        "            # Add to dataset memory\n",
        "            self.data.append((text_sequence, audio_sequence, label))\n",
        "\n",
        "    def _find_files(self, session_path):\n",
        "        transcript_file = None\n",
        "        audio_file = None\n",
        "        for fn in os.listdir(session_path):\n",
        "            if fn.endswith(\"_TRANSCRIPT.csv\"):\n",
        "                transcript_file = os.path.join(session_path, fn)\n",
        "            if fn.endswith(\"_AUDIO.wav\"):\n",
        "                audio_file = os.path.join(session_path, fn)\n",
        "        return transcript_file, audio_file\n",
        "\n",
        "    def _load_and_filter_transcript(self, transcript_file):\n",
        "        df = pd.read_csv(transcript_file, usecols=[0], header=None)\n",
        "        df_split = df[0].str.split('\\t', expand=True)\n",
        "        if df_split.shape[1] < 4:\n",
        "            print(f\"Transcript file {transcript_file} has unexpected format.\")\n",
        "            return None\n",
        "        df_split.columns = [\"start_time\", \"stop_time\", \"speaker\", \"value\"]\n",
        "        filtered_df = df_split[df_split[\"speaker\"] != \"Ellie\"]\n",
        "        return filtered_df\n",
        "\n",
        "    def __len__(self):\n",
        "        return len(self.data)\n",
        "\n",
        "    def __getitem__(self, idx):\n",
        "        return self.data[idx]\n"
      ],
      "metadata": {
        "id": "FuWP7WFINQdB"
      },
      "execution_count": null,
      "outputs": []
    },
    {
      "cell_type": "code",
      "source": [
        "def collate_fn(batch):\n",
        "    text_seqs = [item[0] for item in batch]\n",
        "    audio_seqs = [item[1] for item in batch]\n",
        "    labels = [item[2] for item in batch]\n",
        "\n",
        "    # Pad sequences along time dimension\n",
        "    max_len_text = max(seq.size(0) for seq in text_seqs)\n",
        "    max_len_audio = max(seq.size(0) for seq in audio_seqs)\n",
        "\n",
        "    padded_text = []\n",
        "    for seq in text_seqs:\n",
        "        if seq.size(0) < max_len_text:\n",
        "            diff = max_len_text - seq.size(0)\n",
        "            pad_tensor = torch.zeros(diff, seq.size(1))\n",
        "            seq = torch.cat([seq, pad_tensor], dim=0)\n",
        "        padded_text.append(seq.unsqueeze(0))\n",
        "    padded_text = torch.cat(padded_text, dim=0)  # [batch_size, max_len_text, D]\n",
        "\n",
        "    padded_audio = []\n",
        "    for seq in audio_seqs:\n",
        "        if seq.size(0) < max_len_audio:\n",
        "            diff = max_len_audio - seq.size(0)\n",
        "            pad_tensor = torch.zeros(diff, seq.size(1))\n",
        "            seq = torch.cat([seq, pad_tensor], dim=0)\n",
        "        padded_audio.append(seq.unsqueeze(0))\n",
        "    padded_audio = torch.cat(padded_audio, dim=0) # [batch_size, max_len_audio, D]\n",
        "\n",
        "    labels = torch.tensor(labels, dtype=torch.long)\n",
        "\n",
        "    return padded_text, padded_audio, labels\n"
      ],
      "metadata": {
        "id": "xPF3ycU-NThm"
      },
      "execution_count": null,
      "outputs": []
    },
    {
      "cell_type": "code",
      "source": [
        "train_label_csv = os.path.join(database_dir, '/content/drive/MyDrive/DD_final_project/csv/train_set.csv')\n",
        "val_label_csv = os.path.join(database_dir, '/content/drive/MyDrive/DD_final_project/csv/validation_set.csv')\n",
        "test_label_csv = os.path.join(database_dir, '/content/drive/MyDrive/DD_final_project/csv/full_test_split.csv')\n",
        "\n",
        "train_dir = os.path.join(database_dir, 'train')\n",
        "val_dir = os.path.join(database_dir, 'validate')\n",
        "test_dir = os.path.join(database_dir, 'test')"
      ],
      "metadata": {
        "id": "tES02nDBOU8w"
      },
      "execution_count": null,
      "outputs": []
    },
    {
      "cell_type": "code",
      "source": [
        "train_dataset = DAICDataset(train_dir, train_label_csv, tokenizer, text_model, feature_extractor, wavlm_model, device)"
      ],
      "metadata": {
        "colab": {
          "base_uri": "https://localhost:8080/",
          "height": 393
        },
        "id": "89Ao9LsxOvPO",
        "outputId": "c1d19027-1f9a-46f3-e958-7aec0dc40882"
      },
      "execution_count": null,
      "outputs": [
        {
          "output_type": "stream",
          "name": "stderr",
          "text": [
            "/usr/local/lib/python3.10/dist-packages/torch/nn/functional.py:5849: UserWarning: Support for mismatched key_padding_mask and attn_mask is deprecated. Use same type for both instead.\n",
            "  warnings.warn(\n"
          ]
        },
        {
          "output_type": "stream",
          "name": "stdout",
          "text": [
            "No label for 344, defaulting to 0.\n"
          ]
        },
        {
          "output_type": "stream",
          "name": "stderr",
          "text": [
            "/usr/local/lib/python3.10/dist-packages/torch/nn/functional.py:5849: UserWarning: Support for mismatched key_padding_mask and attn_mask is deprecated. Use same type for both instead.\n",
            "  warnings.warn(\n"
          ]
        },
        {
          "output_type": "error",
          "ename": "KeyboardInterrupt",
          "evalue": "",
          "traceback": [
            "\u001b[0;31m---------------------------------------------------------------------------\u001b[0m",
            "\u001b[0;31mKeyboardInterrupt\u001b[0m                         Traceback (most recent call last)",
            "\u001b[0;32m<ipython-input-10-455008569835>\u001b[0m in \u001b[0;36m<cell line: 1>\u001b[0;34m()\u001b[0m\n\u001b[0;32m----> 1\u001b[0;31m \u001b[0mtrain_dataset\u001b[0m \u001b[0;34m=\u001b[0m \u001b[0mDAICDataset\u001b[0m\u001b[0;34m(\u001b[0m\u001b[0mtrain_dir\u001b[0m\u001b[0;34m,\u001b[0m \u001b[0mtrain_label_csv\u001b[0m\u001b[0;34m,\u001b[0m \u001b[0mtokenizer\u001b[0m\u001b[0;34m,\u001b[0m \u001b[0mtext_model\u001b[0m\u001b[0;34m,\u001b[0m \u001b[0mfeature_extractor\u001b[0m\u001b[0;34m,\u001b[0m \u001b[0mwavlm_model\u001b[0m\u001b[0;34m,\u001b[0m \u001b[0mdevice\u001b[0m\u001b[0;34m)\u001b[0m\u001b[0;34m\u001b[0m\u001b[0;34m\u001b[0m\u001b[0m\n\u001b[0m",
            "\u001b[0;32m<ipython-input-7-408e13facb2e>\u001b[0m in \u001b[0;36m__init__\u001b[0;34m(self, root_dir, label_csv_path, tokenizer, text_model, feature_extractor, wavlm_model, device, embeddings_dir)\u001b[0m\n\u001b[1;32m     14\u001b[0m         \u001b[0mself\u001b[0m\u001b[0;34m.\u001b[0m\u001b[0msession_ids\u001b[0m \u001b[0;34m=\u001b[0m \u001b[0;34m[\u001b[0m\u001b[0md\u001b[0m \u001b[0;32mfor\u001b[0m \u001b[0md\u001b[0m \u001b[0;32min\u001b[0m \u001b[0mos\u001b[0m\u001b[0;34m.\u001b[0m\u001b[0mlistdir\u001b[0m\u001b[0;34m(\u001b[0m\u001b[0mroot_dir\u001b[0m\u001b[0;34m)\u001b[0m \u001b[0;32mif\u001b[0m \u001b[0mos\u001b[0m\u001b[0;34m.\u001b[0m\u001b[0mpath\u001b[0m\u001b[0;34m.\u001b[0m\u001b[0misdir\u001b[0m\u001b[0;34m(\u001b[0m\u001b[0mos\u001b[0m\u001b[0;34m.\u001b[0m\u001b[0mpath\u001b[0m\u001b[0;34m.\u001b[0m\u001b[0mjoin\u001b[0m\u001b[0;34m(\u001b[0m\u001b[0mroot_dir\u001b[0m\u001b[0;34m,\u001b[0m \u001b[0md\u001b[0m\u001b[0;34m)\u001b[0m\u001b[0;34m)\u001b[0m\u001b[0;34m]\u001b[0m\u001b[0;34m\u001b[0m\u001b[0;34m\u001b[0m\u001b[0m\n\u001b[1;32m     15\u001b[0m         \u001b[0mself\u001b[0m\u001b[0;34m.\u001b[0m\u001b[0mdata\u001b[0m \u001b[0;34m=\u001b[0m \u001b[0;34m[\u001b[0m\u001b[0;34m]\u001b[0m\u001b[0;34m\u001b[0m\u001b[0;34m\u001b[0m\u001b[0m\n\u001b[0;32m---> 16\u001b[0;31m         \u001b[0mself\u001b[0m\u001b[0;34m.\u001b[0m\u001b[0m_prepare_data\u001b[0m\u001b[0;34m(\u001b[0m\u001b[0;34m)\u001b[0m\u001b[0;34m\u001b[0m\u001b[0;34m\u001b[0m\u001b[0m\n\u001b[0m\u001b[1;32m     17\u001b[0m \u001b[0;34m\u001b[0m\u001b[0m\n\u001b[1;32m     18\u001b[0m     \u001b[0;32mdef\u001b[0m \u001b[0m_prepare_data\u001b[0m\u001b[0;34m(\u001b[0m\u001b[0mself\u001b[0m\u001b[0;34m)\u001b[0m\u001b[0;34m:\u001b[0m\u001b[0;34m\u001b[0m\u001b[0;34m\u001b[0m\u001b[0m\n",
            "\u001b[0;32m<ipython-input-7-408e13facb2e>\u001b[0m in \u001b[0;36m_prepare_data\u001b[0;34m(self)\u001b[0m\n\u001b[1;32m     82\u001b[0m             \u001b[0;32mfor\u001b[0m \u001b[0mentry\u001b[0m \u001b[0;32min\u001b[0m \u001b[0maligned_data\u001b[0m\u001b[0;34m:\u001b[0m\u001b[0;34m\u001b[0m\u001b[0;34m\u001b[0m\u001b[0m\n\u001b[1;32m     83\u001b[0m                 \u001b[0mtext_emb\u001b[0m \u001b[0;34m=\u001b[0m \u001b[0mget_sentence_level_text_embedding\u001b[0m\u001b[0;34m(\u001b[0m\u001b[0mentry\u001b[0m\u001b[0;34m[\u001b[0m\u001b[0;34m\"sentence\"\u001b[0m\u001b[0;34m]\u001b[0m\u001b[0;34m,\u001b[0m \u001b[0mself\u001b[0m\u001b[0;34m.\u001b[0m\u001b[0mtokenizer\u001b[0m\u001b[0;34m,\u001b[0m \u001b[0mself\u001b[0m\u001b[0;34m.\u001b[0m\u001b[0mtext_model\u001b[0m\u001b[0;34m)\u001b[0m\u001b[0;34m\u001b[0m\u001b[0;34m\u001b[0m\u001b[0m\n\u001b[0;32m---> 84\u001b[0;31m                 \u001b[0maudio_emb\u001b[0m \u001b[0;34m=\u001b[0m \u001b[0mget_audio_embedding\u001b[0m\u001b[0;34m(\u001b[0m\u001b[0mentry\u001b[0m\u001b[0;34m[\u001b[0m\u001b[0;34m\"audio_segment\"\u001b[0m\u001b[0;34m]\u001b[0m\u001b[0;34m,\u001b[0m \u001b[0mself\u001b[0m\u001b[0;34m.\u001b[0m\u001b[0mfeature_extractor\u001b[0m\u001b[0;34m,\u001b[0m \u001b[0mself\u001b[0m\u001b[0;34m.\u001b[0m\u001b[0mwavlm_model\u001b[0m\u001b[0;34m)\u001b[0m\u001b[0;34m\u001b[0m\u001b[0;34m\u001b[0m\u001b[0m\n\u001b[0m\u001b[1;32m     85\u001b[0m                 \u001b[0mtext_embeddings\u001b[0m\u001b[0;34m.\u001b[0m\u001b[0mappend\u001b[0m\u001b[0;34m(\u001b[0m\u001b[0mtext_emb\u001b[0m\u001b[0;34m)\u001b[0m\u001b[0;34m\u001b[0m\u001b[0;34m\u001b[0m\u001b[0m\n\u001b[1;32m     86\u001b[0m                 \u001b[0maudio_embeddings\u001b[0m\u001b[0;34m.\u001b[0m\u001b[0mappend\u001b[0m\u001b[0;34m(\u001b[0m\u001b[0maudio_emb\u001b[0m\u001b[0;34m)\u001b[0m\u001b[0;34m\u001b[0m\u001b[0;34m\u001b[0m\u001b[0m\n",
            "\u001b[0;32m<ipython-input-5-c09558a54ad8>\u001b[0m in \u001b[0;36mget_audio_embedding\u001b[0;34m(audio_segment, feature_extractor, wavlm_model)\u001b[0m\n\u001b[1;32m     19\u001b[0m \u001b[0;34m\u001b[0m\u001b[0m\n\u001b[1;32m     20\u001b[0m     \u001b[0;32mwith\u001b[0m \u001b[0mtorch\u001b[0m\u001b[0;34m.\u001b[0m\u001b[0mno_grad\u001b[0m\u001b[0;34m(\u001b[0m\u001b[0;34m)\u001b[0m\u001b[0;34m:\u001b[0m\u001b[0;34m\u001b[0m\u001b[0;34m\u001b[0m\u001b[0m\n\u001b[0;32m---> 21\u001b[0;31m         \u001b[0moutputs\u001b[0m \u001b[0;34m=\u001b[0m \u001b[0mwavlm_model\u001b[0m\u001b[0;34m(\u001b[0m\u001b[0;34m**\u001b[0m\u001b[0minputs\u001b[0m\u001b[0;34m)\u001b[0m\u001b[0;34m\u001b[0m\u001b[0;34m\u001b[0m\u001b[0m\n\u001b[0m\u001b[1;32m     22\u001b[0m \u001b[0;34m\u001b[0m\u001b[0m\n\u001b[1;32m     23\u001b[0m     \u001b[0;31m# last_hidden_state: (1, time_steps, embedding_dim)\u001b[0m\u001b[0;34m\u001b[0m\u001b[0;34m\u001b[0m\u001b[0m\n",
            "\u001b[0;32m/usr/local/lib/python3.10/dist-packages/torch/nn/modules/module.py\u001b[0m in \u001b[0;36m_wrapped_call_impl\u001b[0;34m(self, *args, **kwargs)\u001b[0m\n\u001b[1;32m   1734\u001b[0m             \u001b[0;32mreturn\u001b[0m \u001b[0mself\u001b[0m\u001b[0;34m.\u001b[0m\u001b[0m_compiled_call_impl\u001b[0m\u001b[0;34m(\u001b[0m\u001b[0;34m*\u001b[0m\u001b[0margs\u001b[0m\u001b[0;34m,\u001b[0m \u001b[0;34m**\u001b[0m\u001b[0mkwargs\u001b[0m\u001b[0;34m)\u001b[0m  \u001b[0;31m# type: ignore[misc]\u001b[0m\u001b[0;34m\u001b[0m\u001b[0;34m\u001b[0m\u001b[0m\n\u001b[1;32m   1735\u001b[0m         \u001b[0;32melse\u001b[0m\u001b[0;34m:\u001b[0m\u001b[0;34m\u001b[0m\u001b[0;34m\u001b[0m\u001b[0m\n\u001b[0;32m-> 1736\u001b[0;31m             \u001b[0;32mreturn\u001b[0m \u001b[0mself\u001b[0m\u001b[0;34m.\u001b[0m\u001b[0m_call_impl\u001b[0m\u001b[0;34m(\u001b[0m\u001b[0;34m*\u001b[0m\u001b[0margs\u001b[0m\u001b[0;34m,\u001b[0m \u001b[0;34m**\u001b[0m\u001b[0mkwargs\u001b[0m\u001b[0;34m)\u001b[0m\u001b[0;34m\u001b[0m\u001b[0;34m\u001b[0m\u001b[0m\n\u001b[0m\u001b[1;32m   1737\u001b[0m \u001b[0;34m\u001b[0m\u001b[0m\n\u001b[1;32m   1738\u001b[0m     \u001b[0;31m# torchrec tests the code consistency with the following code\u001b[0m\u001b[0;34m\u001b[0m\u001b[0;34m\u001b[0m\u001b[0m\n",
            "\u001b[0;32m/usr/local/lib/python3.10/dist-packages/torch/nn/modules/module.py\u001b[0m in \u001b[0;36m_call_impl\u001b[0;34m(self, *args, **kwargs)\u001b[0m\n\u001b[1;32m   1745\u001b[0m                 \u001b[0;32mor\u001b[0m \u001b[0m_global_backward_pre_hooks\u001b[0m \u001b[0;32mor\u001b[0m \u001b[0m_global_backward_hooks\u001b[0m\u001b[0;34m\u001b[0m\u001b[0;34m\u001b[0m\u001b[0m\n\u001b[1;32m   1746\u001b[0m                 or _global_forward_hooks or _global_forward_pre_hooks):\n\u001b[0;32m-> 1747\u001b[0;31m             \u001b[0;32mreturn\u001b[0m \u001b[0mforward_call\u001b[0m\u001b[0;34m(\u001b[0m\u001b[0;34m*\u001b[0m\u001b[0margs\u001b[0m\u001b[0;34m,\u001b[0m \u001b[0;34m**\u001b[0m\u001b[0mkwargs\u001b[0m\u001b[0;34m)\u001b[0m\u001b[0;34m\u001b[0m\u001b[0;34m\u001b[0m\u001b[0m\n\u001b[0m\u001b[1;32m   1748\u001b[0m \u001b[0;34m\u001b[0m\u001b[0m\n\u001b[1;32m   1749\u001b[0m         \u001b[0mresult\u001b[0m \u001b[0;34m=\u001b[0m \u001b[0;32mNone\u001b[0m\u001b[0;34m\u001b[0m\u001b[0;34m\u001b[0m\u001b[0m\n",
            "\u001b[0;32m/usr/local/lib/python3.10/dist-packages/transformers/models/wavlm/modeling_wavlm.py\u001b[0m in \u001b[0;36mforward\u001b[0;34m(self, input_values, attention_mask, mask_time_indices, output_attentions, output_hidden_states, return_dict)\u001b[0m\n\u001b[1;32m   1212\u001b[0m         \u001b[0mreturn_dict\u001b[0m \u001b[0;34m=\u001b[0m \u001b[0mreturn_dict\u001b[0m \u001b[0;32mif\u001b[0m \u001b[0mreturn_dict\u001b[0m \u001b[0;32mis\u001b[0m \u001b[0;32mnot\u001b[0m \u001b[0;32mNone\u001b[0m \u001b[0;32melse\u001b[0m \u001b[0mself\u001b[0m\u001b[0;34m.\u001b[0m\u001b[0mconfig\u001b[0m\u001b[0;34m.\u001b[0m\u001b[0muse_return_dict\u001b[0m\u001b[0;34m\u001b[0m\u001b[0;34m\u001b[0m\u001b[0m\n\u001b[1;32m   1213\u001b[0m \u001b[0;34m\u001b[0m\u001b[0m\n\u001b[0;32m-> 1214\u001b[0;31m         \u001b[0mextract_features\u001b[0m \u001b[0;34m=\u001b[0m \u001b[0mself\u001b[0m\u001b[0;34m.\u001b[0m\u001b[0mfeature_extractor\u001b[0m\u001b[0;34m(\u001b[0m\u001b[0minput_values\u001b[0m\u001b[0;34m)\u001b[0m\u001b[0;34m\u001b[0m\u001b[0;34m\u001b[0m\u001b[0m\n\u001b[0m\u001b[1;32m   1215\u001b[0m         \u001b[0mextract_features\u001b[0m \u001b[0;34m=\u001b[0m \u001b[0mextract_features\u001b[0m\u001b[0;34m.\u001b[0m\u001b[0mtranspose\u001b[0m\u001b[0;34m(\u001b[0m\u001b[0;36m1\u001b[0m\u001b[0;34m,\u001b[0m \u001b[0;36m2\u001b[0m\u001b[0;34m)\u001b[0m\u001b[0;34m\u001b[0m\u001b[0;34m\u001b[0m\u001b[0m\n\u001b[1;32m   1216\u001b[0m \u001b[0;34m\u001b[0m\u001b[0m\n",
            "\u001b[0;32m/usr/local/lib/python3.10/dist-packages/torch/nn/modules/module.py\u001b[0m in \u001b[0;36m_wrapped_call_impl\u001b[0;34m(self, *args, **kwargs)\u001b[0m\n\u001b[1;32m   1734\u001b[0m             \u001b[0;32mreturn\u001b[0m \u001b[0mself\u001b[0m\u001b[0;34m.\u001b[0m\u001b[0m_compiled_call_impl\u001b[0m\u001b[0;34m(\u001b[0m\u001b[0;34m*\u001b[0m\u001b[0margs\u001b[0m\u001b[0;34m,\u001b[0m \u001b[0;34m**\u001b[0m\u001b[0mkwargs\u001b[0m\u001b[0;34m)\u001b[0m  \u001b[0;31m# type: ignore[misc]\u001b[0m\u001b[0;34m\u001b[0m\u001b[0;34m\u001b[0m\u001b[0m\n\u001b[1;32m   1735\u001b[0m         \u001b[0;32melse\u001b[0m\u001b[0;34m:\u001b[0m\u001b[0;34m\u001b[0m\u001b[0;34m\u001b[0m\u001b[0m\n\u001b[0;32m-> 1736\u001b[0;31m             \u001b[0;32mreturn\u001b[0m \u001b[0mself\u001b[0m\u001b[0;34m.\u001b[0m\u001b[0m_call_impl\u001b[0m\u001b[0;34m(\u001b[0m\u001b[0;34m*\u001b[0m\u001b[0margs\u001b[0m\u001b[0;34m,\u001b[0m \u001b[0;34m**\u001b[0m\u001b[0mkwargs\u001b[0m\u001b[0;34m)\u001b[0m\u001b[0;34m\u001b[0m\u001b[0;34m\u001b[0m\u001b[0m\n\u001b[0m\u001b[1;32m   1737\u001b[0m \u001b[0;34m\u001b[0m\u001b[0m\n\u001b[1;32m   1738\u001b[0m     \u001b[0;31m# torchrec tests the code consistency with the following code\u001b[0m\u001b[0;34m\u001b[0m\u001b[0;34m\u001b[0m\u001b[0m\n",
            "\u001b[0;32m/usr/local/lib/python3.10/dist-packages/torch/nn/modules/module.py\u001b[0m in \u001b[0;36m_call_impl\u001b[0;34m(self, *args, **kwargs)\u001b[0m\n\u001b[1;32m   1745\u001b[0m                 \u001b[0;32mor\u001b[0m \u001b[0m_global_backward_pre_hooks\u001b[0m \u001b[0;32mor\u001b[0m \u001b[0m_global_backward_hooks\u001b[0m\u001b[0;34m\u001b[0m\u001b[0;34m\u001b[0m\u001b[0m\n\u001b[1;32m   1746\u001b[0m                 or _global_forward_hooks or _global_forward_pre_hooks):\n\u001b[0;32m-> 1747\u001b[0;31m             \u001b[0;32mreturn\u001b[0m \u001b[0mforward_call\u001b[0m\u001b[0;34m(\u001b[0m\u001b[0;34m*\u001b[0m\u001b[0margs\u001b[0m\u001b[0;34m,\u001b[0m \u001b[0;34m**\u001b[0m\u001b[0mkwargs\u001b[0m\u001b[0;34m)\u001b[0m\u001b[0;34m\u001b[0m\u001b[0;34m\u001b[0m\u001b[0m\n\u001b[0m\u001b[1;32m   1748\u001b[0m \u001b[0;34m\u001b[0m\u001b[0m\n\u001b[1;32m   1749\u001b[0m         \u001b[0mresult\u001b[0m \u001b[0;34m=\u001b[0m \u001b[0;32mNone\u001b[0m\u001b[0;34m\u001b[0m\u001b[0;34m\u001b[0m\u001b[0m\n",
            "\u001b[0;32m/usr/local/lib/python3.10/dist-packages/transformers/models/wavlm/modeling_wavlm.py\u001b[0m in \u001b[0;36mforward\u001b[0;34m(self, input_values)\u001b[0m\n\u001b[1;32m    366\u001b[0m                 )\n\u001b[1;32m    367\u001b[0m             \u001b[0;32melse\u001b[0m\u001b[0;34m:\u001b[0m\u001b[0;34m\u001b[0m\u001b[0;34m\u001b[0m\u001b[0m\n\u001b[0;32m--> 368\u001b[0;31m                 \u001b[0mhidden_states\u001b[0m \u001b[0;34m=\u001b[0m \u001b[0mconv_layer\u001b[0m\u001b[0;34m(\u001b[0m\u001b[0mhidden_states\u001b[0m\u001b[0;34m)\u001b[0m\u001b[0;34m\u001b[0m\u001b[0;34m\u001b[0m\u001b[0m\n\u001b[0m\u001b[1;32m    369\u001b[0m \u001b[0;34m\u001b[0m\u001b[0m\n\u001b[1;32m    370\u001b[0m         \u001b[0;32mreturn\u001b[0m \u001b[0mhidden_states\u001b[0m\u001b[0;34m\u001b[0m\u001b[0;34m\u001b[0m\u001b[0m\n",
            "\u001b[0;32m/usr/local/lib/python3.10/dist-packages/torch/nn/modules/module.py\u001b[0m in \u001b[0;36m_wrapped_call_impl\u001b[0;34m(self, *args, **kwargs)\u001b[0m\n\u001b[1;32m   1734\u001b[0m             \u001b[0;32mreturn\u001b[0m \u001b[0mself\u001b[0m\u001b[0;34m.\u001b[0m\u001b[0m_compiled_call_impl\u001b[0m\u001b[0;34m(\u001b[0m\u001b[0;34m*\u001b[0m\u001b[0margs\u001b[0m\u001b[0;34m,\u001b[0m \u001b[0;34m**\u001b[0m\u001b[0mkwargs\u001b[0m\u001b[0;34m)\u001b[0m  \u001b[0;31m# type: ignore[misc]\u001b[0m\u001b[0;34m\u001b[0m\u001b[0;34m\u001b[0m\u001b[0m\n\u001b[1;32m   1735\u001b[0m         \u001b[0;32melse\u001b[0m\u001b[0;34m:\u001b[0m\u001b[0;34m\u001b[0m\u001b[0;34m\u001b[0m\u001b[0m\n\u001b[0;32m-> 1736\u001b[0;31m             \u001b[0;32mreturn\u001b[0m \u001b[0mself\u001b[0m\u001b[0;34m.\u001b[0m\u001b[0m_call_impl\u001b[0m\u001b[0;34m(\u001b[0m\u001b[0;34m*\u001b[0m\u001b[0margs\u001b[0m\u001b[0;34m,\u001b[0m \u001b[0;34m**\u001b[0m\u001b[0mkwargs\u001b[0m\u001b[0;34m)\u001b[0m\u001b[0;34m\u001b[0m\u001b[0;34m\u001b[0m\u001b[0m\n\u001b[0m\u001b[1;32m   1737\u001b[0m \u001b[0;34m\u001b[0m\u001b[0m\n\u001b[1;32m   1738\u001b[0m     \u001b[0;31m# torchrec tests the code consistency with the following code\u001b[0m\u001b[0;34m\u001b[0m\u001b[0;34m\u001b[0m\u001b[0m\n",
            "\u001b[0;32m/usr/local/lib/python3.10/dist-packages/torch/nn/modules/module.py\u001b[0m in \u001b[0;36m_call_impl\u001b[0;34m(self, *args, **kwargs)\u001b[0m\n\u001b[1;32m   1745\u001b[0m                 \u001b[0;32mor\u001b[0m \u001b[0m_global_backward_pre_hooks\u001b[0m \u001b[0;32mor\u001b[0m \u001b[0m_global_backward_hooks\u001b[0m\u001b[0;34m\u001b[0m\u001b[0;34m\u001b[0m\u001b[0m\n\u001b[1;32m   1746\u001b[0m                 or _global_forward_hooks or _global_forward_pre_hooks):\n\u001b[0;32m-> 1747\u001b[0;31m             \u001b[0;32mreturn\u001b[0m \u001b[0mforward_call\u001b[0m\u001b[0;34m(\u001b[0m\u001b[0;34m*\u001b[0m\u001b[0margs\u001b[0m\u001b[0;34m,\u001b[0m \u001b[0;34m**\u001b[0m\u001b[0mkwargs\u001b[0m\u001b[0;34m)\u001b[0m\u001b[0;34m\u001b[0m\u001b[0;34m\u001b[0m\u001b[0m\n\u001b[0m\u001b[1;32m   1748\u001b[0m \u001b[0;34m\u001b[0m\u001b[0m\n\u001b[1;32m   1749\u001b[0m         \u001b[0mresult\u001b[0m \u001b[0;34m=\u001b[0m \u001b[0;32mNone\u001b[0m\u001b[0;34m\u001b[0m\u001b[0;34m\u001b[0m\u001b[0m\n",
            "\u001b[0;32m/usr/local/lib/python3.10/dist-packages/transformers/models/wavlm/modeling_wavlm.py\u001b[0m in \u001b[0;36mforward\u001b[0;34m(self, hidden_states)\u001b[0m\n\u001b[1;32m    210\u001b[0m \u001b[0;34m\u001b[0m\u001b[0m\n\u001b[1;32m    211\u001b[0m     \u001b[0;32mdef\u001b[0m \u001b[0mforward\u001b[0m\u001b[0;34m(\u001b[0m\u001b[0mself\u001b[0m\u001b[0;34m,\u001b[0m \u001b[0mhidden_states\u001b[0m\u001b[0;34m)\u001b[0m\u001b[0;34m:\u001b[0m\u001b[0;34m\u001b[0m\u001b[0;34m\u001b[0m\u001b[0m\n\u001b[0;32m--> 212\u001b[0;31m         \u001b[0mhidden_states\u001b[0m \u001b[0;34m=\u001b[0m \u001b[0mself\u001b[0m\u001b[0;34m.\u001b[0m\u001b[0mconv\u001b[0m\u001b[0;34m(\u001b[0m\u001b[0mhidden_states\u001b[0m\u001b[0;34m)\u001b[0m\u001b[0;34m\u001b[0m\u001b[0;34m\u001b[0m\u001b[0m\n\u001b[0m\u001b[1;32m    213\u001b[0m         \u001b[0mhidden_states\u001b[0m \u001b[0;34m=\u001b[0m \u001b[0mself\u001b[0m\u001b[0;34m.\u001b[0m\u001b[0mactivation\u001b[0m\u001b[0;34m(\u001b[0m\u001b[0mhidden_states\u001b[0m\u001b[0;34m)\u001b[0m\u001b[0;34m\u001b[0m\u001b[0;34m\u001b[0m\u001b[0m\n\u001b[1;32m    214\u001b[0m         \u001b[0;32mreturn\u001b[0m \u001b[0mhidden_states\u001b[0m\u001b[0;34m\u001b[0m\u001b[0;34m\u001b[0m\u001b[0m\n",
            "\u001b[0;32m/usr/local/lib/python3.10/dist-packages/torch/nn/modules/module.py\u001b[0m in \u001b[0;36m_wrapped_call_impl\u001b[0;34m(self, *args, **kwargs)\u001b[0m\n\u001b[1;32m   1734\u001b[0m             \u001b[0;32mreturn\u001b[0m \u001b[0mself\u001b[0m\u001b[0;34m.\u001b[0m\u001b[0m_compiled_call_impl\u001b[0m\u001b[0;34m(\u001b[0m\u001b[0;34m*\u001b[0m\u001b[0margs\u001b[0m\u001b[0;34m,\u001b[0m \u001b[0;34m**\u001b[0m\u001b[0mkwargs\u001b[0m\u001b[0;34m)\u001b[0m  \u001b[0;31m# type: ignore[misc]\u001b[0m\u001b[0;34m\u001b[0m\u001b[0;34m\u001b[0m\u001b[0m\n\u001b[1;32m   1735\u001b[0m         \u001b[0;32melse\u001b[0m\u001b[0;34m:\u001b[0m\u001b[0;34m\u001b[0m\u001b[0;34m\u001b[0m\u001b[0m\n\u001b[0;32m-> 1736\u001b[0;31m             \u001b[0;32mreturn\u001b[0m \u001b[0mself\u001b[0m\u001b[0;34m.\u001b[0m\u001b[0m_call_impl\u001b[0m\u001b[0;34m(\u001b[0m\u001b[0;34m*\u001b[0m\u001b[0margs\u001b[0m\u001b[0;34m,\u001b[0m \u001b[0;34m**\u001b[0m\u001b[0mkwargs\u001b[0m\u001b[0;34m)\u001b[0m\u001b[0;34m\u001b[0m\u001b[0;34m\u001b[0m\u001b[0m\n\u001b[0m\u001b[1;32m   1737\u001b[0m \u001b[0;34m\u001b[0m\u001b[0m\n\u001b[1;32m   1738\u001b[0m     \u001b[0;31m# torchrec tests the code consistency with the following code\u001b[0m\u001b[0;34m\u001b[0m\u001b[0;34m\u001b[0m\u001b[0m\n",
            "\u001b[0;32m/usr/local/lib/python3.10/dist-packages/torch/nn/modules/module.py\u001b[0m in \u001b[0;36m_call_impl\u001b[0;34m(self, *args, **kwargs)\u001b[0m\n\u001b[1;32m   1745\u001b[0m                 \u001b[0;32mor\u001b[0m \u001b[0m_global_backward_pre_hooks\u001b[0m \u001b[0;32mor\u001b[0m \u001b[0m_global_backward_hooks\u001b[0m\u001b[0;34m\u001b[0m\u001b[0;34m\u001b[0m\u001b[0m\n\u001b[1;32m   1746\u001b[0m                 or _global_forward_hooks or _global_forward_pre_hooks):\n\u001b[0;32m-> 1747\u001b[0;31m             \u001b[0;32mreturn\u001b[0m \u001b[0mforward_call\u001b[0m\u001b[0;34m(\u001b[0m\u001b[0;34m*\u001b[0m\u001b[0margs\u001b[0m\u001b[0;34m,\u001b[0m \u001b[0;34m**\u001b[0m\u001b[0mkwargs\u001b[0m\u001b[0;34m)\u001b[0m\u001b[0;34m\u001b[0m\u001b[0;34m\u001b[0m\u001b[0m\n\u001b[0m\u001b[1;32m   1748\u001b[0m \u001b[0;34m\u001b[0m\u001b[0m\n\u001b[1;32m   1749\u001b[0m         \u001b[0mresult\u001b[0m \u001b[0;34m=\u001b[0m \u001b[0;32mNone\u001b[0m\u001b[0;34m\u001b[0m\u001b[0;34m\u001b[0m\u001b[0m\n",
            "\u001b[0;32m/usr/local/lib/python3.10/dist-packages/torch/nn/modules/conv.py\u001b[0m in \u001b[0;36mforward\u001b[0;34m(self, input)\u001b[0m\n\u001b[1;32m    373\u001b[0m \u001b[0;34m\u001b[0m\u001b[0m\n\u001b[1;32m    374\u001b[0m     \u001b[0;32mdef\u001b[0m \u001b[0mforward\u001b[0m\u001b[0;34m(\u001b[0m\u001b[0mself\u001b[0m\u001b[0;34m,\u001b[0m \u001b[0minput\u001b[0m\u001b[0;34m:\u001b[0m \u001b[0mTensor\u001b[0m\u001b[0;34m)\u001b[0m \u001b[0;34m->\u001b[0m \u001b[0mTensor\u001b[0m\u001b[0;34m:\u001b[0m\u001b[0;34m\u001b[0m\u001b[0;34m\u001b[0m\u001b[0m\n\u001b[0;32m--> 375\u001b[0;31m         \u001b[0;32mreturn\u001b[0m \u001b[0mself\u001b[0m\u001b[0;34m.\u001b[0m\u001b[0m_conv_forward\u001b[0m\u001b[0;34m(\u001b[0m\u001b[0minput\u001b[0m\u001b[0;34m,\u001b[0m \u001b[0mself\u001b[0m\u001b[0;34m.\u001b[0m\u001b[0mweight\u001b[0m\u001b[0;34m,\u001b[0m \u001b[0mself\u001b[0m\u001b[0;34m.\u001b[0m\u001b[0mbias\u001b[0m\u001b[0;34m)\u001b[0m\u001b[0;34m\u001b[0m\u001b[0;34m\u001b[0m\u001b[0m\n\u001b[0m\u001b[1;32m    376\u001b[0m \u001b[0;34m\u001b[0m\u001b[0m\n\u001b[1;32m    377\u001b[0m \u001b[0;34m\u001b[0m\u001b[0m\n",
            "\u001b[0;32m/usr/local/lib/python3.10/dist-packages/torch/nn/modules/conv.py\u001b[0m in \u001b[0;36m_conv_forward\u001b[0;34m(self, input, weight, bias)\u001b[0m\n\u001b[1;32m    368\u001b[0m                 \u001b[0mself\u001b[0m\u001b[0;34m.\u001b[0m\u001b[0mgroups\u001b[0m\u001b[0;34m,\u001b[0m\u001b[0;34m\u001b[0m\u001b[0;34m\u001b[0m\u001b[0m\n\u001b[1;32m    369\u001b[0m             )\n\u001b[0;32m--> 370\u001b[0;31m         return F.conv1d(\n\u001b[0m\u001b[1;32m    371\u001b[0m             \u001b[0minput\u001b[0m\u001b[0;34m,\u001b[0m \u001b[0mweight\u001b[0m\u001b[0;34m,\u001b[0m \u001b[0mbias\u001b[0m\u001b[0;34m,\u001b[0m \u001b[0mself\u001b[0m\u001b[0;34m.\u001b[0m\u001b[0mstride\u001b[0m\u001b[0;34m,\u001b[0m \u001b[0mself\u001b[0m\u001b[0;34m.\u001b[0m\u001b[0mpadding\u001b[0m\u001b[0;34m,\u001b[0m \u001b[0mself\u001b[0m\u001b[0;34m.\u001b[0m\u001b[0mdilation\u001b[0m\u001b[0;34m,\u001b[0m \u001b[0mself\u001b[0m\u001b[0;34m.\u001b[0m\u001b[0mgroups\u001b[0m\u001b[0;34m\u001b[0m\u001b[0;34m\u001b[0m\u001b[0m\n\u001b[1;32m    372\u001b[0m         )\n",
            "\u001b[0;31mKeyboardInterrupt\u001b[0m: "
          ]
        }
      ]
    },
    {
      "cell_type": "code",
      "source": [
        "df = pd.read_csv(train_label_csv)"
      ],
      "metadata": {
        "id": "TDsAV3w2Ttoq"
      },
      "execution_count": null,
      "outputs": []
    },
    {
      "cell_type": "code",
      "source": [
        "df"
      ],
      "metadata": {
        "id": "26L-tQilT-Sc"
      },
      "execution_count": null,
      "outputs": []
    },
    {
      "cell_type": "code",
      "source": [
        "df.info()"
      ],
      "metadata": {
        "id": "boR4Q2kUUAcu"
      },
      "execution_count": null,
      "outputs": []
    },
    {
      "cell_type": "markdown",
      "source": [
        "# Attempt2"
      ],
      "metadata": {
        "id": "BQpo28UpWlKF"
      }
    },
    {
      "cell_type": "code",
      "source": [
        "def get_sentence_level_text_embedding(sentence, tokenizer, text_model):\n",
        "    inputs = tokenizer(sentence, return_tensors=\"pt\", padding=True, truncation=True).to(device)\n",
        "    with torch.no_grad():\n",
        "        outputs = text_model(**inputs)\n",
        "    sentence_embedding = outputs.last_hidden_state[:, 0, :]  # [CLS] token embedding\n",
        "    return sentence_embedding.squeeze(0)\n",
        "\n",
        "def get_audio_embedding(audio_segment, feature_extractor, wavlm_model):\n",
        "    audio_data = np.array(audio_segment.get_array_of_samples()).astype(np.int16)\n",
        "    audio_data_tensor = torch.tensor(audio_data, dtype=torch.float32).to(device)\n",
        "\n",
        "    inputs = feature_extractor(\n",
        "        audio_data_tensor,\n",
        "        sampling_rate=audio_segment.frame_rate,\n",
        "        return_tensors=\"pt\",\n",
        "        padding=True\n",
        "    )\n",
        "    inputs = {key: val.to(device) for key, val in inputs.items()}\n",
        "\n",
        "    with torch.no_grad():\n",
        "        outputs = wavlm_model(**inputs)\n",
        "\n",
        "    # last_hidden_state: (1, time_steps, embedding_dim)\n",
        "    audio_embeddings = outputs.last_hidden_state.squeeze(0)\n",
        "    # Average pooling over time\n",
        "    audio_embedding_vector = audio_embeddings.mean(dim=0)\n",
        "    return audio_embedding_vector\n",
        "\n",
        "def load_label_dict(label_csv_path):\n",
        "    \"\"\"\n",
        "    Loads a CSV file that contains at least these columns: \"Participant_ID\", \"PHQ8_Binary\".\n",
        "    Converts Participant_ID to an integer, then to a string to match how we handle directory-based IDs.\n",
        "    \"\"\"\n",
        "    df = pd.read_csv(label_csv_path)\n",
        "    label_dict = {}\n",
        "    for _, row in df.iterrows():\n",
        "        # Convert participant_id to integer, then to string for consistency\n",
        "        base_id_str = str(int(row[\"Participant_ID\"]))  # Ensures \"315.0\" becomes \"315\"\n",
        "        label = int(row[\"PHQ8_Binary\"])\n",
        "        label_dict[base_id_str] = label\n",
        "        print(f\"Loaded label for {base_id_str}: {label}\")\n",
        "    return label_dict\n",
        "\n",
        "class DAICDataset(Dataset):\n",
        "    def __init__(self, root_dir, label_csv_path, tokenizer, text_model, feature_extractor, wavlm_model, device, embeddings_dir=None):\n",
        "        \"\"\"\n",
        "        root_dir: path to the split directory (train, validate, or test) containing session folders.\n",
        "        label_csv_path: path to the CSV file containing Participant_ID and PHQ8_Binary columns.\n",
        "        embeddings_dir: optional directory to save/load precomputed embeddings.\n",
        "        \"\"\"\n",
        "        self.root_dir = root_dir\n",
        "        self.tokenizer = tokenizer\n",
        "        self.text_model = text_model\n",
        "        self.feature_extractor = feature_extractor\n",
        "        self.wavlm_model = wavlm_model\n",
        "        self.device = device\n",
        "        self.embeddings_dir = embeddings_dir\n",
        "\n",
        "        # Load the label dictionary\n",
        "        self.label_dict = load_label_dict(label_csv_path)\n",
        "\n",
        "        self.session_ids = [d for d in os.listdir(root_dir) if os.path.isdir(os.path.join(root_dir, d))]\n",
        "        self.data = []\n",
        "        self._prepare_data()\n",
        "\n",
        "    def _prepare_data(self):\n",
        "        # If embeddings_dir is provided, create split-specific dir\n",
        "        split_name = os.path.basename(self.root_dir)  # 'train', 'validate', 'test'\n",
        "        if self.embeddings_dir is not None:\n",
        "            split_embeddings_dir = os.path.join(self.embeddings_dir, split_name)\n",
        "            os.makedirs(split_embeddings_dir, exist_ok=True)\n",
        "        else:\n",
        "            split_embeddings_dir = None\n",
        "\n",
        "        for session_id in self.session_ids:\n",
        "            base_id_str = session_id.split('_')[0]  # e.g. \"315\" from \"315_P\"\n",
        "            print(base_id_str)\n",
        "            # Check if we have precomputed embeddings\n",
        "            embed_file_path = None\n",
        "            if split_embeddings_dir is not None:\n",
        "                embed_file_path = os.path.join(split_embeddings_dir, f\"{session_id}.pt\")\n",
        "                if os.path.exists(embed_file_path):\n",
        "                    # Load precomputed embeddings\n",
        "                    saved_data = torch.load(embed_file_path)\n",
        "                    text_sequence = saved_data['text_sequence']\n",
        "                    audio_sequence = saved_data['audio_sequence']\n",
        "                    label = saved_data['label']\n",
        "                    self.data.append((text_sequence, audio_sequence, label))\n",
        "                    continue\n",
        "\n",
        "            # If we don't have precomputed embeddings or embeddings_dir not used, process data\n",
        "            transcript_file, audio_file = self._find_files(session_id)\n",
        "            if transcript_file is None or audio_file is None:\n",
        "                print(f\"Transcript or audio missing for {session_id}, skipping.\")\n",
        "                continue\n",
        "\n",
        "            filtered_df = self._load_and_filter_transcript(transcript_file)\n",
        "            if filtered_df is None or len(filtered_df) == 0:\n",
        "                # No valid transcripts after filtering Ellie\n",
        "                continue\n",
        "\n",
        "            if not os.path.exists(audio_file):\n",
        "                print(f\"Audio file not found: {audio_file}\")\n",
        "                continue\n",
        "\n",
        "            full_audio = AudioSegment.from_wav(audio_file)\n",
        "\n",
        "            aligned_data = []\n",
        "            for _, row in filtered_df.iterrows():\n",
        "                try:\n",
        "                    start_time = float(row[\"start_time\"])\n",
        "                    stop_time = float(row[\"stop_time\"])\n",
        "                    sentence = row[\"value\"]\n",
        "                    start_ms = int(start_time * 1000)\n",
        "                    stop_ms = int(stop_time * 1000)\n",
        "                    audio_segment = full_audio[start_ms:stop_ms]\n",
        "\n",
        "                    aligned_data.append({\n",
        "                        \"start_time\": start_time,\n",
        "                        \"stop_time\": stop_time,\n",
        "                        \"sentence\": sentence,\n",
        "                        \"audio_segment\": audio_segment\n",
        "                    })\n",
        "                except ValueError:\n",
        "                    continue\n",
        "\n",
        "            if len(aligned_data) == 0:\n",
        "                # No valid sentences\n",
        "                continue\n",
        "            min_duration = 0.1  # minimum duration in seconds\n",
        "\n",
        "            if (len(audio_segment) / 1000.0) < min_duration:\n",
        "            # Skip this segment\n",
        "                continue\n",
        "\n",
        "\n",
        "            text_embeddings = []\n",
        "            audio_embeddings = []\n",
        "            for entry in aligned_data:\n",
        "                text_emb = get_sentence_level_text_embedding(entry[\"sentence\"], self.tokenizer, self.text_model)\n",
        "                audio_emb = get_audio_embedding(entry[\"audio_segment\"], self.feature_extractor, self.wavlm_model)\n",
        "                text_embeddings.append(text_emb)\n",
        "                audio_embeddings.append(audio_emb)\n",
        "\n",
        "            if len(text_embeddings) == 0:\n",
        "                continue\n",
        "\n",
        "            # Stack embeddings: [num_sentences, embedding_dim]\n",
        "            text_sequence = torch.stack(text_embeddings, dim=0)\n",
        "            audio_sequence = torch.stack(audio_embeddings, dim=0)\n",
        "\n",
        "            # Move them to CPU before storing in self.data\n",
        "            text_sequence = text_sequence.cpu()\n",
        "            audio_sequence = audio_sequence.cpu()\n",
        "\n",
        "            if base_id_str not in self.label_dict:\n",
        "                print(f\"No label found for {base_id_str}\")\n",
        "                label = 0\n",
        "            else:\n",
        "                label = self.label_dict[base_id_str]\n",
        "                print(f\"{base_id_str}: {label}\")\n",
        "\n",
        "            # Save embeddings if path is given\n",
        "            if embed_file_path is not None:\n",
        "                torch.save({\n",
        "                    'text_sequence': text_sequence,\n",
        "                    'audio_sequence': audio_sequence,\n",
        "                    'label': label\n",
        "                }, embed_file_path)\n",
        "\n",
        "            self.data.append((text_sequence, audio_sequence, label))\n",
        "\n",
        "\n",
        "    def _find_files(self, session_id):\n",
        "        session_path = os.path.join(self.root_dir, session_id)\n",
        "        transcript_file = None\n",
        "        audio_file = None\n",
        "        for fn in os.listdir(session_path):\n",
        "            if fn.endswith(\"_TRANSCRIPT.csv\"):\n",
        "                transcript_file = os.path.join(session_path, fn)\n",
        "            if fn.endswith(\"_AUDIO.wav\"):\n",
        "                audio_file = os.path.join(session_path, fn)\n",
        "        return transcript_file, audio_file\n",
        "\n",
        "    def _load_and_filter_transcript(self, transcript_file):\n",
        "        df = pd.read_csv(transcript_file, usecols=[0], header=None)\n",
        "        df_split = df[0].str.split('\\t', expand=True)\n",
        "        if df_split.shape[1] < 4:\n",
        "            print(f\"Transcript file {transcript_file} has unexpected format.\")\n",
        "            return None\n",
        "        df_split.columns = [\"start_time\", \"stop_time\", \"speaker\", \"value\"]\n",
        "        filtered_df = df_split[df_split[\"speaker\"] != \"Ellie\"]\n",
        "        return filtered_df\n",
        "\n",
        "    def __len__(self):\n",
        "        return len(self.data)\n",
        "\n",
        "    def __getitem__(self, idx):\n",
        "        return self.data[idx]\n"
      ],
      "metadata": {
        "id": "uzl2xMd8X_qM"
      },
      "execution_count": null,
      "outputs": []
    },
    {
      "cell_type": "code",
      "source": [
        "def collate_fn(batch):\n",
        "    text_seqs = [item[0] for item in batch]  # CPU tensors\n",
        "    audio_seqs = [item[1] for item in batch] # CPU tensors\n",
        "    labels = [item[2] for item in batch]\n",
        "\n",
        "    max_len_text = max(seq.size(0) for seq in text_seqs)\n",
        "    max_len_audio = max(seq.size(0) for seq in audio_seqs)\n",
        "\n",
        "    padded_text = []\n",
        "    for seq in text_seqs:\n",
        "        if seq.size(0) < max_len_text:\n",
        "            diff = max_len_text - seq.size(0)\n",
        "            pad_tensor = torch.zeros(diff, seq.size(1))  # should be CPU\n",
        "            # Debug prints for text sequence\n",
        "            #print(\"Text seq device before cat:\", seq.device)\n",
        "            #print(\"Text pad_tensor device before cat:\", pad_tensor.device)\n",
        "            seq = torch.cat([seq, pad_tensor], dim=0)  # Both seq and pad_tensor should be on CPU\n",
        "            #print(\"Text seq device after cat:\", seq.device)\n",
        "        padded_text.append(seq.unsqueeze(0))\n",
        "    padded_text = torch.cat(padded_text, dim=0)  # [batch_size, max_len_text, D]\n",
        "\n",
        "    padded_audio = []\n",
        "    for seq in audio_seqs:\n",
        "        if seq.size(0) < max_len_audio:\n",
        "            diff = max_len_audio - seq.size(0)\n",
        "            pad_tensor = torch.zeros(diff, seq.size(1))  # should be CPU\n",
        "            # Debug prints for audio sequence\n",
        "            #print(\"Audio seq device before cat:\", seq.device)\n",
        "            #print(\"Audio pad_tensor device before cat:\", pad_tensor.device)\n",
        "            seq = torch.cat([seq, pad_tensor], dim=0)  # Both seq and pad_tensor should be on CPU\n",
        "            #print(\"Audio seq device after cat:\", seq.device)\n",
        "        padded_audio.append(seq.unsqueeze(0))\n",
        "    padded_audio = torch.cat(padded_audio, dim=0) # [batch_size, max_len_audio, D]\n",
        "\n",
        "    labels = torch.tensor(labels, dtype=torch.long)  # CPU\n",
        "\n",
        "    #print(\"Final shapes:\", padded_text.shape, padded_audio.shape, labels.shape)\n",
        "    #print(\"Final devices:\", padded_text.device, padded_audio.device, labels.device)\n",
        "\n",
        "    return padded_text, padded_audio, labels\n"
      ],
      "metadata": {
        "id": "Np3QNRF-iJy-"
      },
      "execution_count": null,
      "outputs": []
    },
    {
      "cell_type": "code",
      "source": [
        "train_label_csv = \"/content/drive/MyDrive/pkl/train_set.csv\"\n",
        "val_label_csv = \"/content/drive/MyDrive/pkl/validation_set.csv\"\n",
        "test_label_csv = \"/content/drive/MyDrive/pkl/full_test_split.csv\"\n",
        "\n",
        "train_dir = os.path.join(database_dir, 'train')\n",
        "val_dir = os.path.join(database_dir, 'validate')\n",
        "test_dir = os.path.join(database_dir, 'test')\n"
      ],
      "metadata": {
        "id": "KtCLLZ1zXYcK"
      },
      "execution_count": null,
      "outputs": []
    },
    {
      "cell_type": "markdown",
      "source": [
        "# Generate .pt files to drive"
      ],
      "metadata": {
        "id": "YGPpF36nIEXB"
      }
    },
    {
      "cell_type": "code",
      "source": [
        "train_embedding_dir = '/content/drive/MyDrive/Embeddings_sub/Embeddings_small/train'\n",
        "test_embedding_dir = '/content/drive/MyDrive/Embeddings_sub/Embeddings_small/test'\n",
        "val_embedding_dir = '/content/drive/MyDrive/Embeddings_sub/Embeddings_small/validate'\n",
        "embeddings_dir = '/content/drive/MyDrive/Embeddings_sub/Embeddings_small'"
      ],
      "metadata": {
        "id": "N-dHK8yRJAWo"
      },
      "execution_count": null,
      "outputs": []
    },
    {
      "cell_type": "code",
      "source": [
        "train_label_csv = os.path.join(database_dir, '/content/drive/MyDrive/pkl/train_set.csv')\n",
        "val_label_csv = os.path.join(database_dir, '/content/drive/MyDrive/pkl/validation_set.csv')\n",
        "test_label_csv = os.path.join(database_dir, '/content/drive/MyDrive/pkl/full_test_split.csv')\n",
        "\n",
        "train_dir = os.path.join(database_dir, 'train')\n",
        "val_dir = os.path.join(database_dir, 'validate')\n",
        "test_dir = os.path.join(database_dir, 'test')"
      ],
      "metadata": {
        "id": "tcqY5LWFiq20"
      },
      "execution_count": null,
      "outputs": []
    },
    {
      "cell_type": "code",
      "source": [
        "import os\n",
        "import torch\n",
        "import pandas as pd\n",
        "import numpy as np\n",
        "from torch.utils.data import Dataset, DataLoader\n",
        "from pydub import AudioSegment\n",
        "\n",
        "def get_sentence_level_text_embedding(sentence, tokenizer, text_model, device):\n",
        "    # Generate attention_mask for text embeddings\n",
        "    inputs = tokenizer(\n",
        "        sentence,\n",
        "        return_tensors=\"pt\",\n",
        "        padding=True,\n",
        "        truncation=True,\n",
        "        return_attention_mask=True\n",
        "    ).to(device)\n",
        "\n",
        "    with torch.no_grad():\n",
        "        outputs = text_model(**inputs)\n",
        "    # Take [CLS] token embedding\n",
        "    sentence_embedding = outputs.last_hidden_state[:, 0, :]\n",
        "    return sentence_embedding.squeeze(0)\n",
        "\n",
        "def get_audio_embedding(audio_segment, feature_extractor, wavlm_model, device):\n",
        "    audio_data = np.array(audio_segment.get_array_of_samples()).astype(np.int16)\n",
        "    audio_data_tensor = torch.tensor(audio_data, dtype=torch.float32).to(device)\n",
        "\n",
        "    # Generate attention_mask for audio embeddings\n",
        "    inputs = feature_extractor(\n",
        "        audio_data_tensor,\n",
        "        sampling_rate=audio_segment.frame_rate,\n",
        "        return_tensors=\"pt\",\n",
        "        padding=True,\n",
        "        return_attention_mask=True\n",
        "    )\n",
        "    inputs = {key: val.to(device) for key, val in inputs.items()}\n",
        "\n",
        "    with torch.no_grad():\n",
        "        outputs = wavlm_model(**inputs)\n",
        "\n",
        "    # outputs.last_hidden_state: (1, time_steps, embedding_dim)\n",
        "    audio_embeddings = outputs.last_hidden_state.squeeze(0)\n",
        "    # Average pooling over time\n",
        "    audio_embedding_vector = audio_embeddings.mean(dim=0)\n",
        "    return audio_embedding_vector\n",
        "\n",
        "def load_label_dict(label_csv_path):\n",
        "    \"\"\"\n",
        "    Loads a CSV file that contains at least these columns: \"Participant_ID\", \"PHQ8_Binary\".\n",
        "    Converts Participant_ID to an integer, then to a string to match how we handle directory-based IDs.\n",
        "    \"\"\"\n",
        "    df = pd.read_csv(label_csv_path)\n",
        "    label_dict = {}\n",
        "    for _, row in df.iterrows():\n",
        "        base_id_str = str(int(row[\"Participant_ID\"]))  # Ensures \"315.0\" becomes \"315\"\n",
        "        label = int(row[\"PHQ8_Binary\"])\n",
        "        label_dict[base_id_str] = label\n",
        "        print(f\"Loaded label for {base_id_str}: {label}\")\n",
        "    return label_dict\n",
        "\n",
        "class DAICDataset(Dataset):\n",
        "    def __init__(self, root_dir, label_csv_path, tokenizer, text_model, feature_extractor, wavlm_model, device, embeddings_dir=None):\n",
        "        \"\"\"\n",
        "        root_dir: path to the split directory (train, validate, or test) containing session folders.\n",
        "        label_csv_path: path to the CSV file containing Participant_ID and PHQ8_Binary columns.\n",
        "        embeddings_dir: optional directory to save/load precomputed embeddings.\n",
        "        \"\"\"\n",
        "        self.root_dir = root_dir\n",
        "        self.tokenizer = tokenizer\n",
        "        self.text_model = text_model\n",
        "        self.feature_extractor = feature_extractor\n",
        "        self.wavlm_model = wavlm_model\n",
        "        self.device = device\n",
        "        self.embeddings_dir = embeddings_dir\n",
        "\n",
        "        # Load the label dictionary\n",
        "        self.label_dict = load_label_dict(label_csv_path)\n",
        "\n",
        "        self.session_ids = [d for d in os.listdir(root_dir) if os.path.isdir(os.path.join(root_dir, d))]\n",
        "        self.data = []\n",
        "        self._prepare_data()\n",
        "\n",
        "    def _prepare_data(self):\n",
        "        # If embeddings_dir is provided, create split-specific dir\n",
        "        split_name = os.path.basename(self.root_dir)  # 'train', 'validate', 'test'\n",
        "        if self.embeddings_dir is not None:\n",
        "            split_embeddings_dir = os.path.join(self.embeddings_dir, split_name)\n",
        "            os.makedirs(split_embeddings_dir, exist_ok=True)\n",
        "        else:\n",
        "            split_embeddings_dir = None\n",
        "\n",
        "        for session_id in self.session_ids:\n",
        "            base_id_str = session_id.split('_')[0]  # e.g. \"315\" from \"315_P\"\n",
        "            print(base_id_str)\n",
        "            # Check if we have precomputed embeddings\n",
        "            embed_file_path = None\n",
        "            if split_embeddings_dir is not None:\n",
        "                embed_file_path = os.path.join(split_embeddings_dir, f\"{session_id}.pt\")\n",
        "                if os.path.exists(embed_file_path):\n",
        "                    # Load precomputed embeddings\n",
        "                    saved_data = torch.load(embed_file_path)\n",
        "                    text_sequence = saved_data['text_sequence']\n",
        "                    audio_sequence = saved_data['audio_sequence']\n",
        "                    label = saved_data['label']\n",
        "                    self.data.append((text_sequence, audio_sequence, label))\n",
        "                    continue\n",
        "\n",
        "            # If we don't have precomputed embeddings or embeddings_dir not used, process data\n",
        "            transcript_file, audio_file = self._find_files(session_id)\n",
        "            if transcript_file is None or audio_file is None:\n",
        "                print(f\"Transcript or audio missing for {session_id}, skipping.\")\n",
        "                continue\n",
        "\n",
        "            filtered_df = self._load_and_filter_transcript(transcript_file)\n",
        "            if filtered_df is None or len(filtered_df) == 0:\n",
        "                # No valid transcripts after filtering Ellie\n",
        "                continue\n",
        "\n",
        "            if not os.path.exists(audio_file):\n",
        "                print(f\"Audio file not found: {audio_file}\")\n",
        "                continue\n",
        "\n",
        "            full_audio = AudioSegment.from_wav(audio_file)\n",
        "\n",
        "            aligned_data = []\n",
        "            for _, row in filtered_df.iterrows():\n",
        "                try:\n",
        "                    start_time = float(row[\"start_time\"])\n",
        "                    stop_time = float(row[\"stop_time\"])\n",
        "                    sentence = row[\"value\"]\n",
        "                    start_ms = int(start_time * 1000)\n",
        "                    stop_ms = int(stop_time * 1000)\n",
        "                    audio_segment = full_audio[start_ms:stop_ms]\n",
        "\n",
        "                    # Minimum duration\n",
        "                    min_duration = 0.1  # seconds\n",
        "                    if (len(audio_segment) / 1000.0) < min_duration:\n",
        "                        continue\n",
        "\n",
        "                    aligned_data.append({\n",
        "                        \"start_time\": start_time,\n",
        "                        \"stop_time\": stop_time,\n",
        "                        \"sentence\": sentence,\n",
        "                        \"audio_segment\": audio_segment\n",
        "                    })\n",
        "                except ValueError:\n",
        "                    continue\n",
        "\n",
        "            if len(aligned_data) == 0:\n",
        "                # No valid sentences\n",
        "                continue\n",
        "\n",
        "            text_embeddings = []\n",
        "            audio_embeddings = []\n",
        "            for entry in aligned_data:\n",
        "                text_emb = get_sentence_level_text_embedding(entry[\"sentence\"], self.tokenizer, self.text_model, self.device)\n",
        "                audio_emb = get_audio_embedding(entry[\"audio_segment\"], self.feature_extractor, self.wavlm_model, self.device)\n",
        "                text_embeddings.append(text_emb)\n",
        "                audio_embeddings.append(audio_emb)\n",
        "\n",
        "            if len(text_embeddings) == 0:\n",
        "                continue\n",
        "\n",
        "            # Stack embeddings: [num_sentences, embedding_dim]\n",
        "            text_sequence = torch.stack(text_embeddings, dim=0)\n",
        "            audio_sequence = torch.stack(audio_embeddings, dim=0)\n",
        "\n",
        "            # Move them to CPU before storing in self.data\n",
        "            text_sequence = text_sequence.cpu()\n",
        "            audio_sequence = audio_sequence.cpu()\n",
        "\n",
        "            if base_id_str not in self.label_dict:\n",
        "                print(f\"No label found for {base_id_str}\")\n",
        "                label = 0\n",
        "            else:\n",
        "                label = self.label_dict[base_id_str]\n",
        "                print(f\"{base_id_str}: {label}\")\n",
        "\n",
        "            # Save embeddings if path is given\n",
        "            if embed_file_path is not None:\n",
        "                torch.save({\n",
        "                    'text_sequence': text_sequence,\n",
        "                    'audio_sequence': audio_sequence,\n",
        "                    'label': label\n",
        "                }, embed_file_path)\n",
        "\n",
        "            self.data.append((text_sequence, audio_sequence, label))\n",
        "\n",
        "    def _find_files(self, session_id):\n",
        "        session_path = os.path.join(self.root_dir, session_id)\n",
        "        transcript_file = None\n",
        "        audio_file = None\n",
        "        for fn in os.listdir(session_path):\n",
        "            if fn.endswith(\"_TRANSCRIPT.csv\"):\n",
        "                transcript_file = os.path.join(session_path, fn)\n",
        "            if fn.endswith(\"_AUDIO.wav\"):\n",
        "                audio_file = os.path.join(session_path, fn)\n",
        "        return transcript_file, audio_file\n",
        "\n",
        "    def _load_and_filter_transcript(self, transcript_file):\n",
        "        df = pd.read_csv(transcript_file, usecols=[0], header=None)\n",
        "        df_split = df[0].str.split('\\t', expand=True)\n",
        "        if df_split.shape[1] < 4:\n",
        "            print(f\"Transcript file {transcript_file} has unexpected format.\")\n",
        "            return None\n",
        "        df_split.columns = [\"start_time\", \"stop_time\", \"speaker\", \"value\"]\n",
        "        filtered_df = df_split[df_split[\"speaker\"] != \"Ellie\"]\n",
        "        return filtered_df\n",
        "\n",
        "    def __len__(self):\n",
        "        return len(self.data)\n",
        "\n",
        "    def __getitem__(self, idx):\n",
        "        return self.data[idx]\n",
        "\n",
        "def collate_fn(batch):\n",
        "    text_seqs = [item[0] for item in batch]  # CPU tensors [seq_len, text_dim]\n",
        "    audio_seqs = [item[1] for item in batch] # CPU tensors [seq_len, audio_dim]\n",
        "    labels = [item[2] for item in batch]\n",
        "\n",
        "    # Compute max lengths for padding\n",
        "    max_len_text = max(seq.size(0) for seq in text_seqs)\n",
        "    max_len_audio = max(seq.size(0) for seq in audio_seqs)\n",
        "\n",
        "    # Initialize masks\n",
        "    text_mask = torch.zeros(len(text_seqs), max_len_text, dtype=torch.long)\n",
        "    audio_mask = torch.zeros(len(audio_seqs), max_len_audio, dtype=torch.long)\n",
        "\n",
        "    padded_text = []\n",
        "    for i, seq in enumerate(text_seqs):\n",
        "        original_len = seq.size(0)\n",
        "        if original_len < max_len_text:\n",
        "            diff = max_len_text - original_len\n",
        "            pad_tensor = torch.zeros(diff, seq.size(1))  # CPU\n",
        "            seq = torch.cat([seq, pad_tensor], dim=0)\n",
        "        padded_text.append(seq.unsqueeze(0))\n",
        "        text_mask[i, :original_len] = 1\n",
        "\n",
        "    padded_text = torch.cat(padded_text, dim=0)  # [batch_size, max_len_text, text_dim]\n",
        "\n",
        "    padded_audio = []\n",
        "    for i, seq in enumerate(audio_seqs):\n",
        "        original_len = seq.size(0)\n",
        "        if original_len < max_len_audio:\n",
        "            diff = max_len_audio - original_len\n",
        "            pad_tensor = torch.zeros(diff, seq.size(1))  # CPU\n",
        "            seq = torch.cat([seq, pad_tensor], dim=0)\n",
        "        padded_audio.append(seq.unsqueeze(0))\n",
        "        audio_mask[i, :original_len] = 1\n",
        "\n",
        "    padded_audio = torch.cat(padded_audio, dim=0) # [batch_size, max_len_audio, audio_dim]\n",
        "\n",
        "    labels = torch.tensor(labels, dtype=torch.long)  # CPU\n",
        "\n",
        "    return padded_text, padded_audio, text_mask, audio_mask, labels\n"
      ],
      "metadata": {
        "id": "A4bAAsW0Jnin"
      },
      "execution_count": null,
      "outputs": []
    },
    {
      "cell_type": "code",
      "source": [
        "train_dir_subset1 = '/content/drive/MyDrive/DAIC_WOZ/train'\n",
        "embeddings_dir = '/content/drive/MyDrive/Embeddings_Large'\n",
        "\n",
        "train_dataset_1 = DAICDataset(train_dir_subset1, train_label_csv, tokenizer, text_model, feature_extractor, wavlm_model, device, embeddings_dir=embeddings_dir)\n",
        "train_loader_1 = DataLoader(train_dataset_1, batch_size=16, shuffle=True, collate_fn=collate_fn)\n",
        "\n",
        "for batch in train_loader_1:\n",
        "    # This ensures embeddings are generated and saved\n",
        "    pass\n"
      ],
      "metadata": {
        "colab": {
          "base_uri": "https://localhost:8080/"
        },
        "id": "3-AoFJ6a5Zcy",
        "outputId": "3cc06a76-0713-4dae-a735-3beb25cde56a"
      },
      "execution_count": null,
      "outputs": [
        {
          "metadata": {
            "tags": null
          },
          "name": "stdout",
          "output_type": "stream",
          "text": [
            "Loaded label for 334: 0\n",
            "Loaded label for 304: 0\n",
            "Loaded label for 387: 0\n",
            "Loaded label for 327: 0\n",
            "Loaded label for 349: 0\n",
            "Loaded label for 311: 1\n",
            "Loaded label for 396: 0\n",
            "Loaded label for 400: 0\n",
            "Loaded label for 428: 0\n",
            "Loaded label for 353: 1\n",
            "Loaded label for 330: 1\n",
            "Loaded label for 303: 0\n",
            "Loaded label for 326: 0\n",
            "Loaded label for 457: 0\n",
            "Loaded label for 385: 0\n",
            "Loaded label for 356: 1\n",
            "Loaded label for 470: 0\n",
            "Loaded label for 446: 0\n",
            "Loaded label for 344: 1\n",
            "Loaded label for 462: 0\n",
            "Loaded label for 442: 0\n",
            "Loaded label for 448: 1\n",
            "Loaded label for 468: 0\n",
            "Loaded label for 386: 1\n",
            "Loaded label for 357: 0\n",
            "Loaded label for 393: 0\n",
            "Loaded label for 360: 0\n",
            "Loaded label for 310: 0\n",
            "Loaded label for 316: 0\n",
            "Loaded label for 371: 0\n",
            "Loaded label for 318: 0\n",
            "Loaded label for 375: 0\n",
            "Loaded label for 485: 0\n",
            "Loaded label for 399: 0\n",
            "Loaded label for 425: 0\n",
            "Loaded label for 434: 0\n",
            "Loaded label for 419: 0\n",
            "Loaded label for 338: 1\n",
            "Loaded label for 350: 1\n",
            "Loaded label for 480: 0\n",
            "Loaded label for 370: 0\n",
            "Loaded label for 488: 0\n",
            "Loaded label for 332: 1\n",
            "Loaded label for 373: 0\n",
            "Loaded label for 380: 1\n",
            "Loaded label for 445: 0\n",
            "Loaded label for 347: 1\n",
            "Loaded label for 410: 1\n",
            "Loaded label for 383: 0\n",
            "Loaded label for 433: 1\n",
            "Loaded label for 432: 0\n",
            "Loaded label for 363: 0\n",
            "Loaded label for 455: 0\n",
            "Loaded label for 348: 1\n",
            "Loaded label for 314: 0\n",
            "Loaded label for 321: 1\n",
            "Loaded label for 378: 0\n",
            "Loaded label for 329: 0\n",
            "Loaded label for 427: 0\n",
            "Loaded label for 313: 0\n",
            "Loaded label for 474: 0\n",
            "Loaded label for 424: 0\n",
            "Loaded label for 351: 1\n",
            "Loaded label for 322: 0\n",
            "Loaded label for 466: 0\n",
            "Loaded label for 308: 1\n",
            "Loaded label for 362: 1\n",
            "Loaded label for 465: 0\n",
            "Loaded label for 412: 1\n",
            "Loaded label for 401: 0\n",
            "Loaded label for 467: 0\n",
            "Loaded label for 309: 1\n",
            "Loaded label for 463: 0\n",
            "Loaded label for 354: 1\n",
            "Loaded label for 340: 0\n",
            "Loaded label for 449: 0\n",
            "Loaded label for 323: 0\n",
            "Loaded label for 426: 1\n",
            "Loaded label for 325: 1\n",
            "Loaded label for 328: 0\n",
            "Loaded label for 423: 0\n",
            "Loaded label for 319: 1\n",
            "Loaded label for 430: 0\n",
            "Loaded label for 405: 1\n",
            "Loaded label for 324: 0\n",
            "Loaded label for 453: 1\n",
            "Loaded label for 411: 0\n",
            "Loaded label for 339: 1\n",
            "Loaded label for 461: 1\n",
            "Loaded label for 391: 0\n",
            "Loaded label for 361: 0\n",
            "Loaded label for 452: 0\n",
            "Loaded label for 479: 0\n",
            "Loaded label for 315: 0\n",
            "Loaded label for 437: 0\n",
            "Loaded label for 416: 0\n",
            "Loaded label for 320: 1\n",
            "Loaded label for 336: 0\n",
            "Loaded label for 358: 0\n",
            "Loaded label for 447: 0\n",
            "Loaded label for 300: 0\n",
            "Loaded label for 392: 0\n",
            "Loaded label for 408: 0\n",
            "Loaded label for 305: 0\n",
            "Loaded label for 431: 0\n",
            "Loaded label for 402: 1\n",
            "Loaded label for 379: 0\n",
            "Loaded label for 381: 1\n",
            "Loaded label for 451: 0\n",
            "Loaded label for 390: 0\n",
            "Loaded label for 472: 0\n",
            "Loaded label for 389: 1\n",
            "Loaded label for 436: 0\n",
            "Loaded label for 439: 0\n",
            "Loaded label for 331: 0\n",
            "Loaded label for 382: 0\n",
            "Loaded label for 406: 0\n",
            "Loaded label for 417: 0\n",
            "Loaded label for 367: 1\n",
            "Loaded label for 395: 0\n",
            "Loaded label for 440: 1\n",
            "Loaded label for 307: 0\n",
            "Loaded label for 377: 1\n",
            "Loaded label for 477: 0\n",
            "Loaded label for 302: 0\n",
            "Loaded label for 489: 0\n",
            "Loaded label for 346: 1\n",
            "Loaded label for 413: 1\n",
            "300\n"
          ]
        },
        {
          "metadata": {
            "tags": null
          },
          "name": "stderr",
          "output_type": "stream",
          "text": [
            "/usr/local/lib/python3.10/dist-packages/torch/nn/functional.py:5849: UserWarning: Support for mismatched key_padding_mask and attn_mask is deprecated. Use same type for both instead.\n",
            "  warnings.warn(\n"
          ]
        },
        {
          "metadata": {
            "tags": null
          },
          "name": "stdout",
          "output_type": "stream",
          "text": [
            "300: 0\n",
            "303\n"
          ]
        },
        {
          "metadata": {
            "tags": null
          },
          "name": "stderr",
          "output_type": "stream",
          "text": [
            "/usr/local/lib/python3.10/dist-packages/torch/nn/functional.py:5849: UserWarning: Support for mismatched key_padding_mask and attn_mask is deprecated. Use same type for both instead.\n",
            "  warnings.warn(\n"
          ]
        },
        {
          "metadata": {
            "tags": null
          },
          "name": "stdout",
          "output_type": "stream",
          "text": [
            "303: 0\n",
            "304\n"
          ]
        },
        {
          "metadata": {
            "tags": null
          },
          "name": "stderr",
          "output_type": "stream",
          "text": [
            "/usr/local/lib/python3.10/dist-packages/torch/nn/functional.py:5849: UserWarning: Support for mismatched key_padding_mask and attn_mask is deprecated. Use same type for both instead.\n",
            "  warnings.warn(\n"
          ]
        },
        {
          "metadata": {
            "tags": null
          },
          "name": "stdout",
          "output_type": "stream",
          "text": [
            "304: 0\n",
            "305\n"
          ]
        },
        {
          "metadata": {
            "tags": null
          },
          "name": "stderr",
          "output_type": "stream",
          "text": [
            "/usr/local/lib/python3.10/dist-packages/torch/nn/functional.py:5849: UserWarning: Support for mismatched key_padding_mask and attn_mask is deprecated. Use same type for both instead.\n",
            "  warnings.warn(\n"
          ]
        },
        {
          "metadata": {
            "tags": null
          },
          "name": "stdout",
          "output_type": "stream",
          "text": [
            "305: 0\n",
            "308\n"
          ]
        },
        {
          "metadata": {
            "tags": null
          },
          "name": "stderr",
          "output_type": "stream",
          "text": [
            "/usr/local/lib/python3.10/dist-packages/torch/nn/functional.py:5849: UserWarning: Support for mismatched key_padding_mask and attn_mask is deprecated. Use same type for both instead.\n",
            "  warnings.warn(\n"
          ]
        },
        {
          "metadata": {
            "tags": null
          },
          "name": "stdout",
          "output_type": "stream",
          "text": [
            "308: 1\n",
            "309\n"
          ]
        },
        {
          "metadata": {
            "tags": null
          },
          "name": "stderr",
          "output_type": "stream",
          "text": [
            "/usr/local/lib/python3.10/dist-packages/torch/nn/functional.py:5849: UserWarning: Support for mismatched key_padding_mask and attn_mask is deprecated. Use same type for both instead.\n",
            "  warnings.warn(\n"
          ]
        },
        {
          "metadata": {
            "tags": null
          },
          "name": "stdout",
          "output_type": "stream",
          "text": [
            "309: 1\n",
            "310\n"
          ]
        },
        {
          "metadata": {
            "tags": null
          },
          "name": "stderr",
          "output_type": "stream",
          "text": [
            "/usr/local/lib/python3.10/dist-packages/torch/nn/functional.py:5849: UserWarning: Support for mismatched key_padding_mask and attn_mask is deprecated. Use same type for both instead.\n",
            "  warnings.warn(\n"
          ]
        },
        {
          "metadata": {
            "tags": null
          },
          "name": "stdout",
          "output_type": "stream",
          "text": [
            "310: 0\n",
            "311\n"
          ]
        },
        {
          "metadata": {
            "tags": null
          },
          "name": "stderr",
          "output_type": "stream",
          "text": [
            "/usr/local/lib/python3.10/dist-packages/torch/nn/functional.py:5849: UserWarning: Support for mismatched key_padding_mask and attn_mask is deprecated. Use same type for both instead.\n",
            "  warnings.warn(\n"
          ]
        },
        {
          "metadata": {
            "tags": null
          },
          "name": "stdout",
          "output_type": "stream",
          "text": [
            "311: 1\n",
            "313\n"
          ]
        },
        {
          "metadata": {
            "tags": null
          },
          "name": "stderr",
          "output_type": "stream",
          "text": [
            "/usr/local/lib/python3.10/dist-packages/torch/nn/functional.py:5849: UserWarning: Support for mismatched key_padding_mask and attn_mask is deprecated. Use same type for both instead.\n",
            "  warnings.warn(\n"
          ]
        },
        {
          "metadata": {
            "tags": null
          },
          "name": "stdout",
          "output_type": "stream",
          "text": [
            "313: 0\n",
            "314\n"
          ]
        },
        {
          "metadata": {
            "tags": null
          },
          "name": "stderr",
          "output_type": "stream",
          "text": [
            "/usr/local/lib/python3.10/dist-packages/torch/nn/functional.py:5849: UserWarning: Support for mismatched key_padding_mask and attn_mask is deprecated. Use same type for both instead.\n",
            "  warnings.warn(\n"
          ]
        },
        {
          "metadata": {
            "tags": null
          },
          "name": "stdout",
          "output_type": "stream",
          "text": [
            "314: 0\n",
            "315\n"
          ]
        },
        {
          "metadata": {
            "tags": null
          },
          "name": "stderr",
          "output_type": "stream",
          "text": [
            "/usr/local/lib/python3.10/dist-packages/torch/nn/functional.py:5849: UserWarning: Support for mismatched key_padding_mask and attn_mask is deprecated. Use same type for both instead.\n",
            "  warnings.warn(\n"
          ]
        },
        {
          "metadata": {
            "tags": null
          },
          "name": "stdout",
          "output_type": "stream",
          "text": [
            "315: 0\n",
            "316\n"
          ]
        },
        {
          "metadata": {
            "tags": null
          },
          "name": "stderr",
          "output_type": "stream",
          "text": [
            "/usr/local/lib/python3.10/dist-packages/torch/nn/functional.py:5849: UserWarning: Support for mismatched key_padding_mask and attn_mask is deprecated. Use same type for both instead.\n",
            "  warnings.warn(\n"
          ]
        },
        {
          "metadata": {
            "tags": null
          },
          "name": "stdout",
          "output_type": "stream",
          "text": [
            "316: 0\n",
            "318\n"
          ]
        },
        {
          "metadata": {
            "tags": null
          },
          "name": "stderr",
          "output_type": "stream",
          "text": [
            "/usr/local/lib/python3.10/dist-packages/torch/nn/functional.py:5849: UserWarning: Support for mismatched key_padding_mask and attn_mask is deprecated. Use same type for both instead.\n",
            "  warnings.warn(\n"
          ]
        },
        {
          "metadata": {
            "tags": null
          },
          "name": "stdout",
          "output_type": "stream",
          "text": [
            "318: 0\n",
            "319\n"
          ]
        },
        {
          "metadata": {
            "tags": null
          },
          "name": "stderr",
          "output_type": "stream",
          "text": [
            "/usr/local/lib/python3.10/dist-packages/torch/nn/functional.py:5849: UserWarning: Support for mismatched key_padding_mask and attn_mask is deprecated. Use same type for both instead.\n",
            "  warnings.warn(\n"
          ]
        },
        {
          "metadata": {
            "tags": null
          },
          "name": "stdout",
          "output_type": "stream",
          "text": [
            "319: 1\n",
            "320\n"
          ]
        },
        {
          "metadata": {
            "tags": null
          },
          "name": "stderr",
          "output_type": "stream",
          "text": [
            "/usr/local/lib/python3.10/dist-packages/torch/nn/functional.py:5849: UserWarning: Support for mismatched key_padding_mask and attn_mask is deprecated. Use same type for both instead.\n",
            "  warnings.warn(\n"
          ]
        },
        {
          "metadata": {
            "tags": null
          },
          "name": "stdout",
          "output_type": "stream",
          "text": [
            "320: 1\n",
            "321\n"
          ]
        },
        {
          "metadata": {
            "tags": null
          },
          "name": "stderr",
          "output_type": "stream",
          "text": [
            "/usr/local/lib/python3.10/dist-packages/torch/nn/functional.py:5849: UserWarning: Support for mismatched key_padding_mask and attn_mask is deprecated. Use same type for both instead.\n",
            "  warnings.warn(\n"
          ]
        },
        {
          "metadata": {
            "tags": null
          },
          "name": "stdout",
          "output_type": "stream",
          "text": [
            "321: 1\n",
            "322\n"
          ]
        },
        {
          "metadata": {
            "tags": null
          },
          "name": "stderr",
          "output_type": "stream",
          "text": [
            "/usr/local/lib/python3.10/dist-packages/torch/nn/functional.py:5849: UserWarning: Support for mismatched key_padding_mask and attn_mask is deprecated. Use same type for both instead.\n",
            "  warnings.warn(\n"
          ]
        },
        {
          "metadata": {
            "tags": null
          },
          "name": "stdout",
          "output_type": "stream",
          "text": [
            "322: 0\n",
            "323\n"
          ]
        },
        {
          "metadata": {
            "tags": null
          },
          "name": "stderr",
          "output_type": "stream",
          "text": [
            "/usr/local/lib/python3.10/dist-packages/torch/nn/functional.py:5849: UserWarning: Support for mismatched key_padding_mask and attn_mask is deprecated. Use same type for both instead.\n",
            "  warnings.warn(\n"
          ]
        },
        {
          "metadata": {
            "tags": null
          },
          "name": "stdout",
          "output_type": "stream",
          "text": [
            "323: 0\n",
            "324\n"
          ]
        },
        {
          "metadata": {
            "tags": null
          },
          "name": "stderr",
          "output_type": "stream",
          "text": [
            "/usr/local/lib/python3.10/dist-packages/torch/nn/functional.py:5849: UserWarning: Support for mismatched key_padding_mask and attn_mask is deprecated. Use same type for both instead.\n",
            "  warnings.warn(\n"
          ]
        },
        {
          "metadata": {
            "tags": null
          },
          "name": "stdout",
          "output_type": "stream",
          "text": [
            "324: 0\n",
            "325\n"
          ]
        },
        {
          "metadata": {
            "tags": null
          },
          "name": "stderr",
          "output_type": "stream",
          "text": [
            "/usr/local/lib/python3.10/dist-packages/torch/nn/functional.py:5849: UserWarning: Support for mismatched key_padding_mask and attn_mask is deprecated. Use same type for both instead.\n",
            "  warnings.warn(\n"
          ]
        },
        {
          "metadata": {
            "tags": null
          },
          "name": "stdout",
          "output_type": "stream",
          "text": [
            "325: 1\n",
            "326\n"
          ]
        },
        {
          "metadata": {
            "tags": null
          },
          "name": "stderr",
          "output_type": "stream",
          "text": [
            "/usr/local/lib/python3.10/dist-packages/torch/nn/functional.py:5849: UserWarning: Support for mismatched key_padding_mask and attn_mask is deprecated. Use same type for both instead.\n",
            "  warnings.warn(\n"
          ]
        },
        {
          "metadata": {
            "tags": null
          },
          "name": "stdout",
          "output_type": "stream",
          "text": [
            "326: 0\n",
            "327\n"
          ]
        },
        {
          "metadata": {
            "tags": null
          },
          "name": "stderr",
          "output_type": "stream",
          "text": [
            "/usr/local/lib/python3.10/dist-packages/torch/nn/functional.py:5849: UserWarning: Support for mismatched key_padding_mask and attn_mask is deprecated. Use same type for both instead.\n",
            "  warnings.warn(\n"
          ]
        },
        {
          "metadata": {
            "tags": null
          },
          "name": "stdout",
          "output_type": "stream",
          "text": [
            "327: 0\n",
            "328\n"
          ]
        },
        {
          "metadata": {
            "tags": null
          },
          "name": "stderr",
          "output_type": "stream",
          "text": [
            "/usr/local/lib/python3.10/dist-packages/torch/nn/functional.py:5849: UserWarning: Support for mismatched key_padding_mask and attn_mask is deprecated. Use same type for both instead.\n",
            "  warnings.warn(\n"
          ]
        },
        {
          "metadata": {
            "tags": null
          },
          "name": "stdout",
          "output_type": "stream",
          "text": [
            "328: 0\n",
            "329\n"
          ]
        },
        {
          "metadata": {
            "tags": null
          },
          "name": "stderr",
          "output_type": "stream",
          "text": [
            "/usr/local/lib/python3.10/dist-packages/torch/nn/functional.py:5849: UserWarning: Support for mismatched key_padding_mask and attn_mask is deprecated. Use same type for both instead.\n",
            "  warnings.warn(\n"
          ]
        },
        {
          "metadata": {
            "tags": null
          },
          "name": "stdout",
          "output_type": "stream",
          "text": [
            "329: 0\n",
            "330\n"
          ]
        },
        {
          "metadata": {
            "tags": null
          },
          "name": "stderr",
          "output_type": "stream",
          "text": [
            "/usr/local/lib/python3.10/dist-packages/torch/nn/functional.py:5849: UserWarning: Support for mismatched key_padding_mask and attn_mask is deprecated. Use same type for both instead.\n",
            "  warnings.warn(\n"
          ]
        },
        {
          "metadata": {
            "tags": null
          },
          "name": "stdout",
          "output_type": "stream",
          "text": [
            "330: 1\n",
            "332\n"
          ]
        },
        {
          "metadata": {
            "tags": null
          },
          "name": "stderr",
          "output_type": "stream",
          "text": [
            "/usr/local/lib/python3.10/dist-packages/torch/nn/functional.py:5849: UserWarning: Support for mismatched key_padding_mask and attn_mask is deprecated. Use same type for both instead.\n",
            "  warnings.warn(\n"
          ]
        },
        {
          "metadata": {
            "tags": null
          },
          "name": "stdout",
          "output_type": "stream",
          "text": [
            "332: 1\n",
            "334\n"
          ]
        },
        {
          "metadata": {
            "tags": null
          },
          "name": "stderr",
          "output_type": "stream",
          "text": [
            "/usr/local/lib/python3.10/dist-packages/torch/nn/functional.py:5849: UserWarning: Support for mismatched key_padding_mask and attn_mask is deprecated. Use same type for both instead.\n",
            "  warnings.warn(\n"
          ]
        },
        {
          "metadata": {
            "tags": null
          },
          "name": "stdout",
          "output_type": "stream",
          "text": [
            "334: 0\n",
            "336\n"
          ]
        },
        {
          "metadata": {
            "tags": null
          },
          "name": "stderr",
          "output_type": "stream",
          "text": [
            "/usr/local/lib/python3.10/dist-packages/torch/nn/functional.py:5849: UserWarning: Support for mismatched key_padding_mask and attn_mask is deprecated. Use same type for both instead.\n",
            "  warnings.warn(\n"
          ]
        },
        {
          "metadata": {
            "tags": null
          },
          "name": "stdout",
          "output_type": "stream",
          "text": [
            "336: 0\n",
            "338\n"
          ]
        },
        {
          "metadata": {
            "tags": null
          },
          "name": "stderr",
          "output_type": "stream",
          "text": [
            "/usr/local/lib/python3.10/dist-packages/torch/nn/functional.py:5849: UserWarning: Support for mismatched key_padding_mask and attn_mask is deprecated. Use same type for both instead.\n",
            "  warnings.warn(\n"
          ]
        },
        {
          "metadata": {
            "tags": null
          },
          "name": "stdout",
          "output_type": "stream",
          "text": [
            "338: 1\n",
            "339\n"
          ]
        },
        {
          "metadata": {
            "tags": null
          },
          "name": "stderr",
          "output_type": "stream",
          "text": [
            "/usr/local/lib/python3.10/dist-packages/torch/nn/functional.py:5849: UserWarning: Support for mismatched key_padding_mask and attn_mask is deprecated. Use same type for both instead.\n",
            "  warnings.warn(\n"
          ]
        },
        {
          "metadata": {
            "tags": null
          },
          "name": "stdout",
          "output_type": "stream",
          "text": [
            "339: 1\n",
            "340\n"
          ]
        },
        {
          "metadata": {
            "tags": null
          },
          "name": "stderr",
          "output_type": "stream",
          "text": [
            "/usr/local/lib/python3.10/dist-packages/torch/nn/functional.py:5849: UserWarning: Support for mismatched key_padding_mask and attn_mask is deprecated. Use same type for both instead.\n",
            "  warnings.warn(\n"
          ]
        },
        {
          "metadata": {
            "tags": null
          },
          "name": "stdout",
          "output_type": "stream",
          "text": [
            "340: 0\n",
            "344\n"
          ]
        },
        {
          "metadata": {
            "tags": null
          },
          "name": "stderr",
          "output_type": "stream",
          "text": [
            "/usr/local/lib/python3.10/dist-packages/torch/nn/functional.py:5849: UserWarning: Support for mismatched key_padding_mask and attn_mask is deprecated. Use same type for both instead.\n",
            "  warnings.warn(\n"
          ]
        },
        {
          "metadata": {
            "tags": null
          },
          "name": "stdout",
          "output_type": "stream",
          "text": [
            "344: 1\n",
            "347\n"
          ]
        },
        {
          "metadata": {
            "tags": null
          },
          "name": "stderr",
          "output_type": "stream",
          "text": [
            "/usr/local/lib/python3.10/dist-packages/torch/nn/functional.py:5849: UserWarning: Support for mismatched key_padding_mask and attn_mask is deprecated. Use same type for both instead.\n",
            "  warnings.warn(\n"
          ]
        },
        {
          "metadata": {
            "tags": null
          },
          "name": "stdout",
          "output_type": "stream",
          "text": [
            "347: 1\n",
            "348\n"
          ]
        },
        {
          "metadata": {
            "tags": null
          },
          "name": "stderr",
          "output_type": "stream",
          "text": [
            "/usr/local/lib/python3.10/dist-packages/torch/nn/functional.py:5849: UserWarning: Support for mismatched key_padding_mask and attn_mask is deprecated. Use same type for both instead.\n",
            "  warnings.warn(\n"
          ]
        },
        {
          "metadata": {
            "tags": null
          },
          "name": "stdout",
          "output_type": "stream",
          "text": [
            "348: 1\n",
            "349\n"
          ]
        },
        {
          "metadata": {
            "tags": null
          },
          "name": "stderr",
          "output_type": "stream",
          "text": [
            "/usr/local/lib/python3.10/dist-packages/torch/nn/functional.py:5849: UserWarning: Support for mismatched key_padding_mask and attn_mask is deprecated. Use same type for both instead.\n",
            "  warnings.warn(\n"
          ]
        },
        {
          "metadata": {
            "tags": null
          },
          "name": "stdout",
          "output_type": "stream",
          "text": [
            "349: 0\n",
            "350\n"
          ]
        },
        {
          "metadata": {
            "tags": null
          },
          "name": "stderr",
          "output_type": "stream",
          "text": [
            "/usr/local/lib/python3.10/dist-packages/torch/nn/functional.py:5849: UserWarning: Support for mismatched key_padding_mask and attn_mask is deprecated. Use same type for both instead.\n",
            "  warnings.warn(\n"
          ]
        },
        {
          "metadata": {
            "tags": null
          },
          "name": "stdout",
          "output_type": "stream",
          "text": [
            "350: 1\n",
            "351\n"
          ]
        },
        {
          "metadata": {
            "tags": null
          },
          "name": "stderr",
          "output_type": "stream",
          "text": [
            "/usr/local/lib/python3.10/dist-packages/torch/nn/functional.py:5849: UserWarning: Support for mismatched key_padding_mask and attn_mask is deprecated. Use same type for both instead.\n",
            "  warnings.warn(\n"
          ]
        },
        {
          "metadata": {
            "tags": null
          },
          "name": "stdout",
          "output_type": "stream",
          "text": [
            "351: 1\n",
            "353\n"
          ]
        },
        {
          "metadata": {
            "tags": null
          },
          "name": "stderr",
          "output_type": "stream",
          "text": [
            "/usr/local/lib/python3.10/dist-packages/torch/nn/functional.py:5849: UserWarning: Support for mismatched key_padding_mask and attn_mask is deprecated. Use same type for both instead.\n",
            "  warnings.warn(\n"
          ]
        },
        {
          "metadata": {
            "tags": null
          },
          "name": "stdout",
          "output_type": "stream",
          "text": [
            "353: 1\n",
            "354\n"
          ]
        },
        {
          "metadata": {
            "tags": null
          },
          "name": "stderr",
          "output_type": "stream",
          "text": [
            "/usr/local/lib/python3.10/dist-packages/torch/nn/functional.py:5849: UserWarning: Support for mismatched key_padding_mask and attn_mask is deprecated. Use same type for both instead.\n",
            "  warnings.warn(\n"
          ]
        },
        {
          "metadata": {
            "tags": null
          },
          "name": "stdout",
          "output_type": "stream",
          "text": [
            "354: 1\n",
            "356\n"
          ]
        },
        {
          "metadata": {
            "tags": null
          },
          "name": "stderr",
          "output_type": "stream",
          "text": [
            "/usr/local/lib/python3.10/dist-packages/torch/nn/functional.py:5849: UserWarning: Support for mismatched key_padding_mask and attn_mask is deprecated. Use same type for both instead.\n",
            "  warnings.warn(\n"
          ]
        },
        {
          "metadata": {
            "tags": null
          },
          "name": "stdout",
          "output_type": "stream",
          "text": [
            "356: 1\n",
            "357\n"
          ]
        },
        {
          "metadata": {
            "tags": null
          },
          "name": "stderr",
          "output_type": "stream",
          "text": [
            "/usr/local/lib/python3.10/dist-packages/torch/nn/functional.py:5849: UserWarning: Support for mismatched key_padding_mask and attn_mask is deprecated. Use same type for both instead.\n",
            "  warnings.warn(\n"
          ]
        },
        {
          "metadata": {
            "tags": null
          },
          "name": "stdout",
          "output_type": "stream",
          "text": [
            "357: 0\n",
            "358\n"
          ]
        },
        {
          "metadata": {
            "tags": null
          },
          "name": "stderr",
          "output_type": "stream",
          "text": [
            "/usr/local/lib/python3.10/dist-packages/torch/nn/functional.py:5849: UserWarning: Support for mismatched key_padding_mask and attn_mask is deprecated. Use same type for both instead.\n",
            "  warnings.warn(\n"
          ]
        },
        {
          "metadata": {
            "tags": null
          },
          "name": "stdout",
          "output_type": "stream",
          "text": [
            "358: 0\n",
            "360\n"
          ]
        },
        {
          "metadata": {
            "tags": null
          },
          "name": "stderr",
          "output_type": "stream",
          "text": [
            "/usr/local/lib/python3.10/dist-packages/torch/nn/functional.py:5849: UserWarning: Support for mismatched key_padding_mask and attn_mask is deprecated. Use same type for both instead.\n",
            "  warnings.warn(\n"
          ]
        },
        {
          "metadata": {
            "tags": null
          },
          "name": "stdout",
          "output_type": "stream",
          "text": [
            "360: 0\n",
            "361\n"
          ]
        },
        {
          "metadata": {
            "tags": null
          },
          "name": "stderr",
          "output_type": "stream",
          "text": [
            "/usr/local/lib/python3.10/dist-packages/torch/nn/functional.py:5849: UserWarning: Support for mismatched key_padding_mask and attn_mask is deprecated. Use same type for both instead.\n",
            "  warnings.warn(\n"
          ]
        },
        {
          "metadata": {
            "tags": null
          },
          "name": "stdout",
          "output_type": "stream",
          "text": [
            "361: 0\n",
            "362\n"
          ]
        },
        {
          "metadata": {
            "tags": null
          },
          "name": "stderr",
          "output_type": "stream",
          "text": [
            "/usr/local/lib/python3.10/dist-packages/torch/nn/functional.py:5849: UserWarning: Support for mismatched key_padding_mask and attn_mask is deprecated. Use same type for both instead.\n",
            "  warnings.warn(\n"
          ]
        },
        {
          "metadata": {
            "tags": null
          },
          "name": "stdout",
          "output_type": "stream",
          "text": [
            "362: 1\n",
            "363\n"
          ]
        },
        {
          "metadata": {
            "tags": null
          },
          "name": "stderr",
          "output_type": "stream",
          "text": [
            "/usr/local/lib/python3.10/dist-packages/torch/nn/functional.py:5849: UserWarning: Support for mismatched key_padding_mask and attn_mask is deprecated. Use same type for both instead.\n",
            "  warnings.warn(\n"
          ]
        },
        {
          "metadata": {
            "tags": null
          },
          "name": "stdout",
          "output_type": "stream",
          "text": [
            "363: 0\n",
            "370\n"
          ]
        },
        {
          "metadata": {
            "tags": null
          },
          "name": "stderr",
          "output_type": "stream",
          "text": [
            "/usr/local/lib/python3.10/dist-packages/torch/nn/functional.py:5849: UserWarning: Support for mismatched key_padding_mask and attn_mask is deprecated. Use same type for both instead.\n",
            "  warnings.warn(\n"
          ]
        },
        {
          "metadata": {
            "tags": null
          },
          "name": "stdout",
          "output_type": "stream",
          "text": [
            "370: 0\n",
            "371\n"
          ]
        },
        {
          "metadata": {
            "tags": null
          },
          "name": "stderr",
          "output_type": "stream",
          "text": [
            "/usr/local/lib/python3.10/dist-packages/torch/nn/functional.py:5849: UserWarning: Support for mismatched key_padding_mask and attn_mask is deprecated. Use same type for both instead.\n",
            "  warnings.warn(\n"
          ]
        },
        {
          "metadata": {
            "tags": null
          },
          "name": "stdout",
          "output_type": "stream",
          "text": [
            "371: 0\n",
            "373\n"
          ]
        },
        {
          "metadata": {
            "tags": null
          },
          "name": "stderr",
          "output_type": "stream",
          "text": [
            "/usr/local/lib/python3.10/dist-packages/torch/nn/functional.py:5849: UserWarning: Support for mismatched key_padding_mask and attn_mask is deprecated. Use same type for both instead.\n",
            "  warnings.warn(\n"
          ]
        },
        {
          "metadata": {
            "tags": null
          },
          "name": "stdout",
          "output_type": "stream",
          "text": [
            "373: 0\n",
            "375\n"
          ]
        },
        {
          "metadata": {
            "tags": null
          },
          "name": "stderr",
          "output_type": "stream",
          "text": [
            "/usr/local/lib/python3.10/dist-packages/torch/nn/functional.py:5849: UserWarning: Support for mismatched key_padding_mask and attn_mask is deprecated. Use same type for both instead.\n",
            "  warnings.warn(\n"
          ]
        },
        {
          "metadata": {
            "tags": null
          },
          "name": "stdout",
          "output_type": "stream",
          "text": [
            "375: 0\n",
            "378\n"
          ]
        },
        {
          "metadata": {
            "tags": null
          },
          "name": "stderr",
          "output_type": "stream",
          "text": [
            "/usr/local/lib/python3.10/dist-packages/torch/nn/functional.py:5849: UserWarning: Support for mismatched key_padding_mask and attn_mask is deprecated. Use same type for both instead.\n",
            "  warnings.warn(\n"
          ]
        },
        {
          "metadata": {
            "tags": null
          },
          "name": "stdout",
          "output_type": "stream",
          "text": [
            "378: 0\n",
            "379\n"
          ]
        },
        {
          "metadata": {
            "tags": null
          },
          "name": "stderr",
          "output_type": "stream",
          "text": [
            "/usr/local/lib/python3.10/dist-packages/torch/nn/functional.py:5849: UserWarning: Support for mismatched key_padding_mask and attn_mask is deprecated. Use same type for both instead.\n",
            "  warnings.warn(\n"
          ]
        },
        {
          "metadata": {
            "tags": null
          },
          "name": "stdout",
          "output_type": "stream",
          "text": [
            "379: 0\n",
            "380\n"
          ]
        },
        {
          "metadata": {
            "tags": null
          },
          "name": "stderr",
          "output_type": "stream",
          "text": [
            "/usr/local/lib/python3.10/dist-packages/torch/nn/functional.py:5849: UserWarning: Support for mismatched key_padding_mask and attn_mask is deprecated. Use same type for both instead.\n",
            "  warnings.warn(\n"
          ]
        },
        {
          "metadata": {
            "tags": null
          },
          "name": "stdout",
          "output_type": "stream",
          "text": [
            "380: 1\n",
            "383\n"
          ]
        },
        {
          "metadata": {
            "tags": null
          },
          "name": "stderr",
          "output_type": "stream",
          "text": [
            "/usr/local/lib/python3.10/dist-packages/torch/nn/functional.py:5849: UserWarning: Support for mismatched key_padding_mask and attn_mask is deprecated. Use same type for both instead.\n",
            "  warnings.warn(\n"
          ]
        },
        {
          "metadata": {
            "tags": null
          },
          "name": "stdout",
          "output_type": "stream",
          "text": [
            "383: 0\n",
            "385\n"
          ]
        },
        {
          "metadata": {
            "tags": null
          },
          "name": "stderr",
          "output_type": "stream",
          "text": [
            "/usr/local/lib/python3.10/dist-packages/torch/nn/functional.py:5849: UserWarning: Support for mismatched key_padding_mask and attn_mask is deprecated. Use same type for both instead.\n",
            "  warnings.warn(\n"
          ]
        },
        {
          "metadata": {
            "tags": null
          },
          "name": "stdout",
          "output_type": "stream",
          "text": [
            "385: 0\n",
            "386\n"
          ]
        },
        {
          "metadata": {
            "tags": null
          },
          "name": "stderr",
          "output_type": "stream",
          "text": [
            "/usr/local/lib/python3.10/dist-packages/torch/nn/functional.py:5849: UserWarning: Support for mismatched key_padding_mask and attn_mask is deprecated. Use same type for both instead.\n",
            "  warnings.warn(\n"
          ]
        },
        {
          "metadata": {
            "tags": null
          },
          "name": "stdout",
          "output_type": "stream",
          "text": [
            "386: 1\n",
            "387\n"
          ]
        },
        {
          "metadata": {
            "tags": null
          },
          "name": "stderr",
          "output_type": "stream",
          "text": [
            "/usr/local/lib/python3.10/dist-packages/torch/nn/functional.py:5849: UserWarning: Support for mismatched key_padding_mask and attn_mask is deprecated. Use same type for both instead.\n",
            "  warnings.warn(\n"
          ]
        },
        {
          "metadata": {
            "tags": null
          },
          "name": "stdout",
          "output_type": "stream",
          "text": [
            "387: 0\n",
            "346\n"
          ]
        },
        {
          "metadata": {
            "tags": null
          },
          "name": "stderr",
          "output_type": "stream",
          "text": [
            "/usr/local/lib/python3.10/dist-packages/torch/nn/functional.py:5849: UserWarning: Support for mismatched key_padding_mask and attn_mask is deprecated. Use same type for both instead.\n",
            "  warnings.warn(\n"
          ]
        },
        {
          "metadata": {
            "tags": null
          },
          "name": "stdout",
          "output_type": "stream",
          "text": [
            "346: 1\n",
            "367\n"
          ]
        },
        {
          "metadata": {
            "tags": null
          },
          "name": "stderr",
          "output_type": "stream",
          "text": [
            "/usr/local/lib/python3.10/dist-packages/torch/nn/functional.py:5849: UserWarning: Support for mismatched key_padding_mask and attn_mask is deprecated. Use same type for both instead.\n",
            "  warnings.warn(\n"
          ]
        },
        {
          "metadata": {
            "tags": null
          },
          "name": "stdout",
          "output_type": "stream",
          "text": [
            "367: 1\n",
            "382\n"
          ]
        },
        {
          "metadata": {
            "tags": null
          },
          "name": "stderr",
          "output_type": "stream",
          "text": [
            "/usr/local/lib/python3.10/dist-packages/torch/nn/functional.py:5849: UserWarning: Support for mismatched key_padding_mask and attn_mask is deprecated. Use same type for both instead.\n",
            "  warnings.warn(\n"
          ]
        },
        {
          "metadata": {
            "tags": null
          },
          "name": "stdout",
          "output_type": "stream",
          "text": [
            "382: 0\n",
            "302\n"
          ]
        },
        {
          "metadata": {
            "tags": null
          },
          "name": "stderr",
          "output_type": "stream",
          "text": [
            "/usr/local/lib/python3.10/dist-packages/torch/nn/functional.py:5849: UserWarning: Support for mismatched key_padding_mask and attn_mask is deprecated. Use same type for both instead.\n",
            "  warnings.warn(\n"
          ]
        },
        {
          "metadata": {
            "tags": null
          },
          "name": "stdout",
          "output_type": "stream",
          "text": [
            "302: 0\n",
            "307\n"
          ]
        },
        {
          "metadata": {
            "tags": null
          },
          "name": "stderr",
          "output_type": "stream",
          "text": [
            "/usr/local/lib/python3.10/dist-packages/torch/nn/functional.py:5849: UserWarning: Support for mismatched key_padding_mask and attn_mask is deprecated. Use same type for both instead.\n",
            "  warnings.warn(\n"
          ]
        },
        {
          "metadata": {
            "tags": null
          },
          "name": "stdout",
          "output_type": "stream",
          "text": [
            "307: 0\n",
            "331\n"
          ]
        },
        {
          "metadata": {
            "tags": null
          },
          "name": "stderr",
          "output_type": "stream",
          "text": [
            "/usr/local/lib/python3.10/dist-packages/torch/nn/functional.py:5849: UserWarning: Support for mismatched key_padding_mask and attn_mask is deprecated. Use same type for both instead.\n",
            "  warnings.warn(\n"
          ]
        },
        {
          "metadata": {
            "tags": null
          },
          "name": "stdout",
          "output_type": "stream",
          "text": [
            "331: 0\n",
            "377\n"
          ]
        },
        {
          "metadata": {
            "tags": null
          },
          "name": "stderr",
          "output_type": "stream",
          "text": [
            "/usr/local/lib/python3.10/dist-packages/torch/nn/functional.py:5849: UserWarning: Support for mismatched key_padding_mask and attn_mask is deprecated. Use same type for both instead.\n",
            "  warnings.warn(\n"
          ]
        },
        {
          "metadata": {
            "tags": null
          },
          "name": "stdout",
          "output_type": "stream",
          "text": [
            "377: 1\n",
            "381\n"
          ]
        },
        {
          "metadata": {
            "tags": null
          },
          "name": "stderr",
          "output_type": "stream",
          "text": [
            "/usr/local/lib/python3.10/dist-packages/torch/nn/functional.py:5849: UserWarning: Support for mismatched key_padding_mask and attn_mask is deprecated. Use same type for both instead.\n",
            "  warnings.warn(\n"
          ]
        },
        {
          "metadata": {
            "tags": null
          },
          "name": "stdout",
          "output_type": "stream",
          "text": [
            "381: 1\n",
            "413\n"
          ]
        },
        {
          "metadata": {
            "tags": null
          },
          "name": "stderr",
          "output_type": "stream",
          "text": [
            "/usr/local/lib/python3.10/dist-packages/torch/nn/functional.py:5849: UserWarning: Support for mismatched key_padding_mask and attn_mask is deprecated. Use same type for both instead.\n",
            "  warnings.warn(\n"
          ]
        },
        {
          "metadata": {
            "tags": null
          },
          "name": "stdout",
          "output_type": "stream",
          "text": [
            "413: 1\n",
            "390\n"
          ]
        },
        {
          "metadata": {
            "tags": null
          },
          "name": "stderr",
          "output_type": "stream",
          "text": [
            "/usr/local/lib/python3.10/dist-packages/torch/nn/functional.py:5849: UserWarning: Support for mismatched key_padding_mask and attn_mask is deprecated. Use same type for both instead.\n",
            "  warnings.warn(\n"
          ]
        },
        {
          "metadata": {
            "tags": null
          },
          "name": "stdout",
          "output_type": "stream",
          "text": [
            "390: 0\n",
            "406\n"
          ]
        },
        {
          "metadata": {
            "tags": null
          },
          "name": "stderr",
          "output_type": "stream",
          "text": [
            "/usr/local/lib/python3.10/dist-packages/torch/nn/functional.py:5849: UserWarning: Support for mismatched key_padding_mask and attn_mask is deprecated. Use same type for both instead.\n",
            "  warnings.warn(\n"
          ]
        },
        {
          "output_type": "stream",
          "name": "stdout",
          "text": [
            "406: 0\n",
            "395\n"
          ]
        },
        {
          "output_type": "stream",
          "name": "stderr",
          "text": [
            "/usr/local/lib/python3.10/dist-packages/torch/nn/functional.py:5849: UserWarning: Support for mismatched key_padding_mask and attn_mask is deprecated. Use same type for both instead.\n",
            "  warnings.warn(\n"
          ]
        },
        {
          "output_type": "stream",
          "name": "stdout",
          "text": [
            "395: 0\n",
            "401\n"
          ]
        },
        {
          "output_type": "stream",
          "name": "stderr",
          "text": [
            "/usr/local/lib/python3.10/dist-packages/torch/nn/functional.py:5849: UserWarning: Support for mismatched key_padding_mask and attn_mask is deprecated. Use same type for both instead.\n",
            "  warnings.warn(\n"
          ]
        },
        {
          "output_type": "stream",
          "name": "stdout",
          "text": [
            "401: 0\n",
            "417\n"
          ]
        },
        {
          "output_type": "stream",
          "name": "stderr",
          "text": [
            "/usr/local/lib/python3.10/dist-packages/torch/nn/functional.py:5849: UserWarning: Support for mismatched key_padding_mask and attn_mask is deprecated. Use same type for both instead.\n",
            "  warnings.warn(\n"
          ]
        },
        {
          "output_type": "stream",
          "name": "stdout",
          "text": [
            "417: 0\n",
            "451\n"
          ]
        },
        {
          "output_type": "stream",
          "name": "stderr",
          "text": [
            "/usr/local/lib/python3.10/dist-packages/torch/nn/functional.py:5849: UserWarning: Support for mismatched key_padding_mask and attn_mask is deprecated. Use same type for both instead.\n",
            "  warnings.warn(\n"
          ]
        },
        {
          "output_type": "stream",
          "name": "stdout",
          "text": [
            "451: 0\n",
            "436\n"
          ]
        },
        {
          "output_type": "stream",
          "name": "stderr",
          "text": [
            "/usr/local/lib/python3.10/dist-packages/torch/nn/functional.py:5849: UserWarning: Support for mismatched key_padding_mask and attn_mask is deprecated. Use same type for both instead.\n",
            "  warnings.warn(\n"
          ]
        },
        {
          "output_type": "stream",
          "name": "stdout",
          "text": [
            "436: 0\n",
            "434\n"
          ]
        },
        {
          "output_type": "stream",
          "name": "stderr",
          "text": [
            "/usr/local/lib/python3.10/dist-packages/torch/nn/functional.py:5849: UserWarning: Support for mismatched key_padding_mask and attn_mask is deprecated. Use same type for both instead.\n",
            "  warnings.warn(\n"
          ]
        },
        {
          "output_type": "stream",
          "name": "stdout",
          "text": [
            "434: 0\n",
            "440\n"
          ]
        },
        {
          "output_type": "stream",
          "name": "stderr",
          "text": [
            "/usr/local/lib/python3.10/dist-packages/torch/nn/functional.py:5849: UserWarning: Support for mismatched key_padding_mask and attn_mask is deprecated. Use same type for both instead.\n",
            "  warnings.warn(\n"
          ]
        },
        {
          "output_type": "stream",
          "name": "stdout",
          "text": [
            "440: 1\n",
            "472\n"
          ]
        },
        {
          "output_type": "stream",
          "name": "stderr",
          "text": [
            "/usr/local/lib/python3.10/dist-packages/torch/nn/functional.py:5849: UserWarning: Support for mismatched key_padding_mask and attn_mask is deprecated. Use same type for both instead.\n",
            "  warnings.warn(\n"
          ]
        },
        {
          "output_type": "stream",
          "name": "stdout",
          "text": [
            "472: 0\n",
            "439\n"
          ]
        },
        {
          "output_type": "stream",
          "name": "stderr",
          "text": [
            "/usr/local/lib/python3.10/dist-packages/torch/nn/functional.py:5849: UserWarning: Support for mismatched key_padding_mask and attn_mask is deprecated. Use same type for both instead.\n",
            "  warnings.warn(\n"
          ]
        },
        {
          "output_type": "stream",
          "name": "stdout",
          "text": [
            "439: 0\n",
            "489\n"
          ]
        },
        {
          "output_type": "stream",
          "name": "stderr",
          "text": [
            "/usr/local/lib/python3.10/dist-packages/torch/nn/functional.py:5849: UserWarning: Support for mismatched key_padding_mask and attn_mask is deprecated. Use same type for both instead.\n",
            "  warnings.warn(\n"
          ]
        },
        {
          "output_type": "stream",
          "name": "stdout",
          "text": [
            "489: 0\n",
            "477\n"
          ]
        },
        {
          "output_type": "stream",
          "name": "stderr",
          "text": [
            "/usr/local/lib/python3.10/dist-packages/torch/nn/functional.py:5849: UserWarning: Support for mismatched key_padding_mask and attn_mask is deprecated. Use same type for both instead.\n",
            "  warnings.warn(\n"
          ]
        },
        {
          "output_type": "stream",
          "name": "stdout",
          "text": [
            "477: 0\n"
          ]
        }
      ]
    },
    {
      "cell_type": "code",
      "source": [
        "val_dir_subset1 = '/content/drive/MyDrive/DAIC_WOZ/validate'\n",
        "val_dataset_1 = DAICDataset(val_dir_subset1, val_label_csv, tokenizer, text_model, feature_extractor, wavlm_model, device, embeddings_dir=embeddings_dir)\n",
        "val_loader_1 = DataLoader(val_dataset_1, batch_size=16, shuffle=False, collate_fn=collate_fn)\n",
        "\n",
        "for batch in val_loader_1:\n",
        "    # This ensures embeddings are generated and saved\n",
        "    pass"
      ],
      "metadata": {
        "id": "HcuaxVDi8D7o",
        "colab": {
          "base_uri": "https://localhost:8080/"
        },
        "outputId": "ad0b7b88-38dd-4c07-9fd3-c01e6625f7f2"
      },
      "execution_count": null,
      "outputs": [
        {
          "output_type": "stream",
          "name": "stdout",
          "text": [
            "Loaded label for 475: 0\n",
            "Loaded label for 369: 0\n",
            "Loaded label for 471: 0\n",
            "Loaded label for 366: 0\n",
            "Loaded label for 359: 1\n",
            "Loaded label for 368: 0\n",
            "Loaded label for 301: 0\n",
            "Loaded label for 481: 0\n",
            "Loaded label for 374: 0\n",
            "Loaded label for 456: 0\n",
            "Loaded label for 384: 1\n",
            "Loaded label for 491: 0\n",
            "Loaded label for 372: 1\n",
            "Loaded label for 444: 0\n",
            "Loaded label for 343: 0\n",
            "Loaded label for 312: 0\n",
            "Loaded label for 459: 1\n",
            "Loaded label for 441: 1\n",
            "Loaded label for 407: 0\n",
            "Loaded label for 333: 0\n",
            "Loaded label for 376: 1\n",
            "Loaded label for 306: 0\n",
            "Loaded label for 364: 0\n",
            "Loaded label for 422: 1\n",
            "Loaded label for 418: 1\n",
            "Loaded label for 476: 0\n",
            "Loaded label for 404: 0\n",
            "Loaded label for 484: 0\n",
            "Loaded label for 403: 0\n",
            "Loaded label for 335: 1\n",
            "301\n"
          ]
        },
        {
          "output_type": "stream",
          "name": "stderr",
          "text": [
            "/usr/local/lib/python3.10/dist-packages/torch/nn/functional.py:5849: UserWarning: Support for mismatched key_padding_mask and attn_mask is deprecated. Use same type for both instead.\n",
            "  warnings.warn(\n"
          ]
        },
        {
          "output_type": "stream",
          "name": "stdout",
          "text": [
            "301: 0\n",
            "306\n"
          ]
        },
        {
          "output_type": "stream",
          "name": "stderr",
          "text": [
            "/usr/local/lib/python3.10/dist-packages/torch/nn/functional.py:5849: UserWarning: Support for mismatched key_padding_mask and attn_mask is deprecated. Use same type for both instead.\n",
            "  warnings.warn(\n"
          ]
        },
        {
          "output_type": "stream",
          "name": "stdout",
          "text": [
            "306: 0\n",
            "312\n"
          ]
        },
        {
          "output_type": "stream",
          "name": "stderr",
          "text": [
            "/usr/local/lib/python3.10/dist-packages/torch/nn/functional.py:5849: UserWarning: Support for mismatched key_padding_mask and attn_mask is deprecated. Use same type for both instead.\n",
            "  warnings.warn(\n"
          ]
        },
        {
          "output_type": "stream",
          "name": "stdout",
          "text": [
            "312: 0\n",
            "333\n"
          ]
        },
        {
          "output_type": "stream",
          "name": "stderr",
          "text": [
            "/usr/local/lib/python3.10/dist-packages/torch/nn/functional.py:5849: UserWarning: Support for mismatched key_padding_mask and attn_mask is deprecated. Use same type for both instead.\n",
            "  warnings.warn(\n"
          ]
        },
        {
          "output_type": "stream",
          "name": "stdout",
          "text": [
            "333: 0\n",
            "343\n"
          ]
        },
        {
          "output_type": "stream",
          "name": "stderr",
          "text": [
            "/usr/local/lib/python3.10/dist-packages/torch/nn/functional.py:5849: UserWarning: Support for mismatched key_padding_mask and attn_mask is deprecated. Use same type for both instead.\n",
            "  warnings.warn(\n"
          ]
        },
        {
          "output_type": "stream",
          "name": "stdout",
          "text": [
            "343: 0\n",
            "359\n"
          ]
        },
        {
          "output_type": "stream",
          "name": "stderr",
          "text": [
            "/usr/local/lib/python3.10/dist-packages/torch/nn/functional.py:5849: UserWarning: Support for mismatched key_padding_mask and attn_mask is deprecated. Use same type for both instead.\n",
            "  warnings.warn(\n"
          ]
        },
        {
          "output_type": "stream",
          "name": "stdout",
          "text": [
            "359: 1\n",
            "364\n"
          ]
        },
        {
          "output_type": "stream",
          "name": "stderr",
          "text": [
            "/usr/local/lib/python3.10/dist-packages/torch/nn/functional.py:5849: UserWarning: Support for mismatched key_padding_mask and attn_mask is deprecated. Use same type for both instead.\n",
            "  warnings.warn(\n"
          ]
        },
        {
          "output_type": "stream",
          "name": "stdout",
          "text": [
            "364: 0\n",
            "366\n"
          ]
        },
        {
          "output_type": "stream",
          "name": "stderr",
          "text": [
            "/usr/local/lib/python3.10/dist-packages/torch/nn/functional.py:5849: UserWarning: Support for mismatched key_padding_mask and attn_mask is deprecated. Use same type for both instead.\n",
            "  warnings.warn(\n"
          ]
        },
        {
          "output_type": "stream",
          "name": "stdout",
          "text": [
            "366: 0\n",
            "368\n"
          ]
        },
        {
          "output_type": "stream",
          "name": "stderr",
          "text": [
            "/usr/local/lib/python3.10/dist-packages/torch/nn/functional.py:5849: UserWarning: Support for mismatched key_padding_mask and attn_mask is deprecated. Use same type for both instead.\n",
            "  warnings.warn(\n"
          ]
        },
        {
          "output_type": "stream",
          "name": "stdout",
          "text": [
            "368: 0\n",
            "369\n"
          ]
        },
        {
          "output_type": "stream",
          "name": "stderr",
          "text": [
            "/usr/local/lib/python3.10/dist-packages/torch/nn/functional.py:5849: UserWarning: Support for mismatched key_padding_mask and attn_mask is deprecated. Use same type for both instead.\n",
            "  warnings.warn(\n"
          ]
        },
        {
          "output_type": "stream",
          "name": "stdout",
          "text": [
            "369: 0\n",
            "372\n"
          ]
        },
        {
          "output_type": "stream",
          "name": "stderr",
          "text": [
            "/usr/local/lib/python3.10/dist-packages/torch/nn/functional.py:5849: UserWarning: Support for mismatched key_padding_mask and attn_mask is deprecated. Use same type for both instead.\n",
            "  warnings.warn(\n"
          ]
        },
        {
          "output_type": "stream",
          "name": "stdout",
          "text": [
            "372: 1\n",
            "374\n"
          ]
        },
        {
          "output_type": "stream",
          "name": "stderr",
          "text": [
            "/usr/local/lib/python3.10/dist-packages/torch/nn/functional.py:5849: UserWarning: Support for mismatched key_padding_mask and attn_mask is deprecated. Use same type for both instead.\n",
            "  warnings.warn(\n"
          ]
        },
        {
          "output_type": "stream",
          "name": "stdout",
          "text": [
            "374: 0\n",
            "376\n"
          ]
        },
        {
          "output_type": "stream",
          "name": "stderr",
          "text": [
            "/usr/local/lib/python3.10/dist-packages/torch/nn/functional.py:5849: UserWarning: Support for mismatched key_padding_mask and attn_mask is deprecated. Use same type for both instead.\n",
            "  warnings.warn(\n"
          ]
        },
        {
          "output_type": "stream",
          "name": "stdout",
          "text": [
            "376: 1\n",
            "384\n"
          ]
        },
        {
          "output_type": "stream",
          "name": "stderr",
          "text": [
            "/usr/local/lib/python3.10/dist-packages/torch/nn/functional.py:5849: UserWarning: Support for mismatched key_padding_mask and attn_mask is deprecated. Use same type for both instead.\n",
            "  warnings.warn(\n"
          ]
        },
        {
          "output_type": "stream",
          "name": "stdout",
          "text": [
            "384: 1\n",
            "335\n"
          ]
        },
        {
          "output_type": "stream",
          "name": "stderr",
          "text": [
            "/usr/local/lib/python3.10/dist-packages/torch/nn/functional.py:5849: UserWarning: Support for mismatched key_padding_mask and attn_mask is deprecated. Use same type for both instead.\n",
            "  warnings.warn(\n"
          ]
        },
        {
          "output_type": "stream",
          "name": "stdout",
          "text": [
            "335: 1\n",
            "418\n"
          ]
        },
        {
          "output_type": "stream",
          "name": "stderr",
          "text": [
            "/usr/local/lib/python3.10/dist-packages/torch/nn/functional.py:5849: UserWarning: Support for mismatched key_padding_mask and attn_mask is deprecated. Use same type for both instead.\n",
            "  warnings.warn(\n"
          ]
        },
        {
          "output_type": "stream",
          "name": "stdout",
          "text": [
            "418: 1\n",
            "403\n"
          ]
        },
        {
          "output_type": "stream",
          "name": "stderr",
          "text": [
            "/usr/local/lib/python3.10/dist-packages/torch/nn/functional.py:5849: UserWarning: Support for mismatched key_padding_mask and attn_mask is deprecated. Use same type for both instead.\n",
            "  warnings.warn(\n"
          ]
        },
        {
          "output_type": "stream",
          "name": "stdout",
          "text": [
            "403: 0\n",
            "404\n"
          ]
        },
        {
          "output_type": "stream",
          "name": "stderr",
          "text": [
            "/usr/local/lib/python3.10/dist-packages/torch/nn/functional.py:5849: UserWarning: Support for mismatched key_padding_mask and attn_mask is deprecated. Use same type for both instead.\n",
            "  warnings.warn(\n"
          ]
        },
        {
          "output_type": "stream",
          "name": "stdout",
          "text": [
            "404: 0\n",
            "476\n"
          ]
        },
        {
          "output_type": "stream",
          "name": "stderr",
          "text": [
            "/usr/local/lib/python3.10/dist-packages/torch/nn/functional.py:5849: UserWarning: Support for mismatched key_padding_mask and attn_mask is deprecated. Use same type for both instead.\n",
            "  warnings.warn(\n"
          ]
        },
        {
          "output_type": "stream",
          "name": "stdout",
          "text": [
            "476: 0\n",
            "422\n"
          ]
        },
        {
          "output_type": "stream",
          "name": "stderr",
          "text": [
            "/usr/local/lib/python3.10/dist-packages/torch/nn/functional.py:5849: UserWarning: Support for mismatched key_padding_mask and attn_mask is deprecated. Use same type for both instead.\n",
            "  warnings.warn(\n"
          ]
        },
        {
          "output_type": "stream",
          "name": "stdout",
          "text": [
            "422: 1\n",
            "484\n"
          ]
        },
        {
          "output_type": "stream",
          "name": "stderr",
          "text": [
            "/usr/local/lib/python3.10/dist-packages/torch/nn/functional.py:5849: UserWarning: Support for mismatched key_padding_mask and attn_mask is deprecated. Use same type for both instead.\n",
            "  warnings.warn(\n"
          ]
        },
        {
          "output_type": "stream",
          "name": "stdout",
          "text": [
            "484: 0\n"
          ]
        }
      ]
    },
    {
      "cell_type": "code",
      "source": [
        "test_dir_subset1 = '/content/drive/MyDrive/DAIC_WOZ/test'\n",
        "test_dataset_1 = DAICDataset(test_dir_subset1, test_label_csv, tokenizer, text_model, feature_extractor, wavlm_model, device, embeddings_dir=embeddings_dir)\n",
        "test_loader_1 = DataLoader(test_dataset_1, batch_size=16, shuffle=False, collate_fn=collate_fn)\n",
        "\n",
        "for batch in val_loader_1:\n",
        "    # This ensures embeddings are generated and saved\n",
        "    pass"
      ],
      "metadata": {
        "id": "s1DLl3vm9AG2",
        "colab": {
          "base_uri": "https://localhost:8080/"
        },
        "outputId": "873c526c-f65b-4891-d14b-613a770a3860"
      },
      "execution_count": null,
      "outputs": [
        {
          "output_type": "stream",
          "name": "stdout",
          "text": [
            "Loaded label for 429: 0\n",
            "Loaded label for 478: 0\n",
            "Loaded label for 352: 1\n",
            "Loaded label for 341: 0\n",
            "Loaded label for 365: 1\n",
            "Loaded label for 421: 1\n",
            "Loaded label for 443: 0\n",
            "Loaded label for 486: 0\n",
            "Loaded label for 473: 0\n",
            "Loaded label for 397: 0\n",
            "Loaded label for 435: 0\n",
            "Loaded label for 464: 0\n",
            "Loaded label for 317: 0\n",
            "Loaded label for 415: 0\n",
            "Loaded label for 345: 1\n",
            "Loaded label for 469: 0\n",
            "Loaded label for 355: 1\n",
            "Loaded label for 487: 0\n",
            "Loaded label for 409: 0\n",
            "Loaded label for 414: 1\n",
            "Loaded label for 450: 0\n",
            "Loaded label for 454: 0\n",
            "Loaded label for 337: 1\n",
            "Loaded label for 438: 0\n",
            "Loaded label for 420: 0\n",
            "Loaded label for 458: 0\n",
            "Loaded label for 492: 0\n",
            "Loaded label for 483: 1\n",
            "Loaded label for 482: 0\n",
            "Loaded label for 388: 1\n",
            "Loaded label for 490: 0\n",
            "317\n"
          ]
        },
        {
          "output_type": "stream",
          "name": "stderr",
          "text": [
            "/usr/local/lib/python3.10/dist-packages/torch/nn/functional.py:5849: UserWarning: Support for mismatched key_padding_mask and attn_mask is deprecated. Use same type for both instead.\n",
            "  warnings.warn(\n"
          ]
        },
        {
          "output_type": "stream",
          "name": "stdout",
          "text": [
            "317: 0\n",
            "337\n"
          ]
        },
        {
          "output_type": "stream",
          "name": "stderr",
          "text": [
            "/usr/local/lib/python3.10/dist-packages/torch/nn/functional.py:5849: UserWarning: Support for mismatched key_padding_mask and attn_mask is deprecated. Use same type for both instead.\n",
            "  warnings.warn(\n"
          ]
        },
        {
          "output_type": "stream",
          "name": "stdout",
          "text": [
            "337: 1\n",
            "341\n"
          ]
        },
        {
          "output_type": "stream",
          "name": "stderr",
          "text": [
            "/usr/local/lib/python3.10/dist-packages/torch/nn/functional.py:5849: UserWarning: Support for mismatched key_padding_mask and attn_mask is deprecated. Use same type for both instead.\n",
            "  warnings.warn(\n"
          ]
        },
        {
          "output_type": "stream",
          "name": "stdout",
          "text": [
            "341: 0\n",
            "345\n"
          ]
        },
        {
          "output_type": "stream",
          "name": "stderr",
          "text": [
            "/usr/local/lib/python3.10/dist-packages/torch/nn/functional.py:5849: UserWarning: Support for mismatched key_padding_mask and attn_mask is deprecated. Use same type for both instead.\n",
            "  warnings.warn(\n"
          ]
        },
        {
          "output_type": "stream",
          "name": "stdout",
          "text": [
            "345: 1\n",
            "352\n"
          ]
        },
        {
          "output_type": "stream",
          "name": "stderr",
          "text": [
            "/usr/local/lib/python3.10/dist-packages/torch/nn/functional.py:5849: UserWarning: Support for mismatched key_padding_mask and attn_mask is deprecated. Use same type for both instead.\n",
            "  warnings.warn(\n"
          ]
        },
        {
          "output_type": "stream",
          "name": "stdout",
          "text": [
            "352: 1\n",
            "355\n"
          ]
        },
        {
          "output_type": "stream",
          "name": "stderr",
          "text": [
            "/usr/local/lib/python3.10/dist-packages/torch/nn/functional.py:5849: UserWarning: Support for mismatched key_padding_mask and attn_mask is deprecated. Use same type for both instead.\n",
            "  warnings.warn(\n"
          ]
        },
        {
          "output_type": "stream",
          "name": "stdout",
          "text": [
            "355: 1\n",
            "365\n"
          ]
        },
        {
          "output_type": "stream",
          "name": "stderr",
          "text": [
            "/usr/local/lib/python3.10/dist-packages/torch/nn/functional.py:5849: UserWarning: Support for mismatched key_padding_mask and attn_mask is deprecated. Use same type for both instead.\n",
            "  warnings.warn(\n"
          ]
        },
        {
          "output_type": "stream",
          "name": "stdout",
          "text": [
            "365: 1\n",
            "388\n"
          ]
        },
        {
          "output_type": "stream",
          "name": "stderr",
          "text": [
            "/usr/local/lib/python3.10/dist-packages/torch/nn/functional.py:5849: UserWarning: Support for mismatched key_padding_mask and attn_mask is deprecated. Use same type for both instead.\n",
            "  warnings.warn(\n"
          ]
        },
        {
          "output_type": "stream",
          "name": "stdout",
          "text": [
            "388: 1\n",
            "414\n"
          ]
        },
        {
          "output_type": "stream",
          "name": "stderr",
          "text": [
            "/usr/local/lib/python3.10/dist-packages/torch/nn/functional.py:5849: UserWarning: Support for mismatched key_padding_mask and attn_mask is deprecated. Use same type for both instead.\n",
            "  warnings.warn(\n"
          ]
        },
        {
          "output_type": "stream",
          "name": "stdout",
          "text": [
            "414: 1\n",
            "420\n"
          ]
        },
        {
          "output_type": "stream",
          "name": "stderr",
          "text": [
            "/usr/local/lib/python3.10/dist-packages/torch/nn/functional.py:5849: UserWarning: Support for mismatched key_padding_mask and attn_mask is deprecated. Use same type for both instead.\n",
            "  warnings.warn(\n"
          ]
        },
        {
          "output_type": "stream",
          "name": "stdout",
          "text": [
            "420: 0\n",
            "458\n"
          ]
        },
        {
          "output_type": "stream",
          "name": "stderr",
          "text": [
            "/usr/local/lib/python3.10/dist-packages/torch/nn/functional.py:5849: UserWarning: Support for mismatched key_padding_mask and attn_mask is deprecated. Use same type for both instead.\n",
            "  warnings.warn(\n"
          ]
        },
        {
          "output_type": "stream",
          "name": "stdout",
          "text": [
            "458: 0\n",
            "482\n"
          ]
        },
        {
          "output_type": "stream",
          "name": "stderr",
          "text": [
            "/usr/local/lib/python3.10/dist-packages/torch/nn/functional.py:5849: UserWarning: Support for mismatched key_padding_mask and attn_mask is deprecated. Use same type for both instead.\n",
            "  warnings.warn(\n"
          ]
        },
        {
          "output_type": "stream",
          "name": "stdout",
          "text": [
            "482: 0\n",
            "492\n"
          ]
        },
        {
          "output_type": "stream",
          "name": "stderr",
          "text": [
            "/usr/local/lib/python3.10/dist-packages/torch/nn/functional.py:5849: UserWarning: Support for mismatched key_padding_mask and attn_mask is deprecated. Use same type for both instead.\n",
            "  warnings.warn(\n"
          ]
        },
        {
          "output_type": "stream",
          "name": "stdout",
          "text": [
            "492: 0\n",
            "483\n"
          ]
        },
        {
          "output_type": "stream",
          "name": "stderr",
          "text": [
            "/usr/local/lib/python3.10/dist-packages/torch/nn/functional.py:5849: UserWarning: Support for mismatched key_padding_mask and attn_mask is deprecated. Use same type for both instead.\n",
            "  warnings.warn(\n"
          ]
        },
        {
          "output_type": "stream",
          "name": "stdout",
          "text": [
            "483: 1\n",
            "490\n"
          ]
        },
        {
          "output_type": "stream",
          "name": "stderr",
          "text": [
            "/usr/local/lib/python3.10/dist-packages/torch/nn/functional.py:5849: UserWarning: Support for mismatched key_padding_mask and attn_mask is deprecated. Use same type for both instead.\n",
            "  warnings.warn(\n"
          ]
        },
        {
          "output_type": "stream",
          "name": "stdout",
          "text": [
            "490: 0\n"
          ]
        }
      ]
    },
    {
      "cell_type": "markdown",
      "source": [
        "# Loading Pre-computed .pt files from drive"
      ],
      "metadata": {
        "id": "BVy4lFVDWibo"
      }
    },
    {
      "cell_type": "code",
      "source": [
        "# this class loads the pre-computed .pt files to be stored in internal list\n",
        "class PrecomputedEmbeddingsDataset(Dataset):\n",
        "    def __init__(self, embeddings_dir):\n",
        "        \"\"\"\n",
        "        embeddings_dir: Directory containing .pt files.\n",
        "        Each .pt file should contain a dictionary:\n",
        "          {\n",
        "            'text_sequence': torch.Tensor, # [num_sentences, text_dim]\n",
        "            'audio_sequence': torch.Tensor, # [num_sentences, audio_dim]\n",
        "            'label': int\n",
        "          }\n",
        "        \"\"\"\n",
        "        self.embeddings_dir = embeddings_dir\n",
        "        self.data = []\n",
        "        self._load_data()\n",
        "\n",
        "    def _load_data(self):\n",
        "        # Get all .pt files in the directory\n",
        "        all_files = [f for f in os.listdir(self.embeddings_dir) if f.endswith('.pt')]\n",
        "        if not all_files:\n",
        "            print(f\"No .pt files found in {self.embeddings_dir}\")\n",
        "\n",
        "        for fname in all_files:\n",
        "            file_path = os.path.join(self.embeddings_dir, fname)\n",
        "            try:\n",
        "                saved_data = torch.load(file_path, map_location='cpu')\n",
        "                text_sequence = saved_data['text_sequence']\n",
        "                audio_sequence = saved_data['audio_sequence']\n",
        "                label = saved_data['label']\n",
        "                self.data.append((text_sequence, audio_sequence, label))\n",
        "            except Exception as e:\n",
        "                print(f\"Error loading {file_path}: {e}\")\n",
        "\n",
        "        print(f\"Loaded {len(self.data)} sessions from {self.embeddings_dir}\")\n",
        "\n",
        "    def __len__(self):\n",
        "        return len(self.data)\n",
        "\n",
        "    def __getitem__(self, idx):\n",
        "        # Returns a tuple: (text_sequence, audio_sequence, label)\n",
        "        return self.data[idx]\n",
        "\n",
        "def collate_fn(batch):\n",
        "    text_seqs = [item[0] for item in batch]  # text embeddings\n",
        "    audio_seqs = [item[1] for item in batch] # audio embeddings\n",
        "    labels = [item[2] for item in batch]\n",
        "\n",
        "    # Compute padding lengths\n",
        "    max_len_text = max(seq.size(0) for seq in text_seqs) if len(text_seqs) > 0 else 0\n",
        "    max_len_audio = max(seq.size(0) for seq in audio_seqs) if len(audio_seqs) > 0 else 0\n",
        "\n",
        "    # Create masks\n",
        "    text_mask = torch.zeros(len(text_seqs), max_len_text, dtype=torch.long)\n",
        "    audio_mask = torch.zeros(len(audio_seqs), max_len_audio, dtype=torch.long)\n",
        "\n",
        "    padded_text = []\n",
        "    for i, seq in enumerate(text_seqs):\n",
        "        original_len = seq.size(0)\n",
        "        if original_len < max_len_text:\n",
        "            diff = max_len_text - original_len\n",
        "            pad_tensor = torch.zeros(diff, seq.size(1))\n",
        "            seq = torch.cat([seq, pad_tensor], dim=0)\n",
        "        padded_text.append(seq.unsqueeze(0))\n",
        "        text_mask[i, :original_len] = 1\n",
        "\n",
        "    padded_text = torch.cat(padded_text, dim=0) if len(padded_text) > 0 else torch.empty(0)\n",
        "\n",
        "    padded_audio = []\n",
        "    for i, seq in enumerate(audio_seqs):\n",
        "        original_len = seq.size(0)\n",
        "        if original_len < max_len_audio:\n",
        "            diff = max_len_audio - original_len\n",
        "            pad_tensor = torch.zeros(diff, seq.size(1))\n",
        "            seq = torch.cat([seq, pad_tensor], dim=0)\n",
        "        padded_audio.append(seq.unsqueeze(0))\n",
        "        audio_mask[i, :original_len] = 1\n",
        "\n",
        "    padded_audio = torch.cat(padded_audio, dim=0) if len(padded_audio) > 0 else torch.empty(0)\n",
        "    labels = torch.tensor(labels, dtype=torch.long)\n",
        "\n",
        "    return padded_text, padded_audio, text_mask, audio_mask, labels"
      ],
      "metadata": {
        "id": "9fTcnzIenBqT"
      },
      "execution_count": 4,
      "outputs": []
    },
    {
      "cell_type": "code",
      "source": [
        "train_embedding_dir = '/content/drive/MyDrive/Embeddings_200/train'\n",
        "val_embedding_dir = '/content/drive/MyDrive/Embeddings_200/validate'\n",
        "test_embedding_dir = '/content/drive/MyDrive/Embeddings_200/test'"
      ],
      "metadata": {
        "id": "fPxgLOFYXZSD"
      },
      "execution_count": 5,
      "outputs": []
    },
    {
      "cell_type": "code",
      "source": [
        "train_dataset = PrecomputedEmbeddingsDataset(train_embedding_dir)\n",
        "train_loader = DataLoader(train_dataset, batch_size=32, shuffle=True, collate_fn=collate_fn)"
      ],
      "metadata": {
        "colab": {
          "base_uri": "https://localhost:8080/"
        },
        "id": "O29y8JPmJ8uj",
        "outputId": "8c396bf2-f5c9-487d-d77a-8d15a6ea9275"
      },
      "execution_count": 6,
      "outputs": [
        {
          "output_type": "stream",
          "name": "stderr",
          "text": [
            "<ipython-input-4-a78ae2d4be15>:26: FutureWarning: You are using `torch.load` with `weights_only=False` (the current default value), which uses the default pickle module implicitly. It is possible to construct malicious pickle data which will execute arbitrary code during unpickling (See https://github.com/pytorch/pytorch/blob/main/SECURITY.md#untrusted-models for more details). In a future release, the default value for `weights_only` will be flipped to `True`. This limits the functions that could be executed during unpickling. Arbitrary objects will no longer be allowed to be loaded via this mode unless they are explicitly allowlisted by the user via `torch.serialization.add_safe_globals`. We recommend you start setting `weights_only=True` for any use case where you don't have full control of the loaded file. Please open an issue on GitHub for any issues related to this experimental feature.\n",
            "  saved_data = torch.load(file_path, map_location='cpu')\n"
          ]
        },
        {
          "output_type": "stream",
          "name": "stdout",
          "text": [
            "Loaded 127 sessions from /content/drive/MyDrive/Embeddings_200/train\n"
          ]
        }
      ]
    },
    {
      "cell_type": "code",
      "source": [
        "val_dataset = PrecomputedEmbeddingsDataset(val_embedding_dir)\n",
        "val_loader = DataLoader(val_dataset, batch_size=32, shuffle=True, collate_fn=collate_fn)"
      ],
      "metadata": {
        "colab": {
          "base_uri": "https://localhost:8080/"
        },
        "id": "lapqKmzooOpo",
        "outputId": "776e4c4b-f2b6-48c1-a2fc-ffe1652bb1bc"
      },
      "execution_count": 7,
      "outputs": [
        {
          "output_type": "stream",
          "name": "stderr",
          "text": [
            "<ipython-input-4-a78ae2d4be15>:26: FutureWarning: You are using `torch.load` with `weights_only=False` (the current default value), which uses the default pickle module implicitly. It is possible to construct malicious pickle data which will execute arbitrary code during unpickling (See https://github.com/pytorch/pytorch/blob/main/SECURITY.md#untrusted-models for more details). In a future release, the default value for `weights_only` will be flipped to `True`. This limits the functions that could be executed during unpickling. Arbitrary objects will no longer be allowed to be loaded via this mode unless they are explicitly allowlisted by the user via `torch.serialization.add_safe_globals`. We recommend you start setting `weights_only=True` for any use case where you don't have full control of the loaded file. Please open an issue on GitHub for any issues related to this experimental feature.\n",
            "  saved_data = torch.load(file_path, map_location='cpu')\n"
          ]
        },
        {
          "output_type": "stream",
          "name": "stdout",
          "text": [
            "Loaded 30 sessions from /content/drive/MyDrive/Embeddings_200/validate\n"
          ]
        }
      ]
    },
    {
      "cell_type": "code",
      "source": [
        "test_dataset = PrecomputedEmbeddingsDataset(test_embedding_dir)\n",
        "test_loader = DataLoader(val_dataset, batch_size=32, shuffle=True, collate_fn=collate_fn)"
      ],
      "metadata": {
        "colab": {
          "base_uri": "https://localhost:8080/"
        },
        "id": "tISYjwLvM2S1",
        "outputId": "28e24c83-f43a-4301-e477-a2d01d9e29f4"
      },
      "execution_count": 8,
      "outputs": [
        {
          "output_type": "stream",
          "name": "stderr",
          "text": [
            "<ipython-input-4-a78ae2d4be15>:26: FutureWarning: You are using `torch.load` with `weights_only=False` (the current default value), which uses the default pickle module implicitly. It is possible to construct malicious pickle data which will execute arbitrary code during unpickling (See https://github.com/pytorch/pytorch/blob/main/SECURITY.md#untrusted-models for more details). In a future release, the default value for `weights_only` will be flipped to `True`. This limits the functions that could be executed during unpickling. Arbitrary objects will no longer be allowed to be loaded via this mode unless they are explicitly allowlisted by the user via `torch.serialization.add_safe_globals`. We recommend you start setting `weights_only=True` for any use case where you don't have full control of the loaded file. Please open an issue on GitHub for any issues related to this experimental feature.\n",
            "  saved_data = torch.load(file_path, map_location='cpu')\n"
          ]
        },
        {
          "output_type": "stream",
          "name": "stdout",
          "text": [
            "Loaded 31 sessions from /content/drive/MyDrive/Embeddings_200/test\n"
          ]
        }
      ]
    },
    {
      "cell_type": "code",
      "source": [
        "for batch_idx, (padded_text, padded_audio, text_mask, audio_mask, labels) in enumerate(train_loader):\n",
        "    print(f\"Batch {batch_idx + 1}:\")\n",
        "    print(f\"  Padded Text Shape: {padded_text.shape}\")  # [batch_size, max_len_text, text_dim]\n",
        "    print(f\"  Padded Audio Shape: {padded_audio.shape}\")  # [batch_size, max_len_audio, audio_dim]\n",
        "    print(f\"  Text Mask Shape: {text_mask.shape}\")  # [batch_size, max_len_text]\n",
        "    print(f\"  Audio Mask Shape: {audio_mask.shape}\")  # [batch_size, max_len_audio]\n",
        "    print(f\"  Labels Shape: {labels.shape}\")  # [batch_size]\n",
        "    print(f\"  Labels: {labels.tolist()}\")\n",
        "    print(\"-\" * 50)"
      ],
      "metadata": {
        "id": "gll_dvMMpAib",
        "outputId": "7bc0c0ca-1b8a-44ea-bbd7-3e7f332e1f0c",
        "colab": {
          "base_uri": "https://localhost:8080/"
        }
      },
      "execution_count": 9,
      "outputs": [
        {
          "output_type": "stream",
          "name": "stdout",
          "text": [
            "Batch 1:\n",
            "  Padded Text Shape: torch.Size([32, 384, 200])\n",
            "  Padded Audio Shape: torch.Size([32, 384, 200])\n",
            "  Text Mask Shape: torch.Size([32, 384])\n",
            "  Audio Mask Shape: torch.Size([32, 384])\n",
            "  Labels Shape: torch.Size([32])\n",
            "  Labels: [0, 0, 0, 1, 1, 1, 1, 0, 0, 0, 1, 1, 1, 1, 1, 0, 0, 0, 0, 0, 1, 0, 0, 1, 0, 1, 0, 0, 0, 0, 0, 0]\n",
            "--------------------------------------------------\n",
            "Batch 2:\n",
            "  Padded Text Shape: torch.Size([32, 335, 200])\n",
            "  Padded Audio Shape: torch.Size([32, 335, 200])\n",
            "  Text Mask Shape: torch.Size([32, 335])\n",
            "  Audio Mask Shape: torch.Size([32, 335])\n",
            "  Labels Shape: torch.Size([32])\n",
            "  Labels: [0, 0, 0, 0, 0, 0, 0, 0, 0, 0, 0, 1, 1, 0, 0, 1, 0, 1, 0, 0, 0, 0, 0, 0, 1, 0, 0, 1, 0, 0, 1, 0]\n",
            "--------------------------------------------------\n",
            "Batch 3:\n",
            "  Padded Text Shape: torch.Size([32, 375, 200])\n",
            "  Padded Audio Shape: torch.Size([32, 375, 200])\n",
            "  Text Mask Shape: torch.Size([32, 375])\n",
            "  Audio Mask Shape: torch.Size([32, 375])\n",
            "  Labels Shape: torch.Size([32])\n",
            "  Labels: [1, 1, 0, 1, 1, 0, 0, 0, 0, 1, 0, 0, 1, 0, 0, 0, 0, 0, 0, 0, 1, 0, 0, 0, 1, 0, 1, 0, 0, 0, 0, 0]\n",
            "--------------------------------------------------\n",
            "Batch 4:\n",
            "  Padded Text Shape: torch.Size([31, 298, 200])\n",
            "  Padded Audio Shape: torch.Size([31, 298, 200])\n",
            "  Text Mask Shape: torch.Size([31, 298])\n",
            "  Audio Mask Shape: torch.Size([31, 298])\n",
            "  Labels Shape: torch.Size([31])\n",
            "  Labels: [1, 0, 0, 1, 0, 1, 1, 0, 0, 1, 0, 0, 0, 0, 1, 0, 1, 0, 0, 0, 0, 1, 1, 0, 0, 0, 0, 0, 0, 0, 0]\n",
            "--------------------------------------------------\n"
          ]
        }
      ]
    },
    {
      "cell_type": "markdown",
      "source": [
        "# Vanilla MFFNet"
      ],
      "metadata": {
        "id": "JIFJkuWKWsic"
      }
    },
    {
      "cell_type": "code",
      "source": [
        "import torch\n",
        "import torch.nn as nn\n",
        "import math\n",
        "import torch.nn.functional as F\n",
        "\n",
        "class FastSelfAttention(nn.Module):\n",
        "    def __init__(self, config):\n",
        "        super().__init__()\n",
        "        self.config = config\n",
        "\n",
        "        if config.hidden_size % config.num_attention_heads != 0:\n",
        "            raise ValueError(\"hidden_size must be divisible by num_attention_heads\")\n",
        "\n",
        "        self.num_heads = config.num_attention_heads\n",
        "        self.head_dim = config.hidden_size // config.num_attention_heads\n",
        "        self.all_head_size = config.hidden_size\n",
        "        self.query = nn.Linear(config.hidden_size, self.all_head_size)\n",
        "        self.key   = nn.Linear(config.hidden_size, self.all_head_size)\n",
        "        self.value = nn.Linear(config.hidden_size, self.all_head_size)\n",
        "        self.query_att = nn.Linear(self.head_dim, 1, bias=False)\n",
        "        self.m_att     = nn.Linear(self.head_dim, 1, bias=False)\n",
        "        self.out_proj = nn.Linear(self.head_dim, self.head_dim, bias=True)\n",
        "        self.merge_heads = nn.Linear(self.all_head_size, self.all_head_size)\n",
        "        self.softmax = nn.Softmax(dim=-1)\n",
        "        self._init_weights()\n",
        "\n",
        "    def _init_weights(self):\n",
        "        init_range = getattr(self.config, \"initializer_range\", 0.02)\n",
        "\n",
        "        nn.init.normal_(self.query.weight, mean=0.0, std=init_range)\n",
        "        if self.query.bias is not None:\n",
        "            nn.init.zeros_(self.query.bias)\n",
        "\n",
        "        nn.init.normal_(self.key.weight, mean=0.0, std=init_range)\n",
        "        if self.key.bias is not None:\n",
        "            nn.init.zeros_(self.key.bias)\n",
        "\n",
        "        nn.init.normal_(self.value.weight, mean=0.0, std=init_range)\n",
        "        if self.value.bias is not None:\n",
        "            nn.init.zeros_(self.value.bias)\n",
        "\n",
        "        nn.init.normal_(self.query_att.weight, mean=0.0, std=init_range)\n",
        "\n",
        "        nn.init.normal_(self.m_att.weight, mean=0.0, std=init_range)\n",
        "\n",
        "        nn.init.normal_(self.out_proj.weight, mean=0.0, std=init_range)\n",
        "        if self.out_proj.bias is not None:\n",
        "            nn.init.zeros_(self.out_proj.bias)\n",
        "\n",
        "        nn.init.normal_(self.merge_heads.weight, mean=0.0, std=init_range)\n",
        "        if self.merge_heads.bias is not None:\n",
        "            nn.init.zeros_(self.merge_heads.bias)\n",
        "\n",
        "\n",
        "    def split_heads(self, x: torch.Tensor):\n",
        "        \"\"\"\n",
        "        [B, S, D] -> [B, H, S, d]\n",
        "        \"\"\"\n",
        "        B, S, D = x.size()\n",
        "        x = x.view(B, S, self.num_heads, self.head_dim)\n",
        "        return x.permute(0, 2, 1, 3)\n",
        "\n",
        "    def merge_heads_fn(self, x: torch.Tensor):\n",
        "        \"\"\"\n",
        "        [B, H, S, d] -> [B, S, D]\n",
        "        \"\"\"\n",
        "        B, H, S, d = x.size()\n",
        "        x = x.permute(0, 2, 1, 3).contiguous()  # [B, S, H, d]\n",
        "        return x.view(B, S, H * d)  # [B, S, D]\n",
        "\n",
        "    def forward(self, query_states, key_states, value_states, attention_mask=None):\n",
        "        B, Sq, _ = query_states.shape\n",
        "        Sk = key_states.size(1)\n",
        "        Q = self.split_heads(self.query(query_states))   # [B, H, Sq, d]\n",
        "        K = self.split_heads(self.key(key_states))       # [B, H, Sk, d]\n",
        "        V = self.split_heads(self.value(value_states))   # [B, H, Sk, d]\n",
        "\n",
        "        # O_i = softmax( W_q^T q_i / sqrt(d) ),  q = sum_i O_i * q_i\n",
        "        aggregator_logits_q = self.query_att(Q) / math.sqrt(self.head_dim)\n",
        "        aggregator_logits_q = aggregator_logits_q.squeeze(-1)  # [B, H, Sq]\n",
        "\n",
        "        if attention_mask is not None:\n",
        "            aggregator_logits_q = aggregator_logits_q + attention_mask.view(B, 1, -1)\n",
        "\n",
        "        att_weights_q = self.softmax(aggregator_logits_q)   # [B, H, Sq]\n",
        "        # print(\"Q shape:\", Q.shape)\n",
        "        # print(\"att_weights_q shape:\", att_weights_q.shape)\n",
        "\n",
        "        q_global = torch.einsum('bhsd,bhs->bhd', Q, att_weights_q)  # [B, H, d]\n",
        "\n",
        "        # M = q_global * K (element-wise for each position i)\n",
        "        # M_i = q_global \\odot K_i\n",
        "        qg = q_global.unsqueeze(2)             # [B, H, 1, d]\n",
        "        M  = qg * K                            # [B, H, Sk, d]\n",
        "\n",
        "        # a_i = softmax( W_q^T m_i / sqrt(d) ) over i=1..Sk\n",
        "        aggregator_logits_m = self.m_att(M) / math.sqrt(self.head_dim)  # [B, H, Sk, 1]\n",
        "        aggregator_logits_m = aggregator_logits_m.squeeze(-1)           # [B, H, Sk]\n",
        "\n",
        "        if attention_mask is not None:\n",
        "            aggregator_logits_m = aggregator_logits_m + attention_mask.view(B, 1, -1)\n",
        "\n",
        "\n",
        "        att_weights_m = self.softmax(aggregator_logits_m)  # [B, H, Sk]\n",
        "\n",
        "        # 5) k_global = sum_i a_i * m_i  => [B, H, d]\n",
        "        k_global = torch.einsum('bhsd,bhs->bhd', M, att_weights_m)\n",
        "\n",
        "        kg = k_global.unsqueeze(2)                  # [B, H, 1, d]\n",
        "        KV_interaction = kg * V                     # [B, H, Sk, d]\n",
        "        E = self.out_proj(KV_interaction)           # [B, H, Sk, d]\n",
        "\n",
        "        if Sq != Sk:\n",
        "            raise ValueError(\"Fastformer aggregator: mismatch in seq_len (Sq vs Sk).\")\n",
        "\n",
        "        out_heads = E + Q  # shape [B, H, Sq, d]\n",
        "        out = self.merge_heads_fn(out_heads)  # [B, Sq, all_head_size]\n",
        "        #print(\"out after aggregator:\", out.shape)\n",
        "\n",
        "        return out\n",
        "\n",
        "class FastAttention(nn.Module):\n",
        "    \"\"\"\n",
        "    Wraps FastSelfAttention in a minimal 'attention + output-projection' block,\n",
        "    optionally adding a residual connection.\n",
        "    \"\"\"\n",
        "    def __init__(self, config):\n",
        "        super().__init__()\n",
        "        self.self = FastSelfAttention(config)\n",
        "        self.output = nn.Linear(config.hidden_size, config.hidden_size)\n",
        "        self.layernorm = nn.LayerNorm(config.hidden_size, eps=config.layer_norm_eps)\n",
        "\n",
        "    def forward(self, query_tensor, key_tensor, value_tensor, attention_mask=None):\n",
        "        self_output = self.self(query_tensor, key_tensor, value_tensor, attention_mask)\n",
        "        # typical residual:\n",
        "        attention_output = self.output(self_output) + query_tensor\n",
        "        attention_output = self.layernorm(attention_output)\n",
        "        return attention_output\n",
        "\n",
        "class FastformerLayer(nn.Module):\n",
        "    def __init__(self, config):\n",
        "        super().__init__()\n",
        "        self.attention = FastAttention(config)\n",
        "        self.intermediate = nn.Linear(config.hidden_size, config.intermediate_size)\n",
        "        self.output = nn.Linear(config.intermediate_size, config.hidden_size)\n",
        "        self.activation = nn.GELU()\n",
        "        self.layernorm = nn.LayerNorm(config.hidden_size, eps=config.layer_norm_eps)\n",
        "\n",
        "    def forward(self, hidden_states, key_states, value_states, attention_mask=None):\n",
        "        # 1) Fastformer-based attention\n",
        "        attention_output = self.attention(\n",
        "            hidden_states, key_states, value_states, attention_mask\n",
        "        )\n",
        "        # 2) Feed-forward + residual\n",
        "        inter = self.intermediate(attention_output)\n",
        "        inter = self.activation(inter)\n",
        "        ff_out = self.output(inter)\n",
        "        ff_out = ff_out + attention_output\n",
        "        layer_output = self.layernorm(ff_out)\n",
        "        return layer_output\n",
        "\n",
        "# MSFastformer\n",
        "class MSFastformer(nn.Module):\n",
        "    \"\"\"\n",
        "    Multi-Scale Fastformer block:\n",
        "      - LayerNorm + three different 1D Convs (kernel_size=1,3,5)\n",
        "      - Each conv output goes into a FastformerLayer call (paired as in eq. (2))\n",
        "      - Sum the resulting feature maps\n",
        "      - Then FC->GELU->FC + residual, etc.\n",
        "    \"\"\"\n",
        "    def __init__(self, config):\n",
        "        super().__init__()\n",
        "        self.config = config\n",
        "\n",
        "        # Single definitions of LayerNorm\n",
        "        self.layernorm_in = nn.LayerNorm(config.hidden_size, eps=config.layer_norm_eps)\n",
        "        self.layernorm_out = nn.LayerNorm(config.hidden_size, eps=config.layer_norm_eps)\n",
        "\n",
        "        # Convolutions\n",
        "        self.conv1 = nn.Conv1d(config.hidden_size, config.hidden_size, kernel_size=1, padding=0)\n",
        "        self.conv3 = nn.Conv1d(config.hidden_size, config.hidden_size, kernel_size=3, padding=1)\n",
        "        self.conv5 = nn.Conv1d(config.hidden_size, config.hidden_size, kernel_size=5, padding=2)\n",
        "\n",
        "        # Fastformer layers\n",
        "        self.fastformer_1 = FastformerLayer(config)\n",
        "        self.fastformer_3 = FastformerLayer(config)\n",
        "        self.fastformer_5 = FastformerLayer(config)\n",
        "    #     print(\"fastformer_1 out_proj weight:\",\n",
        "    # self.fastformer_1.attention.self.out_proj.weight.shape)\n",
        "\n",
        "    #     print(\"fastformer_3 out_proj weight:\",\n",
        "    # self.fastformer_3.attention.self.out_proj.weight.shape)\n",
        "\n",
        "    #     print(\"fastformer_5 out_proj weight:\",\n",
        "    # self.fastformer_5.attention.self.out_proj.weight.shape)\n",
        "\n",
        "\n",
        "        # Feed-forward\n",
        "        self.fc1 = nn.Linear(config.hidden_size, config.intermediate_size)\n",
        "        self.fc2 = nn.Linear(config.intermediate_size, config.hidden_size)\n",
        "\n",
        "        self.output_fc = nn.Linear(config.hidden_size, config.hidden_size)\n",
        "        self.gelu = nn.GELU()\n",
        "        self.dropout = nn.Dropout(config.hidden_dropout_prob)\n",
        "\n",
        "        self.apply(self._init_weights)\n",
        "\n",
        "    def _init_weights(self, module):\n",
        "        if isinstance(module, (nn.Linear, nn.Conv1d)):\n",
        "            module.weight.data.normal_(mean=0.0, std=self.config.initializer_range)\n",
        "            if module.bias is not None:\n",
        "                module.bias.data.zero_()\n",
        "        elif isinstance(module, nn.LayerNorm):\n",
        "            module.bias.data.zero_()\n",
        "            module.weight.data.fill_(1.0)\n",
        "\n",
        "    def forward(self, x, attention_mask=None):\n",
        "        \"\"\"\n",
        "        x: [B, seq_len, hidden_size]\n",
        "        \"\"\"\n",
        "        B, S, D = x.shape\n",
        "\n",
        "        # 1) LN, then conv\n",
        "        x_norm = self.layernorm_in(x)                 # [B, S, D]\n",
        "        x_t = x_norm.transpose(1, 2)                  # [B, D, S]\n",
        "\n",
        "        U1 = self.conv1(x_t).transpose(1, 2)          # [B, S, D]\n",
        "        U3 = self.conv3(x_t).transpose(1, 2)          # [B, S, D]\n",
        "        U5 = self.conv5(x_t).transpose(1, 2)          # [B, S, D]\n",
        "\n",
        "        P1 = self.fastformer_1(U5, U3, U3, attention_mask)\n",
        "        #print(\"P1 shape:\", P1.shape)\n",
        "        P2 = self.fastformer_3(U3, U1, U1, attention_mask)\n",
        "        P3 = self.fastformer_5(U1, U5, U5, attention_mask)\n",
        "        P  = P1 + P2 + P3  # [B, S, D]\n",
        "        #print(\"P shape after sum:\", P.shape)\n",
        "\n",
        "\n",
        "        P_norm = self.layernorm_out(P)\n",
        "        I = self.fc2(self.gelu(self.fc1(P_norm)))\n",
        "        I = self.dropout(I)\n",
        "        J = I + x  # residual with original x\n",
        "        J_norm = self.layernorm_out(J)\n",
        "        y = self.output_fc(J_norm)\n",
        "        y = self.dropout(y)\n",
        "        return y\n",
        "\n",
        "# Config\n",
        "class Config:\n",
        "    def __init__(self,\n",
        "                 hidden_size=768,\n",
        "                 num_attention_heads=16,\n",
        "                 intermediate_size=3072,\n",
        "                 num_labels=2,\n",
        "                 num_hidden_layers=12,\n",
        "                 hidden_dropout_prob=0.1,       # Use this for general dropout\n",
        "                 attention_probs_dropout_prob=0.1,\n",
        "                 max_position_embeddings=512,\n",
        "                 layer_norm_eps=1e-12,\n",
        "                 initializer_range=0.02,\n",
        "                 hidden_act=\"gelu\",\n",
        "                 pooler_type='weightpooler',\n",
        "                 num_attention_layers=12):\n",
        "        self.hidden_size = hidden_size\n",
        "        self.num_attention_heads = num_attention_heads\n",
        "        self.intermediate_size = intermediate_size\n",
        "        self.num_labels = num_labels\n",
        "        self.num_hidden_layers = num_hidden_layers\n",
        "        self.hidden_dropout_prob = hidden_dropout_prob\n",
        "        self.attention_probs_dropout_prob = attention_probs_dropout_prob\n",
        "        self.max_position_embeddings = max_position_embeddings\n",
        "        self.layer_norm_eps = layer_norm_eps\n",
        "        self.initializer_range = initializer_range\n",
        "        self.hidden_act = hidden_act\n",
        "        self.pooler_type = pooler_type\n",
        "        self.num_attention_layers = num_attention_layers\n",
        "\n",
        "# Gated Fusion\n",
        "class GatedFusion(nn.Module):\n",
        "    def __init__(self, hidden_dim, dropout_prob=0.1):\n",
        "        super(GatedFusion, self).__init__()\n",
        "        self.hidden_dim = hidden_dim\n",
        "        self.fc1 = nn.Linear(2*hidden_dim, 2*hidden_dim)\n",
        "        self.fc2 = nn.Linear(2*hidden_dim, 2*hidden_dim)\n",
        "        self.fc3 = nn.Linear(2*hidden_dim, hidden_dim)\n",
        "        self.fc4 = nn.Linear(hidden_dim, hidden_dim)\n",
        "        self.relu = nn.ReLU()\n",
        "        self.sigmoid = nn.Sigmoid()\n",
        "        self.dropout = nn.Dropout(dropout_prob)\n",
        "\n",
        "    def forward(self, Et, Ea):\n",
        "        assert Et.shape == Ea.shape, \"Et and Ea must have the same shape.\"\n",
        "        concat = torch.cat((Et, Ea), dim=-1)  # [B, T, 2*hidden_dim]\n",
        "        out = self.fc1(concat)\n",
        "        out = self.relu(out)\n",
        "        out = self.dropout(out)\n",
        "        out = self.fc2(out)\n",
        "        out = self.relu(out)\n",
        "        out = self.dropout(out)\n",
        "        out = self.fc3(out)\n",
        "        out = self.relu(out)\n",
        "        out = self.dropout(out)\n",
        "        out = self.fc4(out)\n",
        "        g = self.sigmoid(out)\n",
        "        Ef = g * Ea + (1 - g) * Et\n",
        "        return Ef\n",
        "\n",
        "#Recurrent Pyramid Network\n",
        "class Conv1x1(nn.Module):\n",
        "    \"\"\"\n",
        "    A simple 1D conv block (kernel_size=1) for channel adjustment/fusion in 1D feature maps.\n",
        "    \"\"\"\n",
        "    def __init__(self, in_channels, out_channels):\n",
        "        super().__init__()\n",
        "        self.conv = nn.Conv1d(\n",
        "            in_channels, out_channels,\n",
        "            kernel_size=1, stride=1, padding=0, bias=True\n",
        "        )\n",
        "    def forward(self, x):\n",
        "        return self.conv(x)\n",
        "\n",
        "class FuseModule(nn.Module):\n",
        "    \"\"\"\n",
        "    A lightweight 'fusion' that combines two feature maps (same resolution) by:\n",
        "      1) elementwise add\n",
        "      2) optional 1x1 conv for channel mixing\n",
        "    \"\"\"\n",
        "    def __init__(self, channels):\n",
        "        super().__init__()\n",
        "        self.conv = Conv1x1(channels, channels)\n",
        "\n",
        "    def forward(self, f_top, f_bottom):\n",
        "        # f_top, f_bottom shapes: [B, C, length]\n",
        "        fused = f_top + f_bottom\n",
        "        out = self.conv(fused)\n",
        "        return out\n",
        "\n",
        "class RecurrentPyramidModel(nn.Module):\n",
        "    \"\"\"\n",
        "    A 'Recurrent Pyramid Model' (RPM) as per Fig. 6 in the paper:\n",
        "     - Input: three feature maps at different 1D scales: f1 (x1), f2 (x1/2), f3 (x1/4)\n",
        "     - Step 1 (Top-Down): upsample from f3->f2->f1, fusing at each step\n",
        "     - Step 2 (Bottom-Up): downsample from td1->td2->td3, fusing at each step\n",
        "     - Final: concatenate the outputs of these two paths along channels\n",
        "    \"\"\"\n",
        "    def __init__(self, in_channels):\n",
        "        super().__init__()\n",
        "\n",
        "        # For top-down and bottom-up, we'll define small modules:\n",
        "        self.fuse12 = FuseModule(in_channels)  # fuse f1<->f2 or td1<->td2\n",
        "        self.fuse23 = FuseModule(in_channels)  # fuse f2<->f3 or td2<->td3\n",
        "\n",
        "        # If we want them separate for top-down vs bottom-up, we can do that:\n",
        "        self.fuse_td2 = FuseModule(in_channels)\n",
        "        self.fuse_td1 = FuseModule(in_channels)\n",
        "        self.fuse_bu2 = FuseModule(in_channels)\n",
        "        self.fuse_bu3 = FuseModule(in_channels)\n",
        "\n",
        "        # 1D conv (stride=2) for downsampling,\n",
        "        # or we could use average pool for a simpler approach.\n",
        "        self.downsample = nn.Conv1d(\n",
        "            in_channels, in_channels,\n",
        "            kernel_size=3, stride=2, padding=1, bias=True\n",
        "        )\n",
        "\n",
        "        self.upsample = lambda x, scale=2: F.interpolate(\n",
        "            x, scale_factor=scale, mode='nearest'\n",
        "        )\n",
        "\n",
        "    def forward(self, f1, f2, f3):\n",
        "        \"\"\"\n",
        "        f1 -> shape [B, C, T1]\n",
        "        f2 -> shape [B, C, T2]\n",
        "        f3 -> shape [B, C, T3]\n",
        "\n",
        "        Where T2 ~ T1/2, T3 ~ T1/4.\n",
        "        \"\"\"\n",
        "\n",
        "        td3 = f3\n",
        "        # Upsample f3 -> same size as f2\n",
        "        up3 = F.interpolate(td3, size=f2.shape[-1], mode='nearest')\n",
        "        td2 = self.fuse_td2(up3, f2)\n",
        "\n",
        "        # Upsample td2 -> same size as f1\n",
        "        up2 = F.interpolate(td2, size=f1.shape[-1], mode='nearest')\n",
        "        td1 = self.fuse_td1(up2, f1)\n",
        "        bu1 = td1\n",
        "\n",
        "        # Downsample td1 -> size of td2\n",
        "        down1 = F.interpolate(bu1, size=td2.shape[-1], mode='nearest')  # T1->T2\n",
        "        bu2 = self.fuse_bu2(td2, down1)\n",
        "\n",
        "        # Downsample bu2 -> size of td3\n",
        "        down2 = F.interpolate(bu2, size=td3.shape[-1], mode='nearest')\n",
        "        bu3 = self.fuse_bu3(td3, down2)\n",
        "\n",
        "        td3_up = F.interpolate(td3, size=f1.shape[-1], mode='nearest')\n",
        "        td2_up = F.interpolate(td2, size=f1.shape[-1], mode='nearest')\n",
        "        bu2_up = F.interpolate(bu2, size=f1.shape[-1], mode='nearest')\n",
        "        bu3_up = F.interpolate(bu3, size=f1.shape[-1], mode='nearest')\n",
        "\n",
        "        final = torch.cat([td1, td2_up, td3_up, bu1, bu2_up, bu3_up], dim=1)\n",
        "\n",
        "        final = torch.cat([td1, td2_up, td3_up, bu1, bu2_up, bu3_up], dim=1)\n",
        "        # final shape: [B, 6*C, T1]\n",
        "\n",
        "        return final, (td1, td2, td3, bu1, bu2, bu3)\n",
        "\n",
        "# Adaptive Fusion Module\n",
        "class FeatureAlignment(nn.Module):\n",
        "    \"\"\"\n",
        "    1) Align each of the 6 multi-resolution features in time dimension\n",
        "       by applying a 1D conv and (if needed) interpolate to the max length.\n",
        "    2) Return a single 4D tensor [B, 6, T, D],\n",
        "       matching the 'Feature Dimension Alignment' block in Figure 7.\n",
        "    \"\"\"\n",
        "    def __init__(self, feature_dim):\n",
        "        super(FeatureAlignment, self).__init__()\n",
        "        self.align_convs = nn.ModuleList([\n",
        "            nn.Conv1d(feature_dim, feature_dim, kernel_size=1)\n",
        "            for _ in range(6)\n",
        "        ])\n",
        "\n",
        "    def forward(self, features):\n",
        "        \"\"\"\n",
        "        features: list/tuple of 6 tensors, each shape [B, T_x, D],\n",
        "                  possibly different T_x lengths\n",
        "        Returns:  H of shape [B, 6, T_max, D]\n",
        "        \"\"\"\n",
        "        max_len = max(f.shape[1] for f in features)\n",
        "\n",
        "        aligned_list = []\n",
        "        for i, f in enumerate(features):\n",
        "            f_1d = f.transpose(1, 2)  # => [B, D, T_i]\n",
        "            # apply the 1x1 conv\n",
        "            f_aligned = self.align_convs[i](f_1d)  # still [B, D, T_i]\n",
        "\n",
        "            # if needed, interpolate to max_len\n",
        "            if f_aligned.shape[2] != max_len:\n",
        "                # use linear interpolation along the temporal axis\n",
        "                f_aligned = F.interpolate(\n",
        "                    f_aligned,\n",
        "                    size=max_len,\n",
        "                    mode='linear',\n",
        "                    align_corners=False\n",
        "                )\n",
        "            # now shape is [B, D, max_len]\n",
        "            # next we want to store it as [B, max_len, D]\n",
        "            f_aligned = f_aligned.transpose(1, 2)  # => [B, max_len, D]\n",
        "            aligned_list.append(f_aligned)\n",
        "\n",
        "        # Step 2: stack along a new dimension => [B, 6, max_len, D]\n",
        "        H = torch.stack(aligned_list, dim=1)\n",
        "        return H\n",
        "\n",
        "class MultiFeatureFusion(nn.Module):\n",
        "    \"\"\"\n",
        "    1) Compute T-dim mean and D-dim mean over the stacked features =>\n",
        "       [B, 6] + [B, 6] => [B, 12].\n",
        "    2) Generate an attention vector for the 6 channels via FC->ReLU->Softmax.\n",
        "    3) Apply the attention to H, sum across dimension=1 (the '6' dimension).\n",
        "    4) Add a residual connection from H (averaged or direct).\n",
        "    5) Output final fused feature => shape [B, T, D].\n",
        "    \"\"\"\n",
        "    def __init__(self, feature_dim):\n",
        "        super(MultiFeatureFusion, self).__init__()\n",
        "        # We produce a single attention weight per each of the 6 features\n",
        "        # from a 12-dimensional input (concatenated means).\n",
        "        self.attention_fc = nn.Linear(12, 6)\n",
        "        self.relu = nn.ReLU()\n",
        "        self.softmax = nn.Softmax(dim=1)  # normalize across the 6 dimension\n",
        "\n",
        "    def forward(self, H):\n",
        "        \"\"\"\n",
        "        H: [B, 6, T, D], from FeatureAlignment\n",
        "        Return fused: [B, T, D]\n",
        "        \"\"\"\n",
        "        B, N, T, D = H.shape  # N=6\n",
        "\n",
        "        # 1) Means along T and D:\n",
        "        # mean_T => [B, N, D], i.e. average over T dimension\n",
        "        mean_T = H.mean(dim=2)\n",
        "        # mean_D => [B, N, T], i.e. average over D dimension\n",
        "        mean_D = H.mean(dim=3)\n",
        "\n",
        "        # 2) Then average again across the leftover dimension to get [B, N]\n",
        "        #    We want a single scalar per each of the N=6 slices, from T or D perspective\n",
        "        mean_TD = mean_T.mean(dim=2)  # => [B, N]\n",
        "        mean_DT = mean_D.mean(dim=2)  # => [B, N]\n",
        "\n",
        "        # 3) Concatenate them => [B, 2N] = [B, 12]\n",
        "        mean_features = torch.cat([mean_TD, mean_DT], dim=1)  # [B, 12]\n",
        "\n",
        "        # 4) FC -> ReLU -> Softmax => attention vector of shape [B, 6]\n",
        "        att_scores = self.attention_fc(mean_features)  # [B, 6]\n",
        "        att_scores = self.relu(att_scores)\n",
        "        att_weights = self.softmax(att_scores)  # [B, 6]\n",
        "        # expand to broadcast over T,D\n",
        "        att_weights = att_weights.view(B, N, 1, 1)  # [B, 6, 1, 1]\n",
        "\n",
        "        # 5) Weighted sum across N=6 dimension => [B, T, D]\n",
        "        weighted = H * att_weights  # [B, 6, T, D]\n",
        "        fused = weighted.sum(dim=1)  # [B, T, D]\n",
        "\n",
        "        # 6) Residual connection\n",
        "        #    We can simply average H across the 6 dimension to get a 'baseline'\n",
        "        #    shape => [B, T, D]\n",
        "        residual = H.mean(dim=1)  # [B, T, D]\n",
        "        fused = fused + residual\n",
        "\n",
        "        return fused\n",
        "\n",
        "class AdaptiveFusionModule(nn.Module):\n",
        "    \"\"\"\n",
        "    Overall AFM from Figure 7:\n",
        "      - Feature dimension alignment via 1D conv + optional interpolation\n",
        "      - Concat into shape [B, 6, T, D]\n",
        "      - Multi-feature fusion with channel-wise attention + residual\n",
        "    \"\"\"\n",
        "    def __init__(self, feature_dim):\n",
        "        super(AdaptiveFusionModule, self).__init__()\n",
        "        self.feature_alignment = FeatureAlignment(feature_dim)\n",
        "        self.feature_fusion = MultiFeatureFusion(feature_dim)\n",
        "\n",
        "    def forward(self, features):\n",
        "        \"\"\"\n",
        "        features: a list/tuple of 6 multi-resolution features,\n",
        "                  each shaped [B, T_i, D]\n",
        "        Returns:\n",
        "          fused_output: shape [B, T_max, D]\n",
        "        \"\"\"\n",
        "        # Step 1: Align to [B, 6, T_max, D]\n",
        "        H = self.feature_alignment(features)\n",
        "\n",
        "        # Step 2: Fuse => [B, T_max, D]\n",
        "        fused_output = self.feature_fusion(H)\n",
        "        return fused_output\n",
        "\n",
        "class MFFNet(nn.Module):\n",
        "    \"\"\"\n",
        "    The overall MFFNet architecture:\n",
        "      1) Two MSFastformer encoders (one for text, one for speech)\n",
        "      2) Gated Fusion of text + speech -> fused rep\n",
        "      3) Recurrent Pyramid Model on that fused rep, generating multi-res outputs\n",
        "      4) Adaptive Fusion Module (AFM) on those 6 multi-res outputs\n",
        "      5) Final FC to produce binary depression classification\n",
        "    \"\"\"\n",
        "    def __init__(self, config, num_classes=2):\n",
        "        super().__init__()\n",
        "        self.config = config\n",
        "        self.num_classes = num_classes\n",
        "\n",
        "        self.text_encoder = MSFastformer(config)\n",
        "        self.speech_encoder = MSFastformer(config)\n",
        "        self.gated_fusion = GatedFusion(hidden_dim=config.hidden_size,\n",
        "                                        dropout_prob=config.hidden_dropout_prob)\n",
        "\n",
        "        self.rpm = RecurrentPyramidModel(in_channels=config.hidden_size)\n",
        "        self.afm = AdaptiveFusionModule(feature_dim=config.hidden_size)\n",
        "\n",
        "        self.classifier = nn.Linear(config.hidden_size, self.num_classes)\n",
        "\n",
        "    def forward(self, text_in, speech_in, attention_mask_text=None, attention_mask_speech=None):\n",
        "        \"\"\"\n",
        "        text_in, speech_in: [B, T, D] embeddings for text and speech\n",
        "        attention_mask_*: optional [B, T] for each\n",
        "        Returns: logits => [B, num_classes]\n",
        "        \"\"\"\n",
        "        text_rep = self.text_encoder(text_in, attention_mask_text)      # [B, T, D]\n",
        "        speech_rep = self.speech_encoder(speech_in, attention_mask_speech)  # [B, T, D]\n",
        "\n",
        "        fused_rep = self.gated_fusion(text_rep, speech_rep)\n",
        "\n",
        "        fused_rep_t = fused_rep.transpose(1, 2)  # => [B, D, T], the 'C' dimension is D\n",
        "\n",
        "        f1 = fused_rep_t  # full scale => shape [B, D, T]\n",
        "        f2 = F.avg_pool1d(f1, kernel_size=2, stride=2)  # => [B, D, T//2]\n",
        "        f3 = F.avg_pool1d(f2, kernel_size=2, stride=2)  # => [B, D, T//4]\n",
        "\n",
        "        rpm_out, (td1, td2, td3, bu1, bu2, bu3) = self.rpm(f1, f2, f3)\n",
        "\n",
        "        td1_ = td1.transpose(1, 2)  # => [B, T1, D]\n",
        "        td2_ = td2.transpose(1, 2)  # => [B, T2, D]\n",
        "        td3_ = td3.transpose(1, 2)  # => [B, T3, D]\n",
        "        bu1_ = bu1.transpose(1, 2)\n",
        "        bu2_ = bu2.transpose(1, 2)\n",
        "        bu3_ = bu3.transpose(1, 2)\n",
        "\n",
        "        fused_afm = self.afm([td1_, td2_, td3_, bu1_, bu2_, bu3_])  # => [B, T_max, D]\n",
        "\n",
        "        pooled = fused_afm.mean(dim=1)  # [B, D]\n",
        "\n",
        "        logits = self.classifier(pooled)  # => [B, num_classes]\n",
        "        return logits\n"
      ],
      "metadata": {
        "id": "P9doVnm5fvYz"
      },
      "execution_count": 10,
      "outputs": []
    },
    {
      "cell_type": "code",
      "source": [
        "import torch\n",
        "import torch.nn as nn\n",
        "import torch.optim as optim\n",
        "from torch.utils.data import DataLoader\n",
        "\n",
        "device = torch.device('cuda' if torch.cuda.is_available() else 'cpu')\n",
        "\n",
        "text_config = Config(hidden_size=200, intermediate_size=256, num_labels=2,num_attention_heads=2,hidden_dropout_prob=0.2)\n",
        "audio_config = Config(hidden_size=200, intermediate_size=256, num_labels=2,num_attention_heads=2,hidden_dropout_prob=0.2)\n"
      ],
      "metadata": {
        "id": "NDvro39Gflwp"
      },
      "execution_count": 55,
      "outputs": []
    },
    {
      "cell_type": "code",
      "source": [
        "model = MFFNet(config=text_config,num_classes=2).to(device)"
      ],
      "metadata": {
        "id": "n0RTvuCSheXi"
      },
      "execution_count": 70,
      "outputs": []
    },
    {
      "cell_type": "code",
      "source": [
        "total_params = sum(p.numel() for p in model.parameters() if p.requires_grad)\n",
        "print(f\"Total trainable parameters: {total_params:,}\")"
      ],
      "metadata": {
        "colab": {
          "base_uri": "https://localhost:8080/"
        },
        "id": "kXQ1irusOXOK",
        "outputId": "ebf226ec-fb90-4836-dc64-279e964811c7"
      },
      "execution_count": 71,
      "outputs": [
        {
          "output_type": "stream",
          "name": "stdout",
          "text": [
            "Total trainable parameters: 3,942,928\n"
          ]
        }
      ]
    },
    {
      "cell_type": "code",
      "source": [
        "n_pos = 0\n",
        "n_neg = 0\n",
        "\n",
        "for inputs,a,b,c,labels in train_loader:\n",
        "    labels = labels.view(-1).float()\n",
        "    n_pos += labels.sum().item()\n",
        "    n_neg += (labels.size(0) - labels.sum().item())\n",
        "\n",
        "print(f\"Number of positive samples (N+): {n_pos}\")\n",
        "print(f\"Number of negative samples (N-): {n_neg}\")\n"
      ],
      "metadata": {
        "colab": {
          "base_uri": "https://localhost:8080/"
        },
        "id": "1DAQY2EInxHk",
        "outputId": "bcd59fff-d503-4e37-d13d-7be145ccb576"
      },
      "execution_count": 72,
      "outputs": [
        {
          "output_type": "stream",
          "name": "stdout",
          "text": [
            "Number of positive samples (N+): 37.0\n",
            "Number of negative samples (N-): 90.0\n"
          ]
        }
      ]
    },
    {
      "cell_type": "code",
      "source": [
        "w_pos = n_pos/(n_neg + n_pos)\n",
        "w_neg = n_neg/(n_neg + n_pos)\n",
        "\n",
        "print(f\"Weight for positive class (W+): {w_pos}\")\n",
        "print(f\"Weight for negative class (W-): {w_neg}\")"
      ],
      "metadata": {
        "colab": {
          "base_uri": "https://localhost:8080/"
        },
        "id": "NwUmmok1oW8-",
        "outputId": "77f0f2de-db7e-46e4-bf26-dfbfaa4c33e0"
      },
      "execution_count": 73,
      "outputs": [
        {
          "output_type": "stream",
          "name": "stdout",
          "text": [
            "Weight for positive class (W+): 0.29133858267716534\n",
            "Weight for negative class (W-): 0.7086614173228346\n"
          ]
        }
      ]
    },
    {
      "cell_type": "code",
      "source": [
        "weight = torch.tensor([w_pos, w_neg]).to(device)  # shape: [2]\n",
        "\n",
        "criterion = nn.CrossEntropyLoss(weight=weight)  # For binary classification, this expects labels as integers (0 or 1)\n",
        "optimizer = optim.Adam(model.parameters(), lr=1e-5, weight_decay=1e-5)"
      ],
      "metadata": {
        "id": "1ZIpEgZMhnFb"
      },
      "execution_count": 74,
      "outputs": []
    },
    {
      "cell_type": "code",
      "source": [
        "from sklearn.metrics import f1_score, precision_score, recall_score, accuracy_score\n",
        "import matplotlib.pyplot as plt\n",
        "\n",
        "num_epochs = 300\n",
        "patience = 50\n",
        "\n",
        "train_losses = []\n",
        "val_losses = []\n",
        "\n",
        "train_accuracy = []\n",
        "train_precision_label1 = []\n",
        "train_recall_label1 = []\n",
        "train_f1_label1 = []\n",
        "\n",
        "val_accuracy = []\n",
        "val_precision_label1 = []\n",
        "val_recall_label1 = []\n",
        "val_f1_label1 = []\n",
        "\n",
        "\n",
        "best_val_loss = float('inf')\n",
        "no_improve_count = 0"
      ],
      "metadata": {
        "id": "MRNrpvcRhrkf"
      },
      "execution_count": 75,
      "outputs": []
    },
    {
      "cell_type": "code",
      "source": [
        "for epoch in range(num_epochs):\n",
        "    model.train()\n",
        "    total_loss = 0.0\n",
        "    all_preds = []\n",
        "    all_labels = []\n",
        "\n",
        "    for text_batch, audio_batch, text_mask, audio_mask, label_batch in train_loader:\n",
        "        text_batch = text_batch.to(device)\n",
        "        audio_batch = audio_batch.to(device)\n",
        "        text_mask = text_mask.to(device)\n",
        "        audio_mask = audio_mask.to(device)\n",
        "        label_batch = label_batch.to(device)\n",
        "\n",
        "        optimizer.zero_grad()\n",
        "        logits = model(text_batch, audio_batch)\n",
        "        loss = criterion(logits, label_batch)\n",
        "        loss.backward()\n",
        "        optimizer.step()\n",
        "\n",
        "        total_loss += loss.item() * text_batch.size(0)\n",
        "        _, predicted = torch.max(logits, 1)\n",
        "        all_preds.extend(predicted.cpu().tolist())\n",
        "        all_labels.extend(label_batch.cpu().tolist())\n",
        "\n",
        "    avg_train_loss = total_loss / len(train_loader.dataset)\n",
        "    train_losses.append(avg_train_loss)\n",
        "\n",
        "    # Metrics for training\n",
        "    train_acc = accuracy_score(all_labels, all_preds)\n",
        "    train_precision = precision_score(all_labels, all_preds, labels=[1], average='binary', zero_division=0)\n",
        "    train_recall = recall_score(all_labels, all_preds, labels=[1], average='binary', zero_division=0)\n",
        "    train_f1 = f1_score(all_labels, all_preds, labels=[1], average='binary', zero_division=0)\n",
        "\n",
        "    train_accuracy.append(train_acc)\n",
        "    train_precision_label1.append(train_precision)\n",
        "    train_recall_label1.append(train_recall)\n",
        "    train_f1_label1.append(train_f1)\n",
        "\n",
        "    print(f\"Epoch [{epoch+1}/{num_epochs}], Train Loss: {avg_train_loss:.4f}, Accuracy: {train_acc:.4f}\")\n",
        "\n",
        "    # Validation step\n",
        "    model.eval()\n",
        "    val_loss = 0.0\n",
        "    val_preds = []\n",
        "    val_labels = []\n",
        "\n",
        "    with torch.no_grad():\n",
        "        for text_val, audio_val, text_mask, audio_mask, label_val in test_loader:\n",
        "            text_val = text_val.to(device)\n",
        "            audio_val = audio_val.to(device)\n",
        "            label_val = label_val.to(device)\n",
        "\n",
        "            val_logits = model(text_val, audio_val)\n",
        "            val_batch_loss = criterion(val_logits, label_val)\n",
        "            val_loss += val_batch_loss.item() * text_val.size(0)\n",
        "\n",
        "            _, val_predicted = torch.max(val_logits, 1)\n",
        "            val_preds.extend(val_predicted.cpu().tolist())\n",
        "            val_labels.extend(label_val.cpu().tolist())\n",
        "\n",
        "    avg_val_loss = val_loss / len(test_loader.dataset)\n",
        "    val_losses.append(avg_val_loss)\n",
        "\n",
        "    # Metrics for validation\n",
        "    val_acc = accuracy_score(val_labels, val_preds)\n",
        "    val_precision = precision_score(val_labels, val_preds, labels=[1], average='binary', zero_division=0)\n",
        "    val_recall = recall_score(val_labels, val_preds, labels=[1], average='binary', zero_division=0)\n",
        "    val_f1 = f1_score(val_labels, val_preds, labels=[1], average='binary', zero_division=0)\n",
        "\n",
        "    val_accuracy.append(val_acc)\n",
        "    val_precision_label1.append(val_precision)\n",
        "    val_recall_label1.append(val_recall)\n",
        "    val_f1_label1.append(val_f1)\n",
        "\n",
        "    print(f\"Epoch [{epoch+1}/{num_epochs}], Val Loss: {avg_val_loss:.4f}, Accuracy: {val_acc:.4f}\")\n",
        "\n",
        "    # Early Stopping Check\n",
        "    if avg_val_loss < best_val_loss:\n",
        "        best_val_loss = avg_val_loss\n",
        "        no_improve_count = 0\n",
        "        torch.save(model.state_dict(), \"best_model.pth\")\n",
        "    else:\n",
        "        no_improve_count += 1\n",
        "        if no_improve_count >= patience:\n",
        "            print(\"No improvement in validation loss for several epochs. Stopping early.\")\n",
        "            break"
      ],
      "metadata": {
        "colab": {
          "base_uri": "https://localhost:8080/"
        },
        "id": "XCIAX4yEhucb",
        "outputId": "33858754-aee2-4598-e618-c5a1869faea0"
      },
      "execution_count": 76,
      "outputs": [
        {
          "output_type": "stream",
          "name": "stdout",
          "text": [
            "Epoch [1/300], Train Loss: 0.7041, Accuracy: 0.5906\n",
            "Epoch [1/300], Val Loss: 0.6999, Accuracy: 0.6333\n",
            "Epoch [2/300], Train Loss: 0.6981, Accuracy: 0.6929\n",
            "Epoch [2/300], Val Loss: 0.6958, Accuracy: 0.6667\n",
            "Epoch [3/300], Train Loss: 0.6926, Accuracy: 0.7087\n",
            "Epoch [3/300], Val Loss: 0.6933, Accuracy: 0.6333\n",
            "Epoch [4/300], Train Loss: 0.6925, Accuracy: 0.6929\n",
            "Epoch [4/300], Val Loss: 0.6917, Accuracy: 0.6667\n",
            "Epoch [5/300], Train Loss: 0.6939, Accuracy: 0.6457\n",
            "Epoch [5/300], Val Loss: 0.6909, Accuracy: 0.6333\n",
            "Epoch [6/300], Train Loss: 0.6875, Accuracy: 0.6614\n",
            "Epoch [6/300], Val Loss: 0.6900, Accuracy: 0.5667\n",
            "Epoch [7/300], Train Loss: 0.6902, Accuracy: 0.6693\n",
            "Epoch [7/300], Val Loss: 0.6897, Accuracy: 0.5667\n",
            "Epoch [8/300], Train Loss: 0.6904, Accuracy: 0.6614\n",
            "Epoch [8/300], Val Loss: 0.6895, Accuracy: 0.5667\n",
            "Epoch [9/300], Train Loss: 0.6935, Accuracy: 0.6457\n",
            "Epoch [9/300], Val Loss: 0.6893, Accuracy: 0.5667\n",
            "Epoch [10/300], Train Loss: 0.6920, Accuracy: 0.6299\n",
            "Epoch [10/300], Val Loss: 0.6891, Accuracy: 0.5667\n",
            "Epoch [11/300], Train Loss: 0.6889, Accuracy: 0.6535\n",
            "Epoch [11/300], Val Loss: 0.6890, Accuracy: 0.5333\n",
            "Epoch [12/300], Train Loss: 0.6910, Accuracy: 0.5827\n",
            "Epoch [12/300], Val Loss: 0.6889, Accuracy: 0.5333\n",
            "Epoch [13/300], Train Loss: 0.6913, Accuracy: 0.6142\n",
            "Epoch [13/300], Val Loss: 0.6889, Accuracy: 0.5333\n",
            "Epoch [14/300], Train Loss: 0.6920, Accuracy: 0.5906\n",
            "Epoch [14/300], Val Loss: 0.6888, Accuracy: 0.5333\n",
            "Epoch [15/300], Train Loss: 0.6912, Accuracy: 0.6457\n",
            "Epoch [15/300], Val Loss: 0.6887, Accuracy: 0.5333\n",
            "Epoch [16/300], Train Loss: 0.6889, Accuracy: 0.6142\n",
            "Epoch [16/300], Val Loss: 0.6887, Accuracy: 0.5333\n",
            "Epoch [17/300], Train Loss: 0.6884, Accuracy: 0.5591\n",
            "Epoch [17/300], Val Loss: 0.6886, Accuracy: 0.5333\n",
            "Epoch [18/300], Train Loss: 0.6920, Accuracy: 0.5433\n",
            "Epoch [18/300], Val Loss: 0.6886, Accuracy: 0.5333\n",
            "Epoch [19/300], Train Loss: 0.6898, Accuracy: 0.6299\n",
            "Epoch [19/300], Val Loss: 0.6885, Accuracy: 0.5333\n",
            "Epoch [20/300], Train Loss: 0.6888, Accuracy: 0.6378\n",
            "Epoch [20/300], Val Loss: 0.6884, Accuracy: 0.5333\n",
            "Epoch [21/300], Train Loss: 0.6894, Accuracy: 0.6063\n",
            "Epoch [21/300], Val Loss: 0.6883, Accuracy: 0.5333\n",
            "Epoch [22/300], Train Loss: 0.6905, Accuracy: 0.6063\n",
            "Epoch [22/300], Val Loss: 0.6882, Accuracy: 0.5333\n",
            "Epoch [23/300], Train Loss: 0.6888, Accuracy: 0.6220\n",
            "Epoch [23/300], Val Loss: 0.6881, Accuracy: 0.5333\n",
            "Epoch [24/300], Train Loss: 0.6917, Accuracy: 0.5433\n",
            "Epoch [24/300], Val Loss: 0.6880, Accuracy: 0.5333\n",
            "Epoch [25/300], Train Loss: 0.6910, Accuracy: 0.6220\n",
            "Epoch [25/300], Val Loss: 0.6880, Accuracy: 0.5333\n",
            "Epoch [26/300], Train Loss: 0.6888, Accuracy: 0.5748\n",
            "Epoch [26/300], Val Loss: 0.6879, Accuracy: 0.5333\n",
            "Epoch [27/300], Train Loss: 0.6870, Accuracy: 0.6220\n",
            "Epoch [27/300], Val Loss: 0.6878, Accuracy: 0.5333\n",
            "Epoch [28/300], Train Loss: 0.6891, Accuracy: 0.6142\n",
            "Epoch [28/300], Val Loss: 0.6877, Accuracy: 0.5333\n",
            "Epoch [29/300], Train Loss: 0.6878, Accuracy: 0.5984\n",
            "Epoch [29/300], Val Loss: 0.6876, Accuracy: 0.5333\n",
            "Epoch [30/300], Train Loss: 0.6886, Accuracy: 0.6142\n",
            "Epoch [30/300], Val Loss: 0.6875, Accuracy: 0.5333\n",
            "Epoch [31/300], Train Loss: 0.6937, Accuracy: 0.4961\n",
            "Epoch [31/300], Val Loss: 0.6874, Accuracy: 0.5333\n",
            "Epoch [32/300], Train Loss: 0.6889, Accuracy: 0.5827\n",
            "Epoch [32/300], Val Loss: 0.6874, Accuracy: 0.5333\n",
            "Epoch [33/300], Train Loss: 0.6876, Accuracy: 0.6142\n",
            "Epoch [33/300], Val Loss: 0.6873, Accuracy: 0.5333\n",
            "Epoch [34/300], Train Loss: 0.6878, Accuracy: 0.5906\n",
            "Epoch [34/300], Val Loss: 0.6872, Accuracy: 0.5333\n",
            "Epoch [35/300], Train Loss: 0.6929, Accuracy: 0.5748\n",
            "Epoch [35/300], Val Loss: 0.6872, Accuracy: 0.5333\n",
            "Epoch [36/300], Train Loss: 0.6889, Accuracy: 0.6063\n",
            "Epoch [36/300], Val Loss: 0.6871, Accuracy: 0.5333\n",
            "Epoch [37/300], Train Loss: 0.6874, Accuracy: 0.6457\n",
            "Epoch [37/300], Val Loss: 0.6870, Accuracy: 0.5333\n",
            "Epoch [38/300], Train Loss: 0.6888, Accuracy: 0.6378\n",
            "Epoch [38/300], Val Loss: 0.6869, Accuracy: 0.5333\n",
            "Epoch [39/300], Train Loss: 0.6854, Accuracy: 0.5591\n",
            "Epoch [39/300], Val Loss: 0.6868, Accuracy: 0.5333\n",
            "Epoch [40/300], Train Loss: 0.6865, Accuracy: 0.6299\n",
            "Epoch [40/300], Val Loss: 0.6867, Accuracy: 0.5333\n",
            "Epoch [41/300], Train Loss: 0.6894, Accuracy: 0.6142\n",
            "Epoch [41/300], Val Loss: 0.6865, Accuracy: 0.5000\n",
            "Epoch [42/300], Train Loss: 0.6872, Accuracy: 0.5906\n",
            "Epoch [42/300], Val Loss: 0.6864, Accuracy: 0.5333\n",
            "Epoch [43/300], Train Loss: 0.6862, Accuracy: 0.6220\n",
            "Epoch [43/300], Val Loss: 0.6863, Accuracy: 0.5000\n",
            "Epoch [44/300], Train Loss: 0.6870, Accuracy: 0.6220\n",
            "Epoch [44/300], Val Loss: 0.6861, Accuracy: 0.5000\n",
            "Epoch [45/300], Train Loss: 0.6872, Accuracy: 0.6457\n",
            "Epoch [45/300], Val Loss: 0.6860, Accuracy: 0.5333\n",
            "Epoch [46/300], Train Loss: 0.6899, Accuracy: 0.6063\n",
            "Epoch [46/300], Val Loss: 0.6860, Accuracy: 0.5333\n",
            "Epoch [47/300], Train Loss: 0.6859, Accuracy: 0.6063\n",
            "Epoch [47/300], Val Loss: 0.6858, Accuracy: 0.5000\n",
            "Epoch [48/300], Train Loss: 0.6869, Accuracy: 0.6142\n",
            "Epoch [48/300], Val Loss: 0.6857, Accuracy: 0.5333\n",
            "Epoch [49/300], Train Loss: 0.6858, Accuracy: 0.6142\n",
            "Epoch [49/300], Val Loss: 0.6855, Accuracy: 0.5000\n",
            "Epoch [50/300], Train Loss: 0.6866, Accuracy: 0.6220\n",
            "Epoch [50/300], Val Loss: 0.6854, Accuracy: 0.5333\n",
            "Epoch [51/300], Train Loss: 0.6863, Accuracy: 0.5984\n",
            "Epoch [51/300], Val Loss: 0.6852, Accuracy: 0.5000\n",
            "Epoch [52/300], Train Loss: 0.6845, Accuracy: 0.6220\n",
            "Epoch [52/300], Val Loss: 0.6852, Accuracy: 0.5333\n",
            "Epoch [53/300], Train Loss: 0.6846, Accuracy: 0.6457\n",
            "Epoch [53/300], Val Loss: 0.6850, Accuracy: 0.5000\n",
            "Epoch [54/300], Train Loss: 0.6889, Accuracy: 0.5984\n",
            "Epoch [54/300], Val Loss: 0.6848, Accuracy: 0.5000\n",
            "Epoch [55/300], Train Loss: 0.6879, Accuracy: 0.6063\n",
            "Epoch [55/300], Val Loss: 0.6847, Accuracy: 0.5000\n",
            "Epoch [56/300], Train Loss: 0.6860, Accuracy: 0.6299\n",
            "Epoch [56/300], Val Loss: 0.6846, Accuracy: 0.5333\n",
            "Epoch [57/300], Train Loss: 0.6846, Accuracy: 0.6063\n",
            "Epoch [57/300], Val Loss: 0.6844, Accuracy: 0.5000\n",
            "Epoch [58/300], Train Loss: 0.6841, Accuracy: 0.6220\n",
            "Epoch [58/300], Val Loss: 0.6843, Accuracy: 0.5000\n",
            "Epoch [59/300], Train Loss: 0.6822, Accuracy: 0.6142\n",
            "Epoch [59/300], Val Loss: 0.6841, Accuracy: 0.5000\n",
            "Epoch [60/300], Train Loss: 0.6862, Accuracy: 0.6220\n",
            "Epoch [60/300], Val Loss: 0.6838, Accuracy: 0.5333\n",
            "Epoch [61/300], Train Loss: 0.6868, Accuracy: 0.6299\n",
            "Epoch [61/300], Val Loss: 0.6836, Accuracy: 0.5333\n",
            "Epoch [62/300], Train Loss: 0.6794, Accuracy: 0.6457\n",
            "Epoch [62/300], Val Loss: 0.6835, Accuracy: 0.5333\n",
            "Epoch [63/300], Train Loss: 0.6854, Accuracy: 0.5984\n",
            "Epoch [63/300], Val Loss: 0.6832, Accuracy: 0.5333\n",
            "Epoch [64/300], Train Loss: 0.6882, Accuracy: 0.5433\n",
            "Epoch [64/300], Val Loss: 0.6831, Accuracy: 0.5000\n",
            "Epoch [65/300], Train Loss: 0.6858, Accuracy: 0.6142\n",
            "Epoch [65/300], Val Loss: 0.6830, Accuracy: 0.5000\n",
            "Epoch [66/300], Train Loss: 0.6825, Accuracy: 0.6693\n",
            "Epoch [66/300], Val Loss: 0.6827, Accuracy: 0.5333\n",
            "Epoch [67/300], Train Loss: 0.6852, Accuracy: 0.6457\n",
            "Epoch [67/300], Val Loss: 0.6825, Accuracy: 0.5333\n",
            "Epoch [68/300], Train Loss: 0.6808, Accuracy: 0.6142\n",
            "Epoch [68/300], Val Loss: 0.6823, Accuracy: 0.5333\n",
            "Epoch [69/300], Train Loss: 0.6871, Accuracy: 0.6142\n",
            "Epoch [69/300], Val Loss: 0.6819, Accuracy: 0.5333\n",
            "Epoch [70/300], Train Loss: 0.6846, Accuracy: 0.6220\n",
            "Epoch [70/300], Val Loss: 0.6818, Accuracy: 0.5333\n",
            "Epoch [71/300], Train Loss: 0.6831, Accuracy: 0.6378\n",
            "Epoch [71/300], Val Loss: 0.6815, Accuracy: 0.5333\n",
            "Epoch [72/300], Train Loss: 0.6792, Accuracy: 0.6457\n",
            "Epoch [72/300], Val Loss: 0.6812, Accuracy: 0.5333\n",
            "Epoch [73/300], Train Loss: 0.6825, Accuracy: 0.6063\n",
            "Epoch [73/300], Val Loss: 0.6810, Accuracy: 0.5333\n",
            "Epoch [74/300], Train Loss: 0.6817, Accuracy: 0.6299\n",
            "Epoch [74/300], Val Loss: 0.6807, Accuracy: 0.5333\n",
            "Epoch [75/300], Train Loss: 0.6806, Accuracy: 0.6614\n",
            "Epoch [75/300], Val Loss: 0.6803, Accuracy: 0.5333\n",
            "Epoch [76/300], Train Loss: 0.6783, Accuracy: 0.6220\n",
            "Epoch [76/300], Val Loss: 0.6800, Accuracy: 0.5333\n",
            "Epoch [77/300], Train Loss: 0.6825, Accuracy: 0.6142\n",
            "Epoch [77/300], Val Loss: 0.6797, Accuracy: 0.5667\n",
            "Epoch [78/300], Train Loss: 0.6796, Accuracy: 0.6457\n",
            "Epoch [78/300], Val Loss: 0.6793, Accuracy: 0.5667\n",
            "Epoch [79/300], Train Loss: 0.6816, Accuracy: 0.5827\n",
            "Epoch [79/300], Val Loss: 0.6790, Accuracy: 0.5667\n",
            "Epoch [80/300], Train Loss: 0.6775, Accuracy: 0.6614\n",
            "Epoch [80/300], Val Loss: 0.6785, Accuracy: 0.5667\n",
            "Epoch [81/300], Train Loss: 0.6761, Accuracy: 0.6614\n",
            "Epoch [81/300], Val Loss: 0.6779, Accuracy: 0.5667\n",
            "Epoch [82/300], Train Loss: 0.6777, Accuracy: 0.6378\n",
            "Epoch [82/300], Val Loss: 0.6773, Accuracy: 0.5667\n",
            "Epoch [83/300], Train Loss: 0.6814, Accuracy: 0.6142\n",
            "Epoch [83/300], Val Loss: 0.6769, Accuracy: 0.5667\n",
            "Epoch [84/300], Train Loss: 0.6761, Accuracy: 0.6535\n",
            "Epoch [84/300], Val Loss: 0.6765, Accuracy: 0.5667\n",
            "Epoch [85/300], Train Loss: 0.6752, Accuracy: 0.6850\n",
            "Epoch [85/300], Val Loss: 0.6758, Accuracy: 0.5667\n",
            "Epoch [86/300], Train Loss: 0.6817, Accuracy: 0.5984\n",
            "Epoch [86/300], Val Loss: 0.6752, Accuracy: 0.5667\n",
            "Epoch [87/300], Train Loss: 0.6766, Accuracy: 0.6693\n",
            "Epoch [87/300], Val Loss: 0.6749, Accuracy: 0.6000\n",
            "Epoch [88/300], Train Loss: 0.6746, Accuracy: 0.6929\n",
            "Epoch [88/300], Val Loss: 0.6743, Accuracy: 0.6000\n",
            "Epoch [89/300], Train Loss: 0.6716, Accuracy: 0.7323\n",
            "Epoch [89/300], Val Loss: 0.6737, Accuracy: 0.6000\n",
            "Epoch [90/300], Train Loss: 0.6740, Accuracy: 0.7244\n",
            "Epoch [90/300], Val Loss: 0.6729, Accuracy: 0.6667\n",
            "Epoch [91/300], Train Loss: 0.6775, Accuracy: 0.6772\n",
            "Epoch [91/300], Val Loss: 0.6718, Accuracy: 0.6000\n",
            "Epoch [92/300], Train Loss: 0.6712, Accuracy: 0.7165\n",
            "Epoch [92/300], Val Loss: 0.6711, Accuracy: 0.6000\n",
            "Epoch [93/300], Train Loss: 0.6728, Accuracy: 0.7087\n",
            "Epoch [93/300], Val Loss: 0.6703, Accuracy: 0.6667\n",
            "Epoch [94/300], Train Loss: 0.6704, Accuracy: 0.7165\n",
            "Epoch [94/300], Val Loss: 0.6696, Accuracy: 0.7000\n",
            "Epoch [95/300], Train Loss: 0.6680, Accuracy: 0.7165\n",
            "Epoch [95/300], Val Loss: 0.6682, Accuracy: 0.6000\n",
            "Epoch [96/300], Train Loss: 0.6619, Accuracy: 0.7480\n",
            "Epoch [96/300], Val Loss: 0.6672, Accuracy: 0.6333\n",
            "Epoch [97/300], Train Loss: 0.6638, Accuracy: 0.7402\n",
            "Epoch [97/300], Val Loss: 0.6656, Accuracy: 0.7000\n",
            "Epoch [98/300], Train Loss: 0.6601, Accuracy: 0.7795\n",
            "Epoch [98/300], Val Loss: 0.6645, Accuracy: 0.7000\n",
            "Epoch [99/300], Train Loss: 0.6607, Accuracy: 0.7244\n",
            "Epoch [99/300], Val Loss: 0.6622, Accuracy: 0.6667\n",
            "Epoch [100/300], Train Loss: 0.6598, Accuracy: 0.7087\n",
            "Epoch [100/300], Val Loss: 0.6604, Accuracy: 0.6667\n",
            "Epoch [101/300], Train Loss: 0.6624, Accuracy: 0.7480\n",
            "Epoch [101/300], Val Loss: 0.6586, Accuracy: 0.6667\n",
            "Epoch [102/300], Train Loss: 0.6583, Accuracy: 0.7638\n",
            "Epoch [102/300], Val Loss: 0.6566, Accuracy: 0.6667\n",
            "Epoch [103/300], Train Loss: 0.6503, Accuracy: 0.8110\n",
            "Epoch [103/300], Val Loss: 0.6543, Accuracy: 0.6333\n",
            "Epoch [104/300], Train Loss: 0.6511, Accuracy: 0.7638\n",
            "Epoch [104/300], Val Loss: 0.6520, Accuracy: 0.6333\n",
            "Epoch [105/300], Train Loss: 0.6481, Accuracy: 0.7638\n",
            "Epoch [105/300], Val Loss: 0.6496, Accuracy: 0.6667\n",
            "Epoch [106/300], Train Loss: 0.6445, Accuracy: 0.7323\n",
            "Epoch [106/300], Val Loss: 0.6468, Accuracy: 0.6667\n",
            "Epoch [107/300], Train Loss: 0.6470, Accuracy: 0.7480\n",
            "Epoch [107/300], Val Loss: 0.6440, Accuracy: 0.7000\n",
            "Epoch [108/300], Train Loss: 0.6385, Accuracy: 0.7795\n",
            "Epoch [108/300], Val Loss: 0.6408, Accuracy: 0.7000\n",
            "Epoch [109/300], Train Loss: 0.6363, Accuracy: 0.7559\n",
            "Epoch [109/300], Val Loss: 0.6377, Accuracy: 0.6667\n",
            "Epoch [110/300], Train Loss: 0.6358, Accuracy: 0.7559\n",
            "Epoch [110/300], Val Loss: 0.6361, Accuracy: 0.7667\n",
            "Epoch [111/300], Train Loss: 0.6325, Accuracy: 0.7953\n",
            "Epoch [111/300], Val Loss: 0.6325, Accuracy: 0.7667\n",
            "Epoch [112/300], Train Loss: 0.6329, Accuracy: 0.8110\n",
            "Epoch [112/300], Val Loss: 0.6296, Accuracy: 0.7667\n",
            "Epoch [113/300], Train Loss: 0.6208, Accuracy: 0.8031\n",
            "Epoch [113/300], Val Loss: 0.6239, Accuracy: 0.8333\n",
            "Epoch [114/300], Train Loss: 0.6164, Accuracy: 0.8031\n",
            "Epoch [114/300], Val Loss: 0.6188, Accuracy: 0.8000\n",
            "Epoch [115/300], Train Loss: 0.6104, Accuracy: 0.7795\n",
            "Epoch [115/300], Val Loss: 0.6137, Accuracy: 0.8000\n",
            "Epoch [116/300], Train Loss: 0.6097, Accuracy: 0.8268\n",
            "Epoch [116/300], Val Loss: 0.6093, Accuracy: 0.8667\n",
            "Epoch [117/300], Train Loss: 0.6025, Accuracy: 0.8110\n",
            "Epoch [117/300], Val Loss: 0.6038, Accuracy: 0.8667\n",
            "Epoch [118/300], Train Loss: 0.5924, Accuracy: 0.8189\n",
            "Epoch [118/300], Val Loss: 0.6002, Accuracy: 0.8000\n",
            "Epoch [119/300], Train Loss: 0.5985, Accuracy: 0.7953\n",
            "Epoch [119/300], Val Loss: 0.5945, Accuracy: 0.8333\n",
            "Epoch [120/300], Train Loss: 0.5849, Accuracy: 0.8110\n",
            "Epoch [120/300], Val Loss: 0.5876, Accuracy: 0.8333\n",
            "Epoch [121/300], Train Loss: 0.5766, Accuracy: 0.8346\n",
            "Epoch [121/300], Val Loss: 0.5815, Accuracy: 0.8000\n",
            "Epoch [122/300], Train Loss: 0.5642, Accuracy: 0.8425\n",
            "Epoch [122/300], Val Loss: 0.5747, Accuracy: 0.8667\n",
            "Epoch [123/300], Train Loss: 0.5582, Accuracy: 0.8268\n",
            "Epoch [123/300], Val Loss: 0.5674, Accuracy: 0.8333\n",
            "Epoch [124/300], Train Loss: 0.5591, Accuracy: 0.7717\n",
            "Epoch [124/300], Val Loss: 0.5585, Accuracy: 0.8667\n",
            "Epoch [125/300], Train Loss: 0.5527, Accuracy: 0.8189\n",
            "Epoch [125/300], Val Loss: 0.5524, Accuracy: 0.8000\n",
            "Epoch [126/300], Train Loss: 0.5386, Accuracy: 0.8504\n",
            "Epoch [126/300], Val Loss: 0.5449, Accuracy: 0.8333\n",
            "Epoch [127/300], Train Loss: 0.5378, Accuracy: 0.8346\n",
            "Epoch [127/300], Val Loss: 0.5371, Accuracy: 0.8333\n",
            "Epoch [128/300], Train Loss: 0.5152, Accuracy: 0.8425\n",
            "Epoch [128/300], Val Loss: 0.5264, Accuracy: 0.8667\n",
            "Epoch [129/300], Train Loss: 0.5163, Accuracy: 0.7953\n",
            "Epoch [129/300], Val Loss: 0.5204, Accuracy: 0.8333\n",
            "Epoch [130/300], Train Loss: 0.5099, Accuracy: 0.8031\n",
            "Epoch [130/300], Val Loss: 0.5127, Accuracy: 0.8667\n",
            "Epoch [131/300], Train Loss: 0.4939, Accuracy: 0.8661\n",
            "Epoch [131/300], Val Loss: 0.5109, Accuracy: 0.8000\n",
            "Epoch [132/300], Train Loss: 0.5024, Accuracy: 0.8740\n",
            "Epoch [132/300], Val Loss: 0.4998, Accuracy: 0.8667\n",
            "Epoch [133/300], Train Loss: 0.4704, Accuracy: 0.8425\n",
            "Epoch [133/300], Val Loss: 0.4876, Accuracy: 0.8667\n",
            "Epoch [134/300], Train Loss: 0.4779, Accuracy: 0.8346\n",
            "Epoch [134/300], Val Loss: 0.4782, Accuracy: 0.8667\n",
            "Epoch [135/300], Train Loss: 0.4642, Accuracy: 0.8583\n",
            "Epoch [135/300], Val Loss: 0.4706, Accuracy: 0.8667\n",
            "Epoch [136/300], Train Loss: 0.4539, Accuracy: 0.8425\n",
            "Epoch [136/300], Val Loss: 0.4634, Accuracy: 0.8667\n",
            "Epoch [137/300], Train Loss: 0.4457, Accuracy: 0.8583\n",
            "Epoch [137/300], Val Loss: 0.4570, Accuracy: 0.8667\n",
            "Epoch [138/300], Train Loss: 0.4445, Accuracy: 0.8661\n",
            "Epoch [138/300], Val Loss: 0.4491, Accuracy: 0.8333\n",
            "Epoch [139/300], Train Loss: 0.4240, Accuracy: 0.8504\n",
            "Epoch [139/300], Val Loss: 0.4413, Accuracy: 0.8333\n",
            "Epoch [140/300], Train Loss: 0.4178, Accuracy: 0.8583\n",
            "Epoch [140/300], Val Loss: 0.4322, Accuracy: 0.8667\n",
            "Epoch [141/300], Train Loss: 0.4102, Accuracy: 0.8819\n",
            "Epoch [141/300], Val Loss: 0.4249, Accuracy: 0.8333\n",
            "Epoch [142/300], Train Loss: 0.3935, Accuracy: 0.8583\n",
            "Epoch [142/300], Val Loss: 0.4193, Accuracy: 0.8333\n",
            "Epoch [143/300], Train Loss: 0.3793, Accuracy: 0.9055\n",
            "Epoch [143/300], Val Loss: 0.4145, Accuracy: 0.8333\n",
            "Epoch [144/300], Train Loss: 0.3797, Accuracy: 0.8819\n",
            "Epoch [144/300], Val Loss: 0.4129, Accuracy: 0.8667\n",
            "Epoch [145/300], Train Loss: 0.3674, Accuracy: 0.8740\n",
            "Epoch [145/300], Val Loss: 0.4026, Accuracy: 0.8333\n",
            "Epoch [146/300], Train Loss: 0.3750, Accuracy: 0.8504\n",
            "Epoch [146/300], Val Loss: 0.3997, Accuracy: 0.8667\n",
            "Epoch [147/300], Train Loss: 0.3708, Accuracy: 0.8268\n",
            "Epoch [147/300], Val Loss: 0.3969, Accuracy: 0.8333\n",
            "Epoch [148/300], Train Loss: 0.3252, Accuracy: 0.9134\n",
            "Epoch [148/300], Val Loss: 0.3934, Accuracy: 0.8667\n",
            "Epoch [149/300], Train Loss: 0.3338, Accuracy: 0.9055\n",
            "Epoch [149/300], Val Loss: 0.3871, Accuracy: 0.8667\n",
            "Epoch [150/300], Train Loss: 0.3292, Accuracy: 0.8976\n",
            "Epoch [150/300], Val Loss: 0.3829, Accuracy: 0.8333\n",
            "Epoch [151/300], Train Loss: 0.3152, Accuracy: 0.8898\n",
            "Epoch [151/300], Val Loss: 0.3776, Accuracy: 0.8667\n",
            "Epoch [152/300], Train Loss: 0.2930, Accuracy: 0.9213\n",
            "Epoch [152/300], Val Loss: 0.3803, Accuracy: 0.8333\n",
            "Epoch [153/300], Train Loss: 0.2777, Accuracy: 0.9134\n",
            "Epoch [153/300], Val Loss: 0.3700, Accuracy: 0.8333\n",
            "Epoch [154/300], Train Loss: 0.2859, Accuracy: 0.8976\n",
            "Epoch [154/300], Val Loss: 0.3686, Accuracy: 0.8333\n",
            "Epoch [155/300], Train Loss: 0.2641, Accuracy: 0.9213\n",
            "Epoch [155/300], Val Loss: 0.3737, Accuracy: 0.8333\n",
            "Epoch [156/300], Train Loss: 0.2639, Accuracy: 0.9291\n",
            "Epoch [156/300], Val Loss: 0.3627, Accuracy: 0.8333\n",
            "Epoch [157/300], Train Loss: 0.2579, Accuracy: 0.9213\n",
            "Epoch [157/300], Val Loss: 0.3605, Accuracy: 0.8333\n",
            "Epoch [158/300], Train Loss: 0.2493, Accuracy: 0.9213\n",
            "Epoch [158/300], Val Loss: 0.3607, Accuracy: 0.8667\n",
            "Epoch [159/300], Train Loss: 0.2271, Accuracy: 0.9370\n",
            "Epoch [159/300], Val Loss: 0.3597, Accuracy: 0.8333\n",
            "Epoch [160/300], Train Loss: 0.2220, Accuracy: 0.9449\n",
            "Epoch [160/300], Val Loss: 0.3600, Accuracy: 0.8667\n",
            "Epoch [161/300], Train Loss: 0.2241, Accuracy: 0.9449\n",
            "Epoch [161/300], Val Loss: 0.3592, Accuracy: 0.8667\n",
            "Epoch [162/300], Train Loss: 0.2343, Accuracy: 0.9055\n",
            "Epoch [162/300], Val Loss: 0.3630, Accuracy: 0.8333\n",
            "Epoch [163/300], Train Loss: 0.2000, Accuracy: 0.9291\n",
            "Epoch [163/300], Val Loss: 0.3733, Accuracy: 0.8000\n",
            "Epoch [164/300], Train Loss: 0.2042, Accuracy: 0.9449\n",
            "Epoch [164/300], Val Loss: 0.3731, Accuracy: 0.8333\n",
            "Epoch [165/300], Train Loss: 0.2009, Accuracy: 0.9528\n",
            "Epoch [165/300], Val Loss: 0.4034, Accuracy: 0.8333\n",
            "Epoch [166/300], Train Loss: 0.1867, Accuracy: 0.9370\n",
            "Epoch [166/300], Val Loss: 0.3729, Accuracy: 0.8333\n",
            "Epoch [167/300], Train Loss: 0.1824, Accuracy: 0.9764\n",
            "Epoch [167/300], Val Loss: 0.3843, Accuracy: 0.7667\n",
            "Epoch [168/300], Train Loss: 0.1856, Accuracy: 0.9528\n",
            "Epoch [168/300], Val Loss: 0.3758, Accuracy: 0.8333\n",
            "Epoch [169/300], Train Loss: 0.1670, Accuracy: 0.9449\n",
            "Epoch [169/300], Val Loss: 0.3802, Accuracy: 0.7667\n",
            "Epoch [170/300], Train Loss: 0.1732, Accuracy: 0.9764\n",
            "Epoch [170/300], Val Loss: 0.3738, Accuracy: 0.8333\n",
            "Epoch [171/300], Train Loss: 0.1750, Accuracy: 0.9213\n",
            "Epoch [171/300], Val Loss: 0.3840, Accuracy: 0.8333\n",
            "Epoch [172/300], Train Loss: 0.1578, Accuracy: 0.9528\n",
            "Epoch [172/300], Val Loss: 0.4375, Accuracy: 0.8333\n",
            "Epoch [173/300], Train Loss: 0.1488, Accuracy: 0.9685\n",
            "Epoch [173/300], Val Loss: 0.3855, Accuracy: 0.8333\n",
            "Epoch [174/300], Train Loss: 0.1651, Accuracy: 0.9213\n",
            "Epoch [174/300], Val Loss: 0.3921, Accuracy: 0.8333\n",
            "Epoch [175/300], Train Loss: 0.1258, Accuracy: 0.9685\n",
            "Epoch [175/300], Val Loss: 0.4627, Accuracy: 0.7667\n",
            "Epoch [176/300], Train Loss: 0.1450, Accuracy: 0.9606\n",
            "Epoch [176/300], Val Loss: 0.3949, Accuracy: 0.8667\n",
            "Epoch [177/300], Train Loss: 0.1236, Accuracy: 0.9685\n",
            "Epoch [177/300], Val Loss: 0.3977, Accuracy: 0.8333\n",
            "Epoch [178/300], Train Loss: 0.1211, Accuracy: 0.9685\n",
            "Epoch [178/300], Val Loss: 0.4240, Accuracy: 0.7667\n",
            "Epoch [179/300], Train Loss: 0.1068, Accuracy: 0.9764\n",
            "Epoch [179/300], Val Loss: 0.4219, Accuracy: 0.7667\n",
            "Epoch [180/300], Train Loss: 0.1329, Accuracy: 0.9528\n",
            "Epoch [180/300], Val Loss: 0.4123, Accuracy: 0.8667\n",
            "Epoch [181/300], Train Loss: 0.1016, Accuracy: 0.9764\n",
            "Epoch [181/300], Val Loss: 0.4337, Accuracy: 0.7667\n",
            "Epoch [182/300], Train Loss: 0.1021, Accuracy: 0.9921\n",
            "Epoch [182/300], Val Loss: 0.4354, Accuracy: 0.7667\n",
            "Epoch [183/300], Train Loss: 0.0925, Accuracy: 0.9764\n",
            "Epoch [183/300], Val Loss: 0.4315, Accuracy: 0.8667\n",
            "Epoch [184/300], Train Loss: 0.0946, Accuracy: 0.9764\n",
            "Epoch [184/300], Val Loss: 0.4455, Accuracy: 0.7667\n",
            "Epoch [185/300], Train Loss: 0.0858, Accuracy: 0.9921\n",
            "Epoch [185/300], Val Loss: 0.4524, Accuracy: 0.7667\n",
            "Epoch [186/300], Train Loss: 0.0753, Accuracy: 0.9921\n",
            "Epoch [186/300], Val Loss: 0.4559, Accuracy: 0.8000\n",
            "Epoch [187/300], Train Loss: 0.0803, Accuracy: 0.9764\n",
            "Epoch [187/300], Val Loss: 0.4692, Accuracy: 0.7667\n",
            "Epoch [188/300], Train Loss: 0.0693, Accuracy: 0.9921\n",
            "Epoch [188/300], Val Loss: 0.4860, Accuracy: 0.7667\n",
            "Epoch [189/300], Train Loss: 0.0718, Accuracy: 0.9921\n",
            "Epoch [189/300], Val Loss: 0.4862, Accuracy: 0.7667\n",
            "Epoch [190/300], Train Loss: 0.0700, Accuracy: 0.9764\n",
            "Epoch [190/300], Val Loss: 0.4824, Accuracy: 0.8000\n",
            "Epoch [191/300], Train Loss: 0.0626, Accuracy: 0.9921\n",
            "Epoch [191/300], Val Loss: 0.5179, Accuracy: 0.7333\n",
            "Epoch [192/300], Train Loss: 0.0736, Accuracy: 0.9921\n",
            "Epoch [192/300], Val Loss: 0.5198, Accuracy: 0.7333\n",
            "Epoch [193/300], Train Loss: 0.0750, Accuracy: 0.9685\n",
            "Epoch [193/300], Val Loss: 0.4992, Accuracy: 0.8000\n",
            "Epoch [194/300], Train Loss: 0.0465, Accuracy: 0.9921\n",
            "Epoch [194/300], Val Loss: 0.5772, Accuracy: 0.7667\n",
            "Epoch [195/300], Train Loss: 0.0594, Accuracy: 1.0000\n",
            "Epoch [195/300], Val Loss: 0.5871, Accuracy: 0.7333\n",
            "Epoch [196/300], Train Loss: 0.0519, Accuracy: 0.9921\n",
            "Epoch [196/300], Val Loss: 0.5450, Accuracy: 0.8333\n",
            "Epoch [197/300], Train Loss: 0.0526, Accuracy: 0.9921\n",
            "Epoch [197/300], Val Loss: 0.5779, Accuracy: 0.7333\n",
            "Epoch [198/300], Train Loss: 0.0435, Accuracy: 1.0000\n",
            "Epoch [198/300], Val Loss: 0.6286, Accuracy: 0.7667\n",
            "Epoch [199/300], Train Loss: 0.0470, Accuracy: 1.0000\n",
            "Epoch [199/300], Val Loss: 0.5657, Accuracy: 0.7333\n",
            "Epoch [200/300], Train Loss: 0.0381, Accuracy: 1.0000\n",
            "Epoch [200/300], Val Loss: 0.5816, Accuracy: 0.7333\n",
            "Epoch [201/300], Train Loss: 0.0357, Accuracy: 1.0000\n",
            "Epoch [201/300], Val Loss: 0.6711, Accuracy: 0.7667\n",
            "Epoch [202/300], Train Loss: 0.0428, Accuracy: 1.0000\n",
            "Epoch [202/300], Val Loss: 0.6259, Accuracy: 0.7333\n",
            "Epoch [203/300], Train Loss: 0.0332, Accuracy: 1.0000\n",
            "Epoch [203/300], Val Loss: 0.6257, Accuracy: 0.7333\n",
            "Epoch [204/300], Train Loss: 0.0373, Accuracy: 1.0000\n",
            "Epoch [204/300], Val Loss: 0.6723, Accuracy: 0.7333\n",
            "Epoch [205/300], Train Loss: 0.0348, Accuracy: 1.0000\n",
            "Epoch [205/300], Val Loss: 0.6554, Accuracy: 0.7333\n",
            "Epoch [206/300], Train Loss: 0.0319, Accuracy: 1.0000\n",
            "Epoch [206/300], Val Loss: 0.6567, Accuracy: 0.7333\n",
            "Epoch [207/300], Train Loss: 0.0256, Accuracy: 1.0000\n",
            "Epoch [207/300], Val Loss: 0.7139, Accuracy: 0.7333\n",
            "Epoch [208/300], Train Loss: 0.0215, Accuracy: 1.0000\n",
            "Epoch [208/300], Val Loss: 0.7084, Accuracy: 0.7333\n",
            "Epoch [209/300], Train Loss: 0.0278, Accuracy: 1.0000\n",
            "Epoch [209/300], Val Loss: 0.6851, Accuracy: 0.7333\n",
            "Epoch [210/300], Train Loss: 0.0306, Accuracy: 1.0000\n",
            "Epoch [210/300], Val Loss: 0.7518, Accuracy: 0.7333\n",
            "Epoch [211/300], Train Loss: 0.0151, Accuracy: 1.0000\n",
            "Epoch [211/300], Val Loss: 0.7331, Accuracy: 0.7333\n",
            "No improvement in validation loss for several epochs. Stopping early.\n"
          ]
        }
      ]
    },
    {
      "cell_type": "code",
      "source": [
        "plt.figure(figsize=(15, 8))\n",
        "\n",
        "# Accuracy\n",
        "plt.plot(train_accuracy, label='Train Accuracy')\n",
        "plt.plot(val_accuracy, label='Validation Accuracy')\n",
        "plt.title('Learning Curve: Accuracy')\n",
        "plt.xlabel('Epochs')\n",
        "plt.ylabel('Accuracy')\n",
        "plt.legend()\n",
        "plt.grid(True)\n",
        "plt.show()\n",
        "\n",
        "# Precision\n",
        "plt.figure(figsize=(15, 8))\n",
        "plt.plot(train_precision_label1, label='Train Precision (Label 1)')\n",
        "plt.plot(val_precision_label1, label='Validation Precision (Label 1)')\n",
        "plt.title('Learning Curve: Precision for Label 1')\n",
        "plt.xlabel('Epochs')\n",
        "plt.ylabel('Precision')\n",
        "plt.legend()\n",
        "plt.grid(True)\n",
        "plt.show()\n",
        "\n",
        "# Recall\n",
        "plt.figure(figsize=(15, 8))\n",
        "plt.plot(train_recall_label1, label='Train Recall (Label 1)')\n",
        "plt.plot(val_recall_label1, label='Validation Recall (Label 1)')\n",
        "plt.title('Learning Curve: Recall for Label 1')\n",
        "plt.xlabel('Epochs')\n",
        "plt.ylabel('Recall')\n",
        "plt.legend()\n",
        "plt.grid(True)\n",
        "plt.show()\n",
        "\n",
        "# F1 Score\n",
        "plt.figure(figsize=(15, 8))\n",
        "plt.plot(train_f1_label1, label='Train F1 Score (Label 1)')\n",
        "plt.plot(val_f1_label1, label='Validation F1 Score (Label 1)')\n",
        "plt.title('Learning Curve: F1 Score for Label 1')\n",
        "plt.xlabel('Epochs')\n",
        "plt.ylabel('F1 Score')\n",
        "plt.legend()\n",
        "plt.grid(True)\n",
        "plt.show()\n"
      ],
      "metadata": {
        "colab": {
          "base_uri": "https://localhost:8080/",
          "height": 1000
        },
        "id": "mJoN7b9-boeA",
        "outputId": "e110036f-c81a-496f-ca8f-dd04d49d1028"
      },
      "execution_count": 77,
      "outputs": [
        {
          "output_type": "display_data",
          "data": {
            "text/plain": [
              "<Figure size 1500x800 with 1 Axes>"
            ],
            "image/png": "[encoded data removed]"
          },
          "metadata": {}
        },
        {
          "output_type": "display_data",
          "data": {
            "text/plain": [
              "<Figure size 1500x800 with 1 Axes>"
            ],
            "image/png": "[encoded data removed]"
          },
          "metadata": {}
        },
        {
          "output_type": "display_data",
          "data": {
            "text/plain": [
              "<Figure size 1500x800 with 1 Axes>"
            ],
            "image/png": "[encoded data removed]"
          },
          "metadata": {}
        },
        {
          "output_type": "display_data",
          "data": {
            "text/plain": [
              "<Figure size 1500x800 with 1 Axes>"
            ],
            "image/png": "[encoded data removed]"
          },
          "metadata": {}
        }
      ]
    },
    {
      "cell_type": "code",
      "source": [
        "model.load_state_dict(torch.load(\"best_model.pth\", map_location=device))\n",
        "model.to(device)\n",
        "model.eval()"
      ],
      "metadata": {
        "colab": {
          "base_uri": "https://localhost:8080/"
        },
        "id": "ZAxomJjXMmih",
        "outputId": "d4dbc1a5-174b-461a-a0c4-9c0c53e5eac6"
      },
      "execution_count": 78,
      "outputs": [
        {
          "output_type": "stream",
          "name": "stderr",
          "text": [
            "<ipython-input-78-9de1fadd5b5d>:1: FutureWarning: You are using `torch.load` with `weights_only=False` (the current default value), which uses the default pickle module implicitly. It is possible to construct malicious pickle data which will execute arbitrary code during unpickling (See https://github.com/pytorch/pytorch/blob/main/SECURITY.md#untrusted-models for more details). In a future release, the default value for `weights_only` will be flipped to `True`. This limits the functions that could be executed during unpickling. Arbitrary objects will no longer be allowed to be loaded via this mode unless they are explicitly allowlisted by the user via `torch.serialization.add_safe_globals`. We recommend you start setting `weights_only=True` for any use case where you don't have full control of the loaded file. Please open an issue on GitHub for any issues related to this experimental feature.\n",
            "  model.load_state_dict(torch.load(\"best_model.pth\", map_location=device))\n"
          ]
        },
        {
          "output_type": "execute_result",
          "data": {
            "text/plain": [
              "MFFNet(\n",
              "  (text_encoder): MSFastformer(\n",
              "    (layernorm_in): LayerNorm((200,), eps=1e-12, elementwise_affine=True)\n",
              "    (layernorm_out): LayerNorm((200,), eps=1e-12, elementwise_affine=True)\n",
              "    (conv1): Conv1d(200, 200, kernel_size=(1,), stride=(1,))\n",
              "    (conv3): Conv1d(200, 200, kernel_size=(3,), stride=(1,), padding=(1,))\n",
              "    (conv5): Conv1d(200, 200, kernel_size=(5,), stride=(1,), padding=(2,))\n",
              "    (fastformer_1): FastformerLayer(\n",
              "      (attention): FastAttention(\n",
              "        (self): FastSelfAttention(\n",
              "          (query): Linear(in_features=200, out_features=200, bias=True)\n",
              "          (key): Linear(in_features=200, out_features=200, bias=True)\n",
              "          (value): Linear(in_features=200, out_features=200, bias=True)\n",
              "          (query_att): Linear(in_features=100, out_features=1, bias=False)\n",
              "          (m_att): Linear(in_features=100, out_features=1, bias=False)\n",
              "          (out_proj): Linear(in_features=100, out_features=100, bias=True)\n",
              "          (merge_heads): Linear(in_features=200, out_features=200, bias=True)\n",
              "          (softmax): Softmax(dim=-1)\n",
              "        )\n",
              "        (output): Linear(in_features=200, out_features=200, bias=True)\n",
              "        (layernorm): LayerNorm((200,), eps=1e-12, elementwise_affine=True)\n",
              "      )\n",
              "      (intermediate): Linear(in_features=200, out_features=256, bias=True)\n",
              "      (output): Linear(in_features=256, out_features=200, bias=True)\n",
              "      (activation): GELU(approximate='none')\n",
              "      (layernorm): LayerNorm((200,), eps=1e-12, elementwise_affine=True)\n",
              "    )\n",
              "    (fastformer_3): FastformerLayer(\n",
              "      (attention): FastAttention(\n",
              "        (self): FastSelfAttention(\n",
              "          (query): Linear(in_features=200, out_features=200, bias=True)\n",
              "          (key): Linear(in_features=200, out_features=200, bias=True)\n",
              "          (value): Linear(in_features=200, out_features=200, bias=True)\n",
              "          (query_att): Linear(in_features=100, out_features=1, bias=False)\n",
              "          (m_att): Linear(in_features=100, out_features=1, bias=False)\n",
              "          (out_proj): Linear(in_features=100, out_features=100, bias=True)\n",
              "          (merge_heads): Linear(in_features=200, out_features=200, bias=True)\n",
              "          (softmax): Softmax(dim=-1)\n",
              "        )\n",
              "        (output): Linear(in_features=200, out_features=200, bias=True)\n",
              "        (layernorm): LayerNorm((200,), eps=1e-12, elementwise_affine=True)\n",
              "      )\n",
              "      (intermediate): Linear(in_features=200, out_features=256, bias=True)\n",
              "      (output): Linear(in_features=256, out_features=200, bias=True)\n",
              "      (activation): GELU(approximate='none')\n",
              "      (layernorm): LayerNorm((200,), eps=1e-12, elementwise_affine=True)\n",
              "    )\n",
              "    (fastformer_5): FastformerLayer(\n",
              "      (attention): FastAttention(\n",
              "        (self): FastSelfAttention(\n",
              "          (query): Linear(in_features=200, out_features=200, bias=True)\n",
              "          (key): Linear(in_features=200, out_features=200, bias=True)\n",
              "          (value): Linear(in_features=200, out_features=200, bias=True)\n",
              "          (query_att): Linear(in_features=100, out_features=1, bias=False)\n",
              "          (m_att): Linear(in_features=100, out_features=1, bias=False)\n",
              "          (out_proj): Linear(in_features=100, out_features=100, bias=True)\n",
              "          (merge_heads): Linear(in_features=200, out_features=200, bias=True)\n",
              "          (softmax): Softmax(dim=-1)\n",
              "        )\n",
              "        (output): Linear(in_features=200, out_features=200, bias=True)\n",
              "        (layernorm): LayerNorm((200,), eps=1e-12, elementwise_affine=True)\n",
              "      )\n",
              "      (intermediate): Linear(in_features=200, out_features=256, bias=True)\n",
              "      (output): Linear(in_features=256, out_features=200, bias=True)\n",
              "      (activation): GELU(approximate='none')\n",
              "      (layernorm): LayerNorm((200,), eps=1e-12, elementwise_affine=True)\n",
              "    )\n",
              "    (fc1): Linear(in_features=200, out_features=256, bias=True)\n",
              "    (fc2): Linear(in_features=256, out_features=200, bias=True)\n",
              "    (output_fc): Linear(in_features=200, out_features=200, bias=True)\n",
              "    (gelu): GELU(approximate='none')\n",
              "    (dropout): Dropout(p=0.2, inplace=False)\n",
              "  )\n",
              "  (speech_encoder): MSFastformer(\n",
              "    (layernorm_in): LayerNorm((200,), eps=1e-12, elementwise_affine=True)\n",
              "    (layernorm_out): LayerNorm((200,), eps=1e-12, elementwise_affine=True)\n",
              "    (conv1): Conv1d(200, 200, kernel_size=(1,), stride=(1,))\n",
              "    (conv3): Conv1d(200, 200, kernel_size=(3,), stride=(1,), padding=(1,))\n",
              "    (conv5): Conv1d(200, 200, kernel_size=(5,), stride=(1,), padding=(2,))\n",
              "    (fastformer_1): FastformerLayer(\n",
              "      (attention): FastAttention(\n",
              "        (self): FastSelfAttention(\n",
              "          (query): Linear(in_features=200, out_features=200, bias=True)\n",
              "          (key): Linear(in_features=200, out_features=200, bias=True)\n",
              "          (value): Linear(in_features=200, out_features=200, bias=True)\n",
              "          (query_att): Linear(in_features=100, out_features=1, bias=False)\n",
              "          (m_att): Linear(in_features=100, out_features=1, bias=False)\n",
              "          (out_proj): Linear(in_features=100, out_features=100, bias=True)\n",
              "          (merge_heads): Linear(in_features=200, out_features=200, bias=True)\n",
              "          (softmax): Softmax(dim=-1)\n",
              "        )\n",
              "        (output): Linear(in_features=200, out_features=200, bias=True)\n",
              "        (layernorm): LayerNorm((200,), eps=1e-12, elementwise_affine=True)\n",
              "      )\n",
              "      (intermediate): Linear(in_features=200, out_features=256, bias=True)\n",
              "      (output): Linear(in_features=256, out_features=200, bias=True)\n",
              "      (activation): GELU(approximate='none')\n",
              "      (layernorm): LayerNorm((200,), eps=1e-12, elementwise_affine=True)\n",
              "    )\n",
              "    (fastformer_3): FastformerLayer(\n",
              "      (attention): FastAttention(\n",
              "        (self): FastSelfAttention(\n",
              "          (query): Linear(in_features=200, out_features=200, bias=True)\n",
              "          (key): Linear(in_features=200, out_features=200, bias=True)\n",
              "          (value): Linear(in_features=200, out_features=200, bias=True)\n",
              "          (query_att): Linear(in_features=100, out_features=1, bias=False)\n",
              "          (m_att): Linear(in_features=100, out_features=1, bias=False)\n",
              "          (out_proj): Linear(in_features=100, out_features=100, bias=True)\n",
              "          (merge_heads): Linear(in_features=200, out_features=200, bias=True)\n",
              "          (softmax): Softmax(dim=-1)\n",
              "        )\n",
              "        (output): Linear(in_features=200, out_features=200, bias=True)\n",
              "        (layernorm): LayerNorm((200,), eps=1e-12, elementwise_affine=True)\n",
              "      )\n",
              "      (intermediate): Linear(in_features=200, out_features=256, bias=True)\n",
              "      (output): Linear(in_features=256, out_features=200, bias=True)\n",
              "      (activation): GELU(approximate='none')\n",
              "      (layernorm): LayerNorm((200,), eps=1e-12, elementwise_affine=True)\n",
              "    )\n",
              "    (fastformer_5): FastformerLayer(\n",
              "      (attention): FastAttention(\n",
              "        (self): FastSelfAttention(\n",
              "          (query): Linear(in_features=200, out_features=200, bias=True)\n",
              "          (key): Linear(in_features=200, out_features=200, bias=True)\n",
              "          (value): Linear(in_features=200, out_features=200, bias=True)\n",
              "          (query_att): Linear(in_features=100, out_features=1, bias=False)\n",
              "          (m_att): Linear(in_features=100, out_features=1, bias=False)\n",
              "          (out_proj): Linear(in_features=100, out_features=100, bias=True)\n",
              "          (merge_heads): Linear(in_features=200, out_features=200, bias=True)\n",
              "          (softmax): Softmax(dim=-1)\n",
              "        )\n",
              "        (output): Linear(in_features=200, out_features=200, bias=True)\n",
              "        (layernorm): LayerNorm((200,), eps=1e-12, elementwise_affine=True)\n",
              "      )\n",
              "      (intermediate): Linear(in_features=200, out_features=256, bias=True)\n",
              "      (output): Linear(in_features=256, out_features=200, bias=True)\n",
              "      (activation): GELU(approximate='none')\n",
              "      (layernorm): LayerNorm((200,), eps=1e-12, elementwise_affine=True)\n",
              "    )\n",
              "    (fc1): Linear(in_features=200, out_features=256, bias=True)\n",
              "    (fc2): Linear(in_features=256, out_features=200, bias=True)\n",
              "    (output_fc): Linear(in_features=200, out_features=200, bias=True)\n",
              "    (gelu): GELU(approximate='none')\n",
              "    (dropout): Dropout(p=0.2, inplace=False)\n",
              "  )\n",
              "  (gated_fusion): GatedFusion(\n",
              "    (fc1): Linear(in_features=400, out_features=400, bias=True)\n",
              "    (fc2): Linear(in_features=400, out_features=400, bias=True)\n",
              "    (fc3): Linear(in_features=400, out_features=200, bias=True)\n",
              "    (fc4): Linear(in_features=200, out_features=200, bias=True)\n",
              "    (relu): ReLU()\n",
              "    (sigmoid): Sigmoid()\n",
              "    (dropout): Dropout(p=0.2, inplace=False)\n",
              "  )\n",
              "  (rpm): RecurrentPyramidModel(\n",
              "    (fuse12): FuseModule(\n",
              "      (conv): Conv1x1(\n",
              "        (conv): Conv1d(200, 200, kernel_size=(1,), stride=(1,))\n",
              "      )\n",
              "    )\n",
              "    (fuse23): FuseModule(\n",
              "      (conv): Conv1x1(\n",
              "        (conv): Conv1d(200, 200, kernel_size=(1,), stride=(1,))\n",
              "      )\n",
              "    )\n",
              "    (fuse_td2): FuseModule(\n",
              "      (conv): Conv1x1(\n",
              "        (conv): Conv1d(200, 200, kernel_size=(1,), stride=(1,))\n",
              "      )\n",
              "    )\n",
              "    (fuse_td1): FuseModule(\n",
              "      (conv): Conv1x1(\n",
              "        (conv): Conv1d(200, 200, kernel_size=(1,), stride=(1,))\n",
              "      )\n",
              "    )\n",
              "    (fuse_bu2): FuseModule(\n",
              "      (conv): Conv1x1(\n",
              "        (conv): Conv1d(200, 200, kernel_size=(1,), stride=(1,))\n",
              "      )\n",
              "    )\n",
              "    (fuse_bu3): FuseModule(\n",
              "      (conv): Conv1x1(\n",
              "        (conv): Conv1d(200, 200, kernel_size=(1,), stride=(1,))\n",
              "      )\n",
              "    )\n",
              "    (downsample): Conv1d(200, 200, kernel_size=(3,), stride=(2,), padding=(1,))\n",
              "  )\n",
              "  (afm): AdaptiveFusionModule(\n",
              "    (feature_alignment): FeatureAlignment(\n",
              "      (align_convs): ModuleList(\n",
              "        (0-5): 6 x Conv1d(200, 200, kernel_size=(1,), stride=(1,))\n",
              "      )\n",
              "    )\n",
              "    (feature_fusion): MultiFeatureFusion(\n",
              "      (attention_fc): Linear(in_features=12, out_features=6, bias=True)\n",
              "      (relu): ReLU()\n",
              "      (softmax): Softmax(dim=1)\n",
              "    )\n",
              "  )\n",
              "  (classifier): Linear(in_features=200, out_features=2, bias=True)\n",
              ")"
            ]
          },
          "metadata": {},
          "execution_count": 78
        }
      ]
    },
    {
      "cell_type": "code",
      "source": [
        "all_preds = []\n",
        "all_labels = []\n",
        "\n",
        "with torch.no_grad():\n",
        "    for text_batch, audio_batch, text_mask, audio_mask, label_batch in test_loader:\n",
        "        # Move to GPU/CPU device\n",
        "        text_batch = text_batch.to(device)\n",
        "        audio_batch = audio_batch.to(device)\n",
        "        text_mask = text_mask.to(device)\n",
        "        audio_mask = audio_mask.to(device)\n",
        "        label_batch = label_batch.to(device)\n",
        "\n",
        "        # Forward pass\n",
        "        logits = model(text_batch, audio_batch, text_mask, audio_mask)\n",
        "\n",
        "        # Predicted labels\n",
        "        _, predicted = torch.max(logits, dim=1)\n",
        "\n",
        "        # Collect predictions and labels on CPU\n",
        "        all_preds.extend(predicted.cpu().numpy())\n",
        "        all_labels.extend(label_batch.cpu().numpy())\n",
        "\n",
        "# Convert to NumPy arrays\n",
        "all_preds = np.array(all_preds)\n",
        "all_labels = np.array(all_labels)"
      ],
      "metadata": {
        "id": "WkIIVTuaNgMB"
      },
      "execution_count": 79,
      "outputs": []
    },
    {
      "cell_type": "code",
      "source": [
        "from sklearn.metrics import classification_report\n",
        "\n",
        "print(classification_report(all_labels, all_preds, target_names=['Class 0', 'Class 1']))\n"
      ],
      "metadata": {
        "colab": {
          "base_uri": "https://localhost:8080/"
        },
        "id": "8YaFDDP5Nlbu",
        "outputId": "a2b1aa49-76b2-402d-d518-98c85587b324"
      },
      "execution_count": 80,
      "outputs": [
        {
          "output_type": "stream",
          "name": "stdout",
          "text": [
            "              precision    recall  f1-score   support\n",
            "\n",
            "     Class 0       1.00      0.81      0.89        21\n",
            "     Class 1       0.69      1.00      0.82         9\n",
            "\n",
            "    accuracy                           0.87        30\n",
            "   macro avg       0.85      0.90      0.86        30\n",
            "weighted avg       0.91      0.87      0.87        30\n",
            "\n"
          ]
        }
      ]
    }
  ]
}